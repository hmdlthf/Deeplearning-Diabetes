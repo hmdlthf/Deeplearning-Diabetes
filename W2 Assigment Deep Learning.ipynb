{
 "cells": [
  {
   "cell_type": "code",
   "execution_count": 55,
   "metadata": {},
   "outputs": [
    {
     "name": "stdout",
     "output_type": "stream",
     "text": [
      "tf.Tensor(-758.76044, shape=(), dtype=float32)\n"
     ]
    }
   ],
   "source": [
    "# Mengecek instalasi tensorflow\n",
    "import tensorflow as tf\n",
    "print(tf.reduce_sum(tf.random.normal([1000, 1000])))"
   ]
  },
  {
   "cell_type": "code",
   "execution_count": 56,
   "metadata": {},
   "outputs": [
    {
     "data": {
      "text/plain": [
       "'2.12.0'"
      ]
     },
     "execution_count": 56,
     "metadata": {},
     "output_type": "execute_result"
    }
   ],
   "source": [
    "tf.__version__"
   ]
  },
  {
   "cell_type": "code",
   "execution_count": 57,
   "metadata": {
    "executionInfo": {
     "elapsed": 392,
     "status": "ok",
     "timestamp": 1708013293209,
     "user": {
      "displayName": "Ahmad Lutfi",
      "userId": "14568177636171038922"
     },
     "user_tz": -420
    },
    "id": "6dZvID7Tdqbb"
   },
   "outputs": [],
   "source": [
    "#Import library\n",
    "import numpy as np\n",
    "import pandas as pd\n",
    "import matplotlib.pyplot as plt\n",
    "import seaborn as sns\n",
    "import tensorflow as tf\n",
    "\n",
    "from sklearn.model_selection import train_test_split, KFold, cross_val_score\n",
    "from sklearn.preprocessing import MinMaxScaler, StandardScaler\n",
    "from sklearn.pipeline import Pipeline\n",
    "from sklearn.metrics import (confusion_matrix, classification_report, ConfusionMatrixDisplay, precision_score, recall_score, f1_score, accuracy_score, roc_auc_score, roc_curve, RocCurveDisplay)\n",
    "from tensorflow.keras.models import Sequential\n",
    "from tensorflow.keras.layers import Dense, Activation, Dropout\n",
    "from tensorflow.keras.wrappers.scikit_learn import KerasClassifier\n",
    "from tensorflow.keras.utils import plot_model\n",
    "from tensorflow.keras.wrappers.scikit_learn import KerasClassifier"
   ]
  },
  {
   "cell_type": "code",
   "execution_count": 58,
   "metadata": {
    "colab": {
     "base_uri": "https://localhost:8080/",
     "height": 206
    },
    "executionInfo": {
     "elapsed": 22,
     "status": "ok",
     "timestamp": 1708013300686,
     "user": {
      "displayName": "Ahmad Lutfi",
      "userId": "14568177636171038922"
     },
     "user_tz": -420
    },
    "id": "TJB-2XHIhnRX",
    "outputId": "0dde6d20-e279-478f-e639-083b748d2dc5"
   },
   "outputs": [
    {
     "data": {
      "text/html": [
       "<div>\n",
       "<style scoped>\n",
       "    .dataframe tbody tr th:only-of-type {\n",
       "        vertical-align: middle;\n",
       "    }\n",
       "\n",
       "    .dataframe tbody tr th {\n",
       "        vertical-align: top;\n",
       "    }\n",
       "\n",
       "    .dataframe thead th {\n",
       "        text-align: right;\n",
       "    }\n",
       "</style>\n",
       "<table border=\"1\" class=\"dataframe\">\n",
       "  <thead>\n",
       "    <tr style=\"text-align: right;\">\n",
       "      <th></th>\n",
       "      <th>6</th>\n",
       "      <th>148</th>\n",
       "      <th>72</th>\n",
       "      <th>35</th>\n",
       "      <th>0</th>\n",
       "      <th>33.6</th>\n",
       "      <th>0.627</th>\n",
       "      <th>50</th>\n",
       "      <th>1</th>\n",
       "    </tr>\n",
       "  </thead>\n",
       "  <tbody>\n",
       "    <tr>\n",
       "      <th>0</th>\n",
       "      <td>1</td>\n",
       "      <td>85</td>\n",
       "      <td>66</td>\n",
       "      <td>29</td>\n",
       "      <td>0</td>\n",
       "      <td>26.6</td>\n",
       "      <td>0.351</td>\n",
       "      <td>31</td>\n",
       "      <td>0</td>\n",
       "    </tr>\n",
       "    <tr>\n",
       "      <th>1</th>\n",
       "      <td>8</td>\n",
       "      <td>183</td>\n",
       "      <td>64</td>\n",
       "      <td>0</td>\n",
       "      <td>0</td>\n",
       "      <td>23.3</td>\n",
       "      <td>0.672</td>\n",
       "      <td>32</td>\n",
       "      <td>1</td>\n",
       "    </tr>\n",
       "    <tr>\n",
       "      <th>2</th>\n",
       "      <td>1</td>\n",
       "      <td>89</td>\n",
       "      <td>66</td>\n",
       "      <td>23</td>\n",
       "      <td>94</td>\n",
       "      <td>28.1</td>\n",
       "      <td>0.167</td>\n",
       "      <td>21</td>\n",
       "      <td>0</td>\n",
       "    </tr>\n",
       "    <tr>\n",
       "      <th>3</th>\n",
       "      <td>0</td>\n",
       "      <td>137</td>\n",
       "      <td>40</td>\n",
       "      <td>35</td>\n",
       "      <td>168</td>\n",
       "      <td>43.1</td>\n",
       "      <td>2.288</td>\n",
       "      <td>33</td>\n",
       "      <td>1</td>\n",
       "    </tr>\n",
       "    <tr>\n",
       "      <th>4</th>\n",
       "      <td>5</td>\n",
       "      <td>116</td>\n",
       "      <td>74</td>\n",
       "      <td>0</td>\n",
       "      <td>0</td>\n",
       "      <td>25.6</td>\n",
       "      <td>0.201</td>\n",
       "      <td>30</td>\n",
       "      <td>0</td>\n",
       "    </tr>\n",
       "  </tbody>\n",
       "</table>\n",
       "</div>"
      ],
      "text/plain": [
       "   6  148  72  35    0  33.6  0.627  50  1\n",
       "0  1   85  66  29    0  26.6  0.351  31  0\n",
       "1  8  183  64   0    0  23.3  0.672  32  1\n",
       "2  1   89  66  23   94  28.1  0.167  21  0\n",
       "3  0  137  40  35  168  43.1  2.288  33  1\n",
       "4  5  116  74   0    0  25.6  0.201  30  0"
      ]
     },
     "execution_count": 58,
     "metadata": {},
     "output_type": "execute_result"
    }
   ],
   "source": [
    "df_pima_diabetes = pd.read_csv('pima-indians-diabetes.csv')\n",
    "df_pima_diabetes.head()"
   ]
  },
  {
   "cell_type": "code",
   "execution_count": 59,
   "metadata": {
    "colab": {
     "base_uri": "https://localhost:8080/",
     "height": 206
    },
    "executionInfo": {
     "elapsed": 19,
     "status": "ok",
     "timestamp": 1708013300686,
     "user": {
      "displayName": "Ahmad Lutfi",
      "userId": "14568177636171038922"
     },
     "user_tz": -420
    },
    "id": "LFS6xprzi4WU",
    "outputId": "c959eddb-eb82-4d02-b40a-203d77b50e7c"
   },
   "outputs": [
    {
     "data": {
      "text/html": [
       "<div>\n",
       "<style scoped>\n",
       "    .dataframe tbody tr th:only-of-type {\n",
       "        vertical-align: middle;\n",
       "    }\n",
       "\n",
       "    .dataframe tbody tr th {\n",
       "        vertical-align: top;\n",
       "    }\n",
       "\n",
       "    .dataframe thead th {\n",
       "        text-align: right;\n",
       "    }\n",
       "</style>\n",
       "<table border=\"1\" class=\"dataframe\">\n",
       "  <thead>\n",
       "    <tr style=\"text-align: right;\">\n",
       "      <th></th>\n",
       "      <th>Pregnancies</th>\n",
       "      <th>PlasmaGlucose</th>\n",
       "      <th>DiastolicBloodPressure</th>\n",
       "      <th>TricepsThickness</th>\n",
       "      <th>SerumInsulin</th>\n",
       "      <th>BMI</th>\n",
       "      <th>DiabetesPedigree</th>\n",
       "      <th>Age</th>\n",
       "      <th>Diabetic</th>\n",
       "    </tr>\n",
       "  </thead>\n",
       "  <tbody>\n",
       "    <tr>\n",
       "      <th>0</th>\n",
       "      <td>6</td>\n",
       "      <td>148</td>\n",
       "      <td>72</td>\n",
       "      <td>35</td>\n",
       "      <td>0</td>\n",
       "      <td>33.6</td>\n",
       "      <td>0.627</td>\n",
       "      <td>50</td>\n",
       "      <td>1</td>\n",
       "    </tr>\n",
       "    <tr>\n",
       "      <th>1</th>\n",
       "      <td>1</td>\n",
       "      <td>85</td>\n",
       "      <td>66</td>\n",
       "      <td>29</td>\n",
       "      <td>0</td>\n",
       "      <td>26.6</td>\n",
       "      <td>0.351</td>\n",
       "      <td>31</td>\n",
       "      <td>0</td>\n",
       "    </tr>\n",
       "    <tr>\n",
       "      <th>2</th>\n",
       "      <td>8</td>\n",
       "      <td>183</td>\n",
       "      <td>64</td>\n",
       "      <td>0</td>\n",
       "      <td>0</td>\n",
       "      <td>23.3</td>\n",
       "      <td>0.672</td>\n",
       "      <td>32</td>\n",
       "      <td>1</td>\n",
       "    </tr>\n",
       "    <tr>\n",
       "      <th>3</th>\n",
       "      <td>1</td>\n",
       "      <td>89</td>\n",
       "      <td>66</td>\n",
       "      <td>23</td>\n",
       "      <td>94</td>\n",
       "      <td>28.1</td>\n",
       "      <td>0.167</td>\n",
       "      <td>21</td>\n",
       "      <td>0</td>\n",
       "    </tr>\n",
       "    <tr>\n",
       "      <th>4</th>\n",
       "      <td>0</td>\n",
       "      <td>137</td>\n",
       "      <td>40</td>\n",
       "      <td>35</td>\n",
       "      <td>168</td>\n",
       "      <td>43.1</td>\n",
       "      <td>2.288</td>\n",
       "      <td>33</td>\n",
       "      <td>1</td>\n",
       "    </tr>\n",
       "  </tbody>\n",
       "</table>\n",
       "</div>"
      ],
      "text/plain": [
       "   Pregnancies  PlasmaGlucose  DiastolicBloodPressure  TricepsThickness  \\\n",
       "0            6            148                      72                35   \n",
       "1            1             85                      66                29   \n",
       "2            8            183                      64                 0   \n",
       "3            1             89                      66                23   \n",
       "4            0            137                      40                35   \n",
       "\n",
       "   SerumInsulin   BMI  DiabetesPedigree  Age  Diabetic  \n",
       "0             0  33.6             0.627   50         1  \n",
       "1             0  26.6             0.351   31         0  \n",
       "2             0  23.3             0.672   32         1  \n",
       "3            94  28.1             0.167   21         0  \n",
       "4           168  43.1             2.288   33         1  "
      ]
     },
     "execution_count": 59,
     "metadata": {},
     "output_type": "execute_result"
    }
   ],
   "source": [
    "#Merubah nama kolom dari angka ke nama\n",
    "df_pima_diabetes = pd.read_csv('pima-indians-diabetes.csv', names=['Pregnancies', 'PlasmaGlucose', 'DiastolicBloodPressure', 'TricepsThickness', 'SerumInsulin', 'BMI', 'DiabetesPedigree', 'Age', 'Diabetic'])\n",
    "df_pima_diabetes.head()"
   ]
  },
  {
   "cell_type": "code",
   "execution_count": 60,
   "metadata": {
    "colab": {
     "base_uri": "https://localhost:8080/"
    },
    "executionInfo": {
     "elapsed": 16,
     "status": "ok",
     "timestamp": 1708013300687,
     "user": {
      "displayName": "Ahmad Lutfi",
      "userId": "14568177636171038922"
     },
     "user_tz": -420
    },
    "id": "MQc2W8eAkfDl",
    "outputId": "98662d42-fc4b-49ab-e4ea-e72775dd8164"
   },
   "outputs": [
    {
     "data": {
      "text/plain": [
       "Pregnancies               0.0\n",
       "PlasmaGlucose             0.0\n",
       "DiastolicBloodPressure    0.0\n",
       "TricepsThickness          0.0\n",
       "SerumInsulin              0.0\n",
       "BMI                       0.0\n",
       "DiabetesPedigree          0.0\n",
       "Age                       0.0\n",
       "Diabetic                  0.0\n",
       "dtype: float64"
      ]
     },
     "execution_count": 60,
     "metadata": {},
     "output_type": "execute_result"
    }
   ],
   "source": [
    "#Mengecek nilai missing values\n",
    "df_pima_diabetes.isnull().mean()"
   ]
  },
  {
   "cell_type": "markdown",
   "metadata": {
    "id": "kyWwgiXnlUEn"
   },
   "source": [
    "data diatas tidak memiliki nilai missing values"
   ]
  },
  {
   "cell_type": "code",
   "execution_count": 61,
   "metadata": {
    "colab": {
     "base_uri": "https://localhost:8080/",
     "height": 667
    },
    "executionInfo": {
     "elapsed": 709,
     "status": "ok",
     "timestamp": 1708013301382,
     "user": {
      "displayName": "Ahmad Lutfi",
      "userId": "14568177636171038922"
     },
     "user_tz": -420
    },
    "id": "HqDOp0MAvzH3",
    "outputId": "c92a886b-0fbc-4d30-da24-90d99a5a98f3"
   },
   "outputs": [
    {
     "name": "stderr",
     "output_type": "stream",
     "text": [
      "C:\\Users\\sahab\\AppData\\Local\\Temp\\ipykernel_18312\\1896363959.py:1: UserWarning: \n",
      "\n",
      "`distplot` is a deprecated function and will be removed in seaborn v0.14.0.\n",
      "\n",
      "Please adapt your code to use either `displot` (a figure-level function with\n",
      "similar flexibility) or `histplot` (an axes-level function for histograms).\n",
      "\n",
      "For a guide to updating your code to use the new functions, please see\n",
      "https://gist.github.com/mwaskom/de44147ed2974457ad6372750bbe5751\n",
      "\n",
      "  sns.distplot(df_pima_diabetes['Age'])\n",
      "D:\\LUTFI\\Anacnda\\Lib\\site-packages\\seaborn\\_oldcore.py:1119: FutureWarning: use_inf_as_na option is deprecated and will be removed in a future version. Convert inf values to NaN before operating instead.\n",
      "  with pd.option_context('mode.use_inf_as_na', True):\n"
     ]
    },
    {
     "data": {
      "text/plain": [
       "<Axes: xlabel='Age', ylabel='Density'>"
      ]
     },
     "execution_count": 61,
     "metadata": {},
     "output_type": "execute_result"
    },
    {
     "data": {
      "image/png": "[encoded data removed]",
      "text/plain": [
       "<Figure size 640x480 with 1 Axes>"
      ]
     },
     "metadata": {},
     "output_type": "display_data"
    }
   ],
   "source": [
    "sns.distplot(df_pima_diabetes['Age'])"
   ]
  },
  {
   "cell_type": "code",
   "execution_count": 62,
   "metadata": {
    "colab": {
     "base_uri": "https://localhost:8080/"
    },
    "executionInfo": {
     "elapsed": 415,
     "status": "ok",
     "timestamp": 1708013328106,
     "user": {
      "displayName": "Ahmad Lutfi",
      "userId": "14568177636171038922"
     },
     "user_tz": -420
    },
    "id": "8eQmrYvKlHCe",
    "outputId": "3fba2dee-46e4-4498-fae2-7aed09294efe"
   },
   "outputs": [
    {
     "name": "stdout",
     "output_type": "stream",
     "text": [
      "<class 'pandas.core.frame.DataFrame'>\n",
      "RangeIndex: 768 entries, 0 to 767\n",
      "Data columns (total 9 columns):\n",
      " #   Column                  Non-Null Count  Dtype  \n",
      "---  ------                  --------------  -----  \n",
      " 0   Pregnancies             768 non-null    int64  \n",
      " 1   PlasmaGlucose           768 non-null    int64  \n",
      " 2   DiastolicBloodPressure  768 non-null    int64  \n",
      " 3   TricepsThickness        768 non-null    int64  \n",
      " 4   SerumInsulin            768 non-null    int64  \n",
      " 5   BMI                     768 non-null    float64\n",
      " 6   DiabetesPedigree        768 non-null    float64\n",
      " 7   Age                     768 non-null    int64  \n",
      " 8   Diabetic                768 non-null    int64  \n",
      "dtypes: float64(2), int64(7)\n",
      "memory usage: 54.1 KB\n"
     ]
    }
   ],
   "source": [
    "#Menlihat tipe-tipe data pada data set pima diabetes\n",
    "df_pima_diabetes.info()"
   ]
  },
  {
   "cell_type": "code",
   "execution_count": 63,
   "metadata": {
    "executionInfo": {
     "elapsed": 417,
     "status": "ok",
     "timestamp": 1708013331580,
     "user": {
      "displayName": "Ahmad Lutfi",
      "userId": "14568177636171038922"
     },
     "user_tz": -420
    },
    "id": "b-i6OpbBl4TW"
   },
   "outputs": [],
   "source": [
    "#Mendefinisikan features X dan target y\n",
    "X = df_pima_diabetes.drop('Diabetic', axis=1)\n",
    "y = df_pima_diabetes['Diabetic']"
   ]
  },
  {
   "cell_type": "code",
   "execution_count": 64,
   "metadata": {
    "colab": {
     "base_uri": "https://localhost:8080/",
     "height": 206
    },
    "executionInfo": {
     "elapsed": 8,
     "status": "ok",
     "timestamp": 1708013334242,
     "user": {
      "displayName": "Ahmad Lutfi",
      "userId": "14568177636171038922"
     },
     "user_tz": -420
    },
    "id": "yGON35ZQmiQ_",
    "outputId": "83be2563-f006-49d7-b00f-aa20b15f35af"
   },
   "outputs": [
    {
     "data": {
      "text/html": [
       "<div>\n",
       "<style scoped>\n",
       "    .dataframe tbody tr th:only-of-type {\n",
       "        vertical-align: middle;\n",
       "    }\n",
       "\n",
       "    .dataframe tbody tr th {\n",
       "        vertical-align: top;\n",
       "    }\n",
       "\n",
       "    .dataframe thead th {\n",
       "        text-align: right;\n",
       "    }\n",
       "</style>\n",
       "<table border=\"1\" class=\"dataframe\">\n",
       "  <thead>\n",
       "    <tr style=\"text-align: right;\">\n",
       "      <th></th>\n",
       "      <th>Pregnancies</th>\n",
       "      <th>PlasmaGlucose</th>\n",
       "      <th>DiastolicBloodPressure</th>\n",
       "      <th>TricepsThickness</th>\n",
       "      <th>SerumInsulin</th>\n",
       "      <th>BMI</th>\n",
       "      <th>DiabetesPedigree</th>\n",
       "      <th>Age</th>\n",
       "    </tr>\n",
       "  </thead>\n",
       "  <tbody>\n",
       "    <tr>\n",
       "      <th>0</th>\n",
       "      <td>6</td>\n",
       "      <td>148</td>\n",
       "      <td>72</td>\n",
       "      <td>35</td>\n",
       "      <td>0</td>\n",
       "      <td>33.6</td>\n",
       "      <td>0.627</td>\n",
       "      <td>50</td>\n",
       "    </tr>\n",
       "    <tr>\n",
       "      <th>1</th>\n",
       "      <td>1</td>\n",
       "      <td>85</td>\n",
       "      <td>66</td>\n",
       "      <td>29</td>\n",
       "      <td>0</td>\n",
       "      <td>26.6</td>\n",
       "      <td>0.351</td>\n",
       "      <td>31</td>\n",
       "    </tr>\n",
       "    <tr>\n",
       "      <th>2</th>\n",
       "      <td>8</td>\n",
       "      <td>183</td>\n",
       "      <td>64</td>\n",
       "      <td>0</td>\n",
       "      <td>0</td>\n",
       "      <td>23.3</td>\n",
       "      <td>0.672</td>\n",
       "      <td>32</td>\n",
       "    </tr>\n",
       "    <tr>\n",
       "      <th>3</th>\n",
       "      <td>1</td>\n",
       "      <td>89</td>\n",
       "      <td>66</td>\n",
       "      <td>23</td>\n",
       "      <td>94</td>\n",
       "      <td>28.1</td>\n",
       "      <td>0.167</td>\n",
       "      <td>21</td>\n",
       "    </tr>\n",
       "    <tr>\n",
       "      <th>4</th>\n",
       "      <td>0</td>\n",
       "      <td>137</td>\n",
       "      <td>40</td>\n",
       "      <td>35</td>\n",
       "      <td>168</td>\n",
       "      <td>43.1</td>\n",
       "      <td>2.288</td>\n",
       "      <td>33</td>\n",
       "    </tr>\n",
       "  </tbody>\n",
       "</table>\n",
       "</div>"
      ],
      "text/plain": [
       "   Pregnancies  PlasmaGlucose  DiastolicBloodPressure  TricepsThickness  \\\n",
       "0            6            148                      72                35   \n",
       "1            1             85                      66                29   \n",
       "2            8            183                      64                 0   \n",
       "3            1             89                      66                23   \n",
       "4            0            137                      40                35   \n",
       "\n",
       "   SerumInsulin   BMI  DiabetesPedigree  Age  \n",
       "0             0  33.6             0.627   50  \n",
       "1             0  26.6             0.351   31  \n",
       "2             0  23.3             0.672   32  \n",
       "3            94  28.1             0.167   21  \n",
       "4           168  43.1             2.288   33  "
      ]
     },
     "execution_count": 64,
     "metadata": {},
     "output_type": "execute_result"
    }
   ],
   "source": [
    "#Melihat 5 kolom X teratas\n",
    "X.head()"
   ]
  },
  {
   "cell_type": "code",
   "execution_count": 65,
   "metadata": {
    "colab": {
     "base_uri": "https://localhost:8080/"
    },
    "executionInfo": {
     "elapsed": 11,
     "status": "ok",
     "timestamp": 1708013337474,
     "user": {
      "displayName": "Ahmad Lutfi",
      "userId": "14568177636171038922"
     },
     "user_tz": -420
    },
    "id": "JDOSKN8Cm0sX",
    "outputId": "4b8bf210-f628-457e-fd67-6ad8b22b21f3"
   },
   "outputs": [
    {
     "data": {
      "text/plain": [
       "0    1\n",
       "1    0\n",
       "2    1\n",
       "3    0\n",
       "4    1\n",
       "Name: Diabetic, dtype: int64"
      ]
     },
     "execution_count": 65,
     "metadata": {},
     "output_type": "execute_result"
    }
   ],
   "source": [
    "#Melihat kolom target (y)\n",
    "y.head()"
   ]
  },
  {
   "cell_type": "markdown",
   "metadata": {
    "id": "TMcU2Qz4ncLO"
   },
   "source": [
    "**Splitting Data sebelum preprocessing**"
   ]
  },
  {
   "cell_type": "code",
   "execution_count": 66,
   "metadata": {
    "colab": {
     "base_uri": "https://localhost:8080/"
    },
    "executionInfo": {
     "elapsed": 402,
     "status": "ok",
     "timestamp": 1708013340499,
     "user": {
      "displayName": "Ahmad Lutfi",
      "userId": "14568177636171038922"
     },
     "user_tz": -420
    },
    "id": "ToCVzaUpna6q",
    "outputId": "95b4c8a2-2f1b-4967-8cab-0618565d1b23"
   },
   "outputs": [
    {
     "name": "stdout",
     "output_type": "stream",
     "text": [
      "(614, 8) (154, 8)\n"
     ]
    }
   ],
   "source": [
    "#Splitting Data\n",
    "X_train, X_test, y_train, y_test = train_test_split(X, y, test_size=0.2, random_state=0)\n",
    "\n",
    "#reset index\n",
    "for i in [X_train, X_test, y_train, y_test]:\n",
    "  i.reset_index(drop=True, inplace=True)\n",
    "\n",
    "#Melihat dimensi\n",
    "print(X_train.shape, X_test.shape)"
   ]
  },
  {
   "cell_type": "markdown",
   "metadata": {
    "id": "2Pti7ybWpWXZ"
   },
   "source": [
    "Preprocessing **dataset**"
   ]
  },
  {
   "cell_type": "code",
   "execution_count": 67,
   "metadata": {
    "executionInfo": {
     "elapsed": 4,
     "status": "ok",
     "timestamp": 1708013343684,
     "user": {
      "displayName": "Ahmad Lutfi",
      "userId": "14568177636171038922"
     },
     "user_tz": -420
    },
    "id": "jgF5JA5cpjy2"
   },
   "outputs": [],
   "source": [
    "#Melakukan feature scaling data dengan MinMaxscaler\n",
    "minmax = MinMaxScaler()\n",
    "X_train = minmax.fit_transform(X_train)\n",
    "X_test = minmax.transform(X_test)"
   ]
  },
  {
   "cell_type": "code",
   "execution_count": 68,
   "metadata": {
    "colab": {
     "base_uri": "https://localhost:8080/",
     "height": 206
    },
    "executionInfo": {
     "elapsed": 13,
     "status": "ok",
     "timestamp": 1708013346327,
     "user": {
      "displayName": "Ahmad Lutfi",
      "userId": "14568177636171038922"
     },
     "user_tz": -420
    },
    "id": "q6n0lh3ytinc",
    "outputId": "3afa1752-1f48-47a6-922e-5098f07f0d65"
   },
   "outputs": [
    {
     "data": {
      "text/html": [
       "<div>\n",
       "<style scoped>\n",
       "    .dataframe tbody tr th:only-of-type {\n",
       "        vertical-align: middle;\n",
       "    }\n",
       "\n",
       "    .dataframe tbody tr th {\n",
       "        vertical-align: top;\n",
       "    }\n",
       "\n",
       "    .dataframe thead th {\n",
       "        text-align: right;\n",
       "    }\n",
       "</style>\n",
       "<table border=\"1\" class=\"dataframe\">\n",
       "  <thead>\n",
       "    <tr style=\"text-align: right;\">\n",
       "      <th></th>\n",
       "      <th>Pregnancies</th>\n",
       "      <th>PlasmaGlucose</th>\n",
       "      <th>DiastolicBloodPressure</th>\n",
       "      <th>TricepsThickness</th>\n",
       "      <th>SerumInsulin</th>\n",
       "      <th>BMI</th>\n",
       "      <th>DiabetesPedigree</th>\n",
       "      <th>Age</th>\n",
       "    </tr>\n",
       "  </thead>\n",
       "  <tbody>\n",
       "    <tr>\n",
       "      <th>0</th>\n",
       "      <td>0.411765</td>\n",
       "      <td>0.757576</td>\n",
       "      <td>0.639344</td>\n",
       "      <td>0.292929</td>\n",
       "      <td>0.148936</td>\n",
       "      <td>0.524590</td>\n",
       "      <td>0.262169</td>\n",
       "      <td>0.550000</td>\n",
       "    </tr>\n",
       "    <tr>\n",
       "      <th>1</th>\n",
       "      <td>0.235294</td>\n",
       "      <td>0.489899</td>\n",
       "      <td>0.491803</td>\n",
       "      <td>0.232323</td>\n",
       "      <td>0.000000</td>\n",
       "      <td>0.420268</td>\n",
       "      <td>0.155850</td>\n",
       "      <td>0.016667</td>\n",
       "    </tr>\n",
       "    <tr>\n",
       "      <th>2</th>\n",
       "      <td>0.000000</td>\n",
       "      <td>0.833333</td>\n",
       "      <td>0.737705</td>\n",
       "      <td>0.333333</td>\n",
       "      <td>0.803783</td>\n",
       "      <td>0.779434</td>\n",
       "      <td>0.149018</td>\n",
       "      <td>0.033333</td>\n",
       "    </tr>\n",
       "    <tr>\n",
       "      <th>3</th>\n",
       "      <td>0.058824</td>\n",
       "      <td>0.550505</td>\n",
       "      <td>0.459016</td>\n",
       "      <td>0.212121</td>\n",
       "      <td>0.159574</td>\n",
       "      <td>0.375559</td>\n",
       "      <td>0.322374</td>\n",
       "      <td>0.033333</td>\n",
       "    </tr>\n",
       "    <tr>\n",
       "      <th>4</th>\n",
       "      <td>0.470588</td>\n",
       "      <td>0.606061</td>\n",
       "      <td>0.000000</td>\n",
       "      <td>0.000000</td>\n",
       "      <td>0.000000</td>\n",
       "      <td>0.447094</td>\n",
       "      <td>0.044833</td>\n",
       "      <td>0.283333</td>\n",
       "    </tr>\n",
       "  </tbody>\n",
       "</table>\n",
       "</div>"
      ],
      "text/plain": [
       "   Pregnancies  PlasmaGlucose  DiastolicBloodPressure  TricepsThickness  \\\n",
       "0     0.411765       0.757576                0.639344          0.292929   \n",
       "1     0.235294       0.489899                0.491803          0.232323   \n",
       "2     0.000000       0.833333                0.737705          0.333333   \n",
       "3     0.058824       0.550505                0.459016          0.212121   \n",
       "4     0.470588       0.606061                0.000000          0.000000   \n",
       "\n",
       "   SerumInsulin       BMI  DiabetesPedigree       Age  \n",
       "0      0.148936  0.524590          0.262169  0.550000  \n",
       "1      0.000000  0.420268          0.155850  0.016667  \n",
       "2      0.803783  0.779434          0.149018  0.033333  \n",
       "3      0.159574  0.375559          0.322374  0.033333  \n",
       "4      0.000000  0.447094          0.044833  0.283333  "
      ]
     },
     "execution_count": 68,
     "metadata": {},
     "output_type": "execute_result"
    }
   ],
   "source": [
    "#Melihat X_train\n",
    "X_train = pd.DataFrame(X_train, columns= minmax.get_feature_names_out())\n",
    "X_train.head()"
   ]
  },
  {
   "cell_type": "code",
   "execution_count": 69,
   "metadata": {
    "colab": {
     "base_uri": "https://localhost:8080/",
     "height": 206
    },
    "executionInfo": {
     "elapsed": 449,
     "status": "ok",
     "timestamp": 1708013350441,
     "user": {
      "displayName": "Ahmad Lutfi",
      "userId": "14568177636171038922"
     },
     "user_tz": -420
    },
    "id": "Pod8SzGuuxEa",
    "outputId": "7d462646-042b-45f9-abe6-c0c8e566a678"
   },
   "outputs": [
    {
     "data": {
      "text/html": [
       "<div>\n",
       "<style scoped>\n",
       "    .dataframe tbody tr th:only-of-type {\n",
       "        vertical-align: middle;\n",
       "    }\n",
       "\n",
       "    .dataframe tbody tr th {\n",
       "        vertical-align: top;\n",
       "    }\n",
       "\n",
       "    .dataframe thead th {\n",
       "        text-align: right;\n",
       "    }\n",
       "</style>\n",
       "<table border=\"1\" class=\"dataframe\">\n",
       "  <thead>\n",
       "    <tr style=\"text-align: right;\">\n",
       "      <th></th>\n",
       "      <th>Pregnancies</th>\n",
       "      <th>PlasmaGlucose</th>\n",
       "      <th>DiastolicBloodPressure</th>\n",
       "      <th>TricepsThickness</th>\n",
       "      <th>SerumInsulin</th>\n",
       "      <th>BMI</th>\n",
       "      <th>DiabetesPedigree</th>\n",
       "      <th>Age</th>\n",
       "    </tr>\n",
       "  </thead>\n",
       "  <tbody>\n",
       "    <tr>\n",
       "      <th>0</th>\n",
       "      <td>0.058824</td>\n",
       "      <td>1.005051</td>\n",
       "      <td>0.622951</td>\n",
       "      <td>0.434343</td>\n",
       "      <td>0.000000</td>\n",
       "      <td>0.639344</td>\n",
       "      <td>0.561913</td>\n",
       "      <td>0.016667</td>\n",
       "    </tr>\n",
       "    <tr>\n",
       "      <th>1</th>\n",
       "      <td>0.117647</td>\n",
       "      <td>0.540404</td>\n",
       "      <td>0.606557</td>\n",
       "      <td>0.303030</td>\n",
       "      <td>0.118203</td>\n",
       "      <td>0.500745</td>\n",
       "      <td>0.139197</td>\n",
       "      <td>0.033333</td>\n",
       "    </tr>\n",
       "    <tr>\n",
       "      <th>2</th>\n",
       "      <td>0.235294</td>\n",
       "      <td>0.383838</td>\n",
       "      <td>0.508197</td>\n",
       "      <td>0.000000</td>\n",
       "      <td>0.000000</td>\n",
       "      <td>0.506706</td>\n",
       "      <td>0.133646</td>\n",
       "      <td>0.066667</td>\n",
       "    </tr>\n",
       "    <tr>\n",
       "      <th>3</th>\n",
       "      <td>0.294118</td>\n",
       "      <td>0.838384</td>\n",
       "      <td>0.590164</td>\n",
       "      <td>0.191919</td>\n",
       "      <td>0.206856</td>\n",
       "      <td>0.384501</td>\n",
       "      <td>0.217336</td>\n",
       "      <td>0.500000</td>\n",
       "    </tr>\n",
       "    <tr>\n",
       "      <th>4</th>\n",
       "      <td>0.000000</td>\n",
       "      <td>0.560606</td>\n",
       "      <td>0.532787</td>\n",
       "      <td>0.000000</td>\n",
       "      <td>0.000000</td>\n",
       "      <td>0.366617</td>\n",
       "      <td>0.248506</td>\n",
       "      <td>0.166667</td>\n",
       "    </tr>\n",
       "  </tbody>\n",
       "</table>\n",
       "</div>"
      ],
      "text/plain": [
       "   Pregnancies  PlasmaGlucose  DiastolicBloodPressure  TricepsThickness  \\\n",
       "0     0.058824       1.005051                0.622951          0.434343   \n",
       "1     0.117647       0.540404                0.606557          0.303030   \n",
       "2     0.235294       0.383838                0.508197          0.000000   \n",
       "3     0.294118       0.838384                0.590164          0.191919   \n",
       "4     0.000000       0.560606                0.532787          0.000000   \n",
       "\n",
       "   SerumInsulin       BMI  DiabetesPedigree       Age  \n",
       "0      0.000000  0.639344          0.561913  0.016667  \n",
       "1      0.118203  0.500745          0.139197  0.033333  \n",
       "2      0.000000  0.506706          0.133646  0.066667  \n",
       "3      0.206856  0.384501          0.217336  0.500000  \n",
       "4      0.000000  0.366617          0.248506  0.166667  "
      ]
     },
     "execution_count": 69,
     "metadata": {},
     "output_type": "execute_result"
    }
   ],
   "source": [
    "#melihat X_test\n",
    "X_test = pd.DataFrame(X_test, columns = minmax.get_feature_names_out())\n",
    "X_test.head()"
   ]
  },
  {
   "cell_type": "markdown",
   "metadata": {
    "id": "HMDzmcwdwMli"
   },
   "source": [
    "**Mendefinisikan model keras**"
   ]
  },
  {
   "cell_type": "code",
   "execution_count": 70,
   "metadata": {
    "executionInfo": {
     "elapsed": 624,
     "status": "ok",
     "timestamp": 1708013354306,
     "user": {
      "displayName": "Ahmad Lutfi",
      "userId": "14568177636171038922"
     },
     "user_tz": -420
    },
    "id": "Fg1jp4yjwRva"
   },
   "outputs": [],
   "source": [
    "#mendefinisikan model keras\n",
    "model = Sequential()\n",
    "model.add(Dense(12, input_shape=(8,), activation='relu'))\n",
    "model.add(Dense(8, activation='relu'))\n",
    "model.add(Dense(1, activation='sigmoid'))"
   ]
  },
  {
   "cell_type": "markdown",
   "metadata": {
    "id": "_bB8XjwBxuVX"
   },
   "source": [
    "**Menjalankan Model Keras**"
   ]
  },
  {
   "cell_type": "code",
   "execution_count": 71,
   "metadata": {
    "executionInfo": {
     "elapsed": 474,
     "status": "ok",
     "timestamp": 1708013356406,
     "user": {
      "displayName": "Ahmad Lutfi",
      "userId": "14568177636171038922"
     },
     "user_tz": -420
    },
    "id": "hpEPVRx4xs3q"
   },
   "outputs": [],
   "source": [
    "#setting model keras dengan loss function dan optimizer\n",
    "model.compile(loss='binary_crossentropy',optimizer=tf.keras.optimizers.Adam(), metrics=['accuracy'])"
   ]
  },
  {
   "cell_type": "code",
   "execution_count": 72,
   "metadata": {
    "colab": {
     "base_uri": "https://localhost:8080/"
    },
    "executionInfo": {
     "elapsed": 629,
     "status": "ok",
     "timestamp": 1708013359455,
     "user": {
      "displayName": "Ahmad Lutfi",
      "userId": "14568177636171038922"
     },
     "user_tz": -420
    },
    "id": "Vs4OwDl40qib",
    "outputId": "c41da2db-e3ec-4afd-a7d1-58118c39e077"
   },
   "outputs": [
    {
     "name": "stdout",
     "output_type": "stream",
     "text": [
      "Model: \"sequential_1\"\n",
      "_________________________________________________________________\n",
      " Layer (type)                Output Shape              Param #   \n",
      "=================================================================\n",
      " dense_3 (Dense)             (None, 12)                108       \n",
      "                                                                 \n",
      " dense_4 (Dense)             (None, 8)                 104       \n",
      "                                                                 \n",
      " dense_5 (Dense)             (None, 1)                 9         \n",
      "                                                                 \n",
      "=================================================================\n",
      "Total params: 221\n",
      "Trainable params: 221\n",
      "Non-trainable params: 0\n",
      "_________________________________________________________________\n"
     ]
    }
   ],
   "source": [
    "#melihat ringkasan proses model\n",
    "model.summary()"
   ]
  },
  {
   "cell_type": "markdown",
   "metadata": {
    "id": "9TdKuvUh09cH"
   },
   "source": [
    "**Melakukan training model**\n",
    "\n"
   ]
  },
  {
   "cell_type": "code",
   "execution_count": 73,
   "metadata": {
    "colab": {
     "base_uri": "https://localhost:8080/"
    },
    "executionInfo": {
     "elapsed": 11721,
     "status": "ok",
     "timestamp": 1708013374862,
     "user": {
      "displayName": "Ahmad Lutfi",
      "userId": "14568177636171038922"
     },
     "user_tz": -420
    },
    "id": "MvIlNlMp1QRT",
    "outputId": "648ad509-4b86-4289-88e9-bb61214a993a"
   },
   "outputs": [
    {
     "name": "stdout",
     "output_type": "stream",
     "text": [
      "Epoch 1/100\n",
      "13/13 [==============================] - 2s 30ms/step - loss: 0.7246 - accuracy: 0.3697 - val_loss: 0.7185 - val_accuracy: 0.3117\n",
      "Epoch 2/100\n",
      "13/13 [==============================] - 0s 5ms/step - loss: 0.7012 - accuracy: 0.4381 - val_loss: 0.6904 - val_accuracy: 0.5584\n",
      "Epoch 3/100\n",
      "13/13 [==============================] - 0s 6ms/step - loss: 0.6851 - accuracy: 0.6091 - val_loss: 0.6746 - val_accuracy: 0.6818\n",
      "Epoch 4/100\n",
      "13/13 [==============================] - 0s 5ms/step - loss: 0.6779 - accuracy: 0.6515 - val_loss: 0.6622 - val_accuracy: 0.6948\n",
      "Epoch 5/100\n",
      "13/13 [==============================] - 0s 5ms/step - loss: 0.6719 - accuracy: 0.6498 - val_loss: 0.6536 - val_accuracy: 0.7078\n",
      "Epoch 6/100\n",
      "13/13 [==============================] - 0s 5ms/step - loss: 0.6666 - accuracy: 0.6531 - val_loss: 0.6475 - val_accuracy: 0.7078\n",
      "Epoch 7/100\n",
      "13/13 [==============================] - 0s 5ms/step - loss: 0.6620 - accuracy: 0.6547 - val_loss: 0.6423 - val_accuracy: 0.7013\n",
      "Epoch 8/100\n",
      "13/13 [==============================] - 0s 5ms/step - loss: 0.6580 - accuracy: 0.6531 - val_loss: 0.6374 - val_accuracy: 0.7013\n",
      "Epoch 9/100\n",
      "13/13 [==============================] - 0s 5ms/step - loss: 0.6537 - accuracy: 0.6515 - val_loss: 0.6323 - val_accuracy: 0.7013\n",
      "Epoch 10/100\n",
      "13/13 [==============================] - 0s 5ms/step - loss: 0.6492 - accuracy: 0.6531 - val_loss: 0.6267 - val_accuracy: 0.7013\n",
      "Epoch 11/100\n",
      "13/13 [==============================] - 0s 5ms/step - loss: 0.6449 - accuracy: 0.6531 - val_loss: 0.6204 - val_accuracy: 0.7013\n",
      "Epoch 12/100\n",
      "13/13 [==============================] - 0s 5ms/step - loss: 0.6406 - accuracy: 0.6515 - val_loss: 0.6140 - val_accuracy: 0.6948\n",
      "Epoch 13/100\n",
      "13/13 [==============================] - 0s 5ms/step - loss: 0.6361 - accuracy: 0.6547 - val_loss: 0.6096 - val_accuracy: 0.6948\n",
      "Epoch 14/100\n",
      "13/13 [==============================] - 0s 4ms/step - loss: 0.6312 - accuracy: 0.6547 - val_loss: 0.6051 - val_accuracy: 0.6948\n",
      "Epoch 15/100\n",
      "13/13 [==============================] - 0s 5ms/step - loss: 0.6268 - accuracy: 0.6547 - val_loss: 0.6016 - val_accuracy: 0.7143\n",
      "Epoch 16/100\n",
      "13/13 [==============================] - 0s 8ms/step - loss: 0.6225 - accuracy: 0.6612 - val_loss: 0.5946 - val_accuracy: 0.7143\n",
      "Epoch 17/100\n",
      "13/13 [==============================] - 0s 5ms/step - loss: 0.6185 - accuracy: 0.6580 - val_loss: 0.5886 - val_accuracy: 0.7143\n",
      "Epoch 18/100\n",
      "13/13 [==============================] - 0s 5ms/step - loss: 0.6145 - accuracy: 0.6661 - val_loss: 0.5846 - val_accuracy: 0.7143\n",
      "Epoch 19/100\n",
      "13/13 [==============================] - 0s 5ms/step - loss: 0.6103 - accuracy: 0.6661 - val_loss: 0.5816 - val_accuracy: 0.7078\n",
      "Epoch 20/100\n",
      "13/13 [==============================] - 0s 4ms/step - loss: 0.6062 - accuracy: 0.6726 - val_loss: 0.5768 - val_accuracy: 0.7013\n",
      "Epoch 21/100\n",
      "13/13 [==============================] - 0s 5ms/step - loss: 0.6020 - accuracy: 0.6889 - val_loss: 0.5728 - val_accuracy: 0.6948\n",
      "Epoch 22/100\n",
      "13/13 [==============================] - 0s 5ms/step - loss: 0.5986 - accuracy: 0.6889 - val_loss: 0.5671 - val_accuracy: 0.6948\n",
      "Epoch 23/100\n",
      "13/13 [==============================] - 0s 5ms/step - loss: 0.5945 - accuracy: 0.6971 - val_loss: 0.5673 - val_accuracy: 0.7208\n",
      "Epoch 24/100\n",
      "13/13 [==============================] - 0s 6ms/step - loss: 0.5915 - accuracy: 0.6889 - val_loss: 0.5632 - val_accuracy: 0.7208\n",
      "Epoch 25/100\n",
      "13/13 [==============================] - 0s 5ms/step - loss: 0.5877 - accuracy: 0.6954 - val_loss: 0.5563 - val_accuracy: 0.7143\n",
      "Epoch 26/100\n",
      "13/13 [==============================] - 0s 5ms/step - loss: 0.5851 - accuracy: 0.6906 - val_loss: 0.5520 - val_accuracy: 0.7143\n",
      "Epoch 27/100\n",
      "13/13 [==============================] - 0s 5ms/step - loss: 0.5824 - accuracy: 0.6938 - val_loss: 0.5509 - val_accuracy: 0.7273\n",
      "Epoch 28/100\n",
      "13/13 [==============================] - 0s 5ms/step - loss: 0.5780 - accuracy: 0.6954 - val_loss: 0.5456 - val_accuracy: 0.7338\n",
      "Epoch 29/100\n",
      "13/13 [==============================] - 0s 5ms/step - loss: 0.5751 - accuracy: 0.7020 - val_loss: 0.5410 - val_accuracy: 0.7273\n",
      "Epoch 30/100\n",
      "13/13 [==============================] - 0s 5ms/step - loss: 0.5713 - accuracy: 0.7036 - val_loss: 0.5392 - val_accuracy: 0.7273\n",
      "Epoch 31/100\n",
      "13/13 [==============================] - 0s 5ms/step - loss: 0.5693 - accuracy: 0.7134 - val_loss: 0.5408 - val_accuracy: 0.7013\n",
      "Epoch 32/100\n",
      "13/13 [==============================] - 0s 5ms/step - loss: 0.5652 - accuracy: 0.7134 - val_loss: 0.5349 - val_accuracy: 0.7143\n",
      "Epoch 33/100\n",
      "13/13 [==============================] - 0s 5ms/step - loss: 0.5614 - accuracy: 0.7215 - val_loss: 0.5267 - val_accuracy: 0.7273\n",
      "Epoch 34/100\n",
      "13/13 [==============================] - 0s 5ms/step - loss: 0.5597 - accuracy: 0.7296 - val_loss: 0.5288 - val_accuracy: 0.7078\n",
      "Epoch 35/100\n",
      "13/13 [==============================] - 0s 5ms/step - loss: 0.5555 - accuracy: 0.7231 - val_loss: 0.5228 - val_accuracy: 0.7273\n",
      "Epoch 36/100\n",
      "13/13 [==============================] - 0s 5ms/step - loss: 0.5528 - accuracy: 0.7248 - val_loss: 0.5204 - val_accuracy: 0.7208\n",
      "Epoch 37/100\n",
      "13/13 [==============================] - 0s 5ms/step - loss: 0.5495 - accuracy: 0.7264 - val_loss: 0.5166 - val_accuracy: 0.7143\n",
      "Epoch 38/100\n",
      "13/13 [==============================] - 0s 5ms/step - loss: 0.5472 - accuracy: 0.7345 - val_loss: 0.5142 - val_accuracy: 0.7208\n",
      "Epoch 39/100\n",
      "13/13 [==============================] - 0s 5ms/step - loss: 0.5431 - accuracy: 0.7410 - val_loss: 0.5090 - val_accuracy: 0.7208\n",
      "Epoch 40/100\n",
      "13/13 [==============================] - 0s 5ms/step - loss: 0.5419 - accuracy: 0.7427 - val_loss: 0.5074 - val_accuracy: 0.7208\n",
      "Epoch 41/100\n",
      "13/13 [==============================] - 0s 5ms/step - loss: 0.5394 - accuracy: 0.7427 - val_loss: 0.5058 - val_accuracy: 0.7273\n",
      "Epoch 42/100\n",
      "13/13 [==============================] - 0s 5ms/step - loss: 0.5374 - accuracy: 0.7394 - val_loss: 0.5075 - val_accuracy: 0.7208\n",
      "Epoch 43/100\n",
      "13/13 [==============================] - 0s 5ms/step - loss: 0.5363 - accuracy: 0.7410 - val_loss: 0.5001 - val_accuracy: 0.7338\n",
      "Epoch 44/100\n",
      "13/13 [==============================] - 0s 5ms/step - loss: 0.5323 - accuracy: 0.7427 - val_loss: 0.4984 - val_accuracy: 0.7208\n",
      "Epoch 45/100\n",
      "13/13 [==============================] - 0s 5ms/step - loss: 0.5308 - accuracy: 0.7378 - val_loss: 0.4964 - val_accuracy: 0.7208\n",
      "Epoch 46/100\n",
      "13/13 [==============================] - 0s 5ms/step - loss: 0.5287 - accuracy: 0.7427 - val_loss: 0.4962 - val_accuracy: 0.7338\n",
      "Epoch 47/100\n",
      "13/13 [==============================] - 0s 5ms/step - loss: 0.5269 - accuracy: 0.7427 - val_loss: 0.4922 - val_accuracy: 0.7273\n",
      "Epoch 48/100\n",
      "13/13 [==============================] - 0s 5ms/step - loss: 0.5263 - accuracy: 0.7410 - val_loss: 0.4945 - val_accuracy: 0.7338\n",
      "Epoch 49/100\n",
      "13/13 [==============================] - 0s 5ms/step - loss: 0.5232 - accuracy: 0.7476 - val_loss: 0.4885 - val_accuracy: 0.7273\n",
      "Epoch 50/100\n",
      "13/13 [==============================] - 0s 5ms/step - loss: 0.5221 - accuracy: 0.7508 - val_loss: 0.4845 - val_accuracy: 0.7273\n",
      "Epoch 51/100\n",
      "13/13 [==============================] - 0s 5ms/step - loss: 0.5198 - accuracy: 0.7476 - val_loss: 0.4851 - val_accuracy: 0.7338\n",
      "Epoch 52/100\n",
      "13/13 [==============================] - 0s 5ms/step - loss: 0.5187 - accuracy: 0.7508 - val_loss: 0.4823 - val_accuracy: 0.7403\n",
      "Epoch 53/100\n",
      "13/13 [==============================] - 0s 5ms/step - loss: 0.5177 - accuracy: 0.7541 - val_loss: 0.4856 - val_accuracy: 0.7338\n",
      "Epoch 54/100\n",
      "13/13 [==============================] - 0s 5ms/step - loss: 0.5159 - accuracy: 0.7476 - val_loss: 0.4796 - val_accuracy: 0.7468\n",
      "Epoch 55/100\n",
      "13/13 [==============================] - 0s 5ms/step - loss: 0.5144 - accuracy: 0.7524 - val_loss: 0.4799 - val_accuracy: 0.7403\n",
      "Epoch 56/100\n",
      "13/13 [==============================] - 0s 5ms/step - loss: 0.5125 - accuracy: 0.7557 - val_loss: 0.4759 - val_accuracy: 0.7468\n",
      "Epoch 57/100\n",
      "13/13 [==============================] - 0s 5ms/step - loss: 0.5120 - accuracy: 0.7557 - val_loss: 0.4741 - val_accuracy: 0.7468\n",
      "Epoch 58/100\n",
      "13/13 [==============================] - 0s 5ms/step - loss: 0.5097 - accuracy: 0.7557 - val_loss: 0.4751 - val_accuracy: 0.7468\n",
      "Epoch 59/100\n",
      "13/13 [==============================] - 0s 5ms/step - loss: 0.5090 - accuracy: 0.7476 - val_loss: 0.4715 - val_accuracy: 0.7532\n",
      "Epoch 60/100\n",
      "13/13 [==============================] - 0s 5ms/step - loss: 0.5075 - accuracy: 0.7590 - val_loss: 0.4669 - val_accuracy: 0.7727\n",
      "Epoch 61/100\n",
      "13/13 [==============================] - 0s 5ms/step - loss: 0.5074 - accuracy: 0.7492 - val_loss: 0.4716 - val_accuracy: 0.7532\n",
      "Epoch 62/100\n",
      "13/13 [==============================] - 0s 5ms/step - loss: 0.5086 - accuracy: 0.7638 - val_loss: 0.4629 - val_accuracy: 0.7922\n",
      "Epoch 63/100\n",
      "13/13 [==============================] - 0s 5ms/step - loss: 0.5010 - accuracy: 0.7704 - val_loss: 0.4701 - val_accuracy: 0.7597\n",
      "Epoch 64/100\n",
      "13/13 [==============================] - 0s 5ms/step - loss: 0.5014 - accuracy: 0.7541 - val_loss: 0.4646 - val_accuracy: 0.7597\n",
      "Epoch 65/100\n",
      "13/13 [==============================] - 0s 5ms/step - loss: 0.4997 - accuracy: 0.7638 - val_loss: 0.4628 - val_accuracy: 0.7662\n",
      "Epoch 66/100\n",
      "13/13 [==============================] - 0s 4ms/step - loss: 0.4999 - accuracy: 0.7671 - val_loss: 0.4610 - val_accuracy: 0.7792\n",
      "Epoch 67/100\n",
      "13/13 [==============================] - 0s 7ms/step - loss: 0.5023 - accuracy: 0.7459 - val_loss: 0.4707 - val_accuracy: 0.7662\n",
      "Epoch 68/100\n",
      "13/13 [==============================] - 0s 5ms/step - loss: 0.4982 - accuracy: 0.7720 - val_loss: 0.4572 - val_accuracy: 0.7922\n",
      "Epoch 69/100\n",
      "13/13 [==============================] - 0s 5ms/step - loss: 0.4965 - accuracy: 0.7769 - val_loss: 0.4627 - val_accuracy: 0.7597\n",
      "Epoch 70/100\n",
      "13/13 [==============================] - 0s 5ms/step - loss: 0.4965 - accuracy: 0.7573 - val_loss: 0.4613 - val_accuracy: 0.7662\n",
      "Epoch 71/100\n",
      "13/13 [==============================] - 0s 5ms/step - loss: 0.4954 - accuracy: 0.7606 - val_loss: 0.4585 - val_accuracy: 0.7662\n",
      "Epoch 72/100\n",
      "13/13 [==============================] - 0s 5ms/step - loss: 0.4964 - accuracy: 0.7720 - val_loss: 0.4545 - val_accuracy: 0.7792\n",
      "Epoch 73/100\n",
      "13/13 [==============================] - 0s 5ms/step - loss: 0.4955 - accuracy: 0.7557 - val_loss: 0.4654 - val_accuracy: 0.7597\n",
      "Epoch 74/100\n",
      "13/13 [==============================] - 0s 5ms/step - loss: 0.4948 - accuracy: 0.7557 - val_loss: 0.4547 - val_accuracy: 0.7857\n",
      "Epoch 75/100\n",
      "13/13 [==============================] - 0s 5ms/step - loss: 0.4929 - accuracy: 0.7769 - val_loss: 0.4542 - val_accuracy: 0.7857\n",
      "Epoch 76/100\n",
      "13/13 [==============================] - 0s 5ms/step - loss: 0.4916 - accuracy: 0.7704 - val_loss: 0.4563 - val_accuracy: 0.7727\n",
      "Epoch 77/100\n",
      "13/13 [==============================] - 0s 5ms/step - loss: 0.4914 - accuracy: 0.7720 - val_loss: 0.4532 - val_accuracy: 0.7857\n",
      "Epoch 78/100\n",
      "13/13 [==============================] - 0s 5ms/step - loss: 0.4906 - accuracy: 0.7736 - val_loss: 0.4554 - val_accuracy: 0.7727\n",
      "Epoch 79/100\n",
      "13/13 [==============================] - 0s 5ms/step - loss: 0.4898 - accuracy: 0.7687 - val_loss: 0.4531 - val_accuracy: 0.7857\n",
      "Epoch 80/100\n",
      "13/13 [==============================] - 0s 4ms/step - loss: 0.4889 - accuracy: 0.7720 - val_loss: 0.4533 - val_accuracy: 0.7792\n",
      "Epoch 81/100\n",
      "13/13 [==============================] - 0s 4ms/step - loss: 0.4885 - accuracy: 0.7704 - val_loss: 0.4515 - val_accuracy: 0.7857\n",
      "Epoch 82/100\n",
      "13/13 [==============================] - 0s 5ms/step - loss: 0.4883 - accuracy: 0.7736 - val_loss: 0.4531 - val_accuracy: 0.7727\n",
      "Epoch 83/100\n",
      "13/13 [==============================] - 0s 4ms/step - loss: 0.4886 - accuracy: 0.7704 - val_loss: 0.4492 - val_accuracy: 0.7857\n",
      "Epoch 84/100\n",
      "13/13 [==============================] - 0s 4ms/step - loss: 0.4877 - accuracy: 0.7720 - val_loss: 0.4500 - val_accuracy: 0.7857\n",
      "Epoch 85/100\n",
      "13/13 [==============================] - 0s 5ms/step - loss: 0.4871 - accuracy: 0.7769 - val_loss: 0.4493 - val_accuracy: 0.7727\n",
      "Epoch 86/100\n",
      "13/13 [==============================] - 0s 5ms/step - loss: 0.4866 - accuracy: 0.7704 - val_loss: 0.4534 - val_accuracy: 0.7792\n",
      "Epoch 87/100\n",
      "13/13 [==============================] - 0s 5ms/step - loss: 0.4866 - accuracy: 0.7818 - val_loss: 0.4460 - val_accuracy: 0.7857\n",
      "Epoch 88/100\n",
      "13/13 [==============================] - 0s 5ms/step - loss: 0.4855 - accuracy: 0.7736 - val_loss: 0.4475 - val_accuracy: 0.7857\n",
      "Epoch 89/100\n",
      "13/13 [==============================] - 0s 5ms/step - loss: 0.4857 - accuracy: 0.7720 - val_loss: 0.4478 - val_accuracy: 0.7792\n",
      "Epoch 90/100\n",
      "13/13 [==============================] - 0s 5ms/step - loss: 0.4849 - accuracy: 0.7736 - val_loss: 0.4463 - val_accuracy: 0.7792\n",
      "Epoch 91/100\n",
      "13/13 [==============================] - 0s 13ms/step - loss: 0.4849 - accuracy: 0.7752 - val_loss: 0.4455 - val_accuracy: 0.7857\n",
      "Epoch 92/100\n",
      "13/13 [==============================] - 0s 14ms/step - loss: 0.4842 - accuracy: 0.7769 - val_loss: 0.4496 - val_accuracy: 0.7792\n",
      "Epoch 93/100\n",
      "13/13 [==============================] - 0s 5ms/step - loss: 0.4842 - accuracy: 0.7704 - val_loss: 0.4466 - val_accuracy: 0.7792\n",
      "Epoch 94/100\n",
      "13/13 [==============================] - 0s 5ms/step - loss: 0.4844 - accuracy: 0.7687 - val_loss: 0.4483 - val_accuracy: 0.7792\n",
      "Epoch 95/100\n",
      "13/13 [==============================] - 0s 4ms/step - loss: 0.4857 - accuracy: 0.7687 - val_loss: 0.4492 - val_accuracy: 0.7792\n",
      "Epoch 96/100\n",
      "13/13 [==============================] - 0s 4ms/step - loss: 0.4825 - accuracy: 0.7752 - val_loss: 0.4424 - val_accuracy: 0.7922\n",
      "Epoch 97/100\n",
      "13/13 [==============================] - 0s 4ms/step - loss: 0.4845 - accuracy: 0.7785 - val_loss: 0.4432 - val_accuracy: 0.7857\n",
      "Epoch 98/100\n",
      "13/13 [==============================] - 0s 5ms/step - loss: 0.4828 - accuracy: 0.7769 - val_loss: 0.4443 - val_accuracy: 0.7922\n",
      "Epoch 99/100\n",
      "13/13 [==============================] - 0s 5ms/step - loss: 0.4821 - accuracy: 0.7752 - val_loss: 0.4477 - val_accuracy: 0.7792\n",
      "Epoch 100/100\n",
      "13/13 [==============================] - 0s 5ms/step - loss: 0.4818 - accuracy: 0.7736 - val_loss: 0.4432 - val_accuracy: 0.7922\n"
     ]
    }
   ],
   "source": [
    "# Mulai melakukan training model\n",
    "run_model = model.fit(X_train, y_train, batch_size=50, epochs=100, verbose=1, validation_data = (X_test, y_test))"
   ]
  },
  {
   "cell_type": "markdown",
   "metadata": {
    "id": "sgx2gjeW3qfN"
   },
   "source": [
    "**Hasil dari proses fitting di atas memunculkan 2 nilai utama:**\n",
    "\n",
    "*loss* = ini merupakan nilai yang ingin diminimasi. Semakin kecil nilainya maka semakin dekat kita dengan nilai y yang sesungguhnya.\n",
    "\n",
    "*accuracy* = nilai akurasi dari hasil klasifikasi yang kita lakukan, artinya seberapa banyak label yang berhasil kita prediksi.\n",
    "\n",
    "*val_loss* = nilai loss di test set\n",
    "\n",
    "*val_accuracy* = nilai akurasi di test set"
   ]
  },
  {
   "cell_type": "code",
   "execution_count": 74,
   "metadata": {
    "colab": {
     "base_uri": "https://localhost:8080/"
    },
    "executionInfo": {
     "elapsed": 398,
     "status": "ok",
     "timestamp": 1708013379686,
     "user": {
      "displayName": "Ahmad Lutfi",
      "userId": "14568177636171038922"
     },
     "user_tz": -420
    },
    "id": "tN9owT8h_MbZ",
    "outputId": "ff908432-5ecc-4f43-c9d2-897d1f89f243"
   },
   "outputs": [
    {
     "name": "stdout",
     "output_type": "stream",
     "text": [
      "dict_keys(['loss', 'accuracy', 'val_loss', 'val_accuracy'])\n"
     ]
    }
   ],
   "source": [
    "#melihat parameter yang disimpan\n",
    "print(run_model.history.keys())"
   ]
  },
  {
   "cell_type": "code",
   "execution_count": 75,
   "metadata": {
    "colab": {
     "base_uri": "https://localhost:8080/",
     "height": 472
    },
    "executionInfo": {
     "elapsed": 1082,
     "status": "ok",
     "timestamp": 1708013383183,
     "user": {
      "displayName": "Ahmad Lutfi",
      "userId": "14568177636171038922"
     },
     "user_tz": -420
    },
    "id": "ppbiUKW9_0tB",
    "outputId": "c15f8c22-3227-4b80-876f-46c32be57cae"
   },
   "outputs": [
    {
     "data": {
      "image/png": "[encoded data removed]",
      "text/plain": [
       "<Figure size 640x480 with 1 Axes>"
      ]
     },
     "metadata": {},
     "output_type": "display_data"
    }
   ],
   "source": [
    "# Proses plotting accuracy selama proses training\n",
    "plt.plot(run_model.history['accuracy'])\n",
    "plt.plot(run_model.history['val_accuracy'])\n",
    "plt.title('Akurasi Model')\n",
    "plt.ylabel('akurasi')\n",
    "plt.xlabel('epoch')\n",
    "plt.legend(['train', 'test'], loc=0)\n",
    "plt.show()"
   ]
  },
  {
   "cell_type": "code",
   "execution_count": 76,
   "metadata": {
    "colab": {
     "base_uri": "https://localhost:8080/",
     "height": 472
    },
    "executionInfo": {
     "elapsed": 1303,
     "status": "ok",
     "timestamp": 1708013393563,
     "user": {
      "displayName": "Ahmad Lutfi",
      "userId": "14568177636171038922"
     },
     "user_tz": -420
    },
    "id": "AZJK_cKVAJZT",
    "outputId": "d6bd91f1-a8b3-4ffb-d80c-bea411bbd539"
   },
   "outputs": [
    {
     "data": {
      "image/png": "[encoded data removed]",
      "text/plain": [
       "<Figure size 640x480 with 1 Axes>"
      ]
     },
     "metadata": {},
     "output_type": "display_data"
    }
   ],
   "source": [
    "# Proses plotting loss selama proses training\n",
    "plt.plot(run_model.history['loss'])\n",
    "plt.plot(run_model.history['val_loss'])\n",
    "plt.title('Model Loss')\n",
    "plt.ylabel('loss')\n",
    "plt.xlabel('epoch')\n",
    "plt.legend(['train', 'test'], loc=0)\n",
    "plt.show()"
   ]
  },
  {
   "cell_type": "markdown",
   "metadata": {
    "id": "bjNiANe6AS0R"
   },
   "source": [
    "Memprediksi X_test"
   ]
  },
  {
   "cell_type": "code",
   "execution_count": 77,
   "metadata": {
    "colab": {
     "base_uri": "https://localhost:8080/"
    },
    "executionInfo": {
     "elapsed": 440,
     "status": "ok",
     "timestamp": 1708013399246,
     "user": {
      "displayName": "Ahmad Lutfi",
      "userId": "14568177636171038922"
     },
     "user_tz": -420
    },
    "id": "qQtViDJOARqM",
    "outputId": "e54f3d8c-a5d7-4807-d60a-63c8150c01e0"
   },
   "outputs": [
    {
     "name": "stdout",
     "output_type": "stream",
     "text": [
      "5/5 [==============================] - 0s 2ms/step\n"
     ]
    },
    {
     "data": {
      "text/plain": [
       "array([[0.9440655 ],\n",
       "       [0.14822401],\n",
       "       [0.09515002],\n",
       "       [0.69531643],\n",
       "       [0.1476649 ],\n",
       "       [0.05237813],\n",
       "       [0.7009287 ],\n",
       "       [0.85127467],\n",
       "       [0.4299386 ],\n",
       "       [0.37029243],\n",
       "       [0.5934355 ],\n",
       "       [0.9500358 ],\n",
       "       [0.3749894 ],\n",
       "       [0.25724378],\n",
       "       [0.16186826],\n",
       "       [0.18996961],\n",
       "       [0.85129523],\n",
       "       [0.05649902],\n",
       "       [0.49480003],\n",
       "       [0.26456872],\n",
       "       [0.6121783 ],\n",
       "       [0.30884048],\n",
       "       [0.37145728],\n",
       "       [0.08161236],\n",
       "       [0.05833814],\n",
       "       [0.3645423 ],\n",
       "       [0.07022247],\n",
       "       [0.84281194],\n",
       "       [0.12289844],\n",
       "       [0.15246737],\n",
       "       [0.507897  ],\n",
       "       [0.2578862 ],\n",
       "       [0.08608119],\n",
       "       [0.51857686],\n",
       "       [0.13044436],\n",
       "       [0.67817354],\n",
       "       [0.4305899 ],\n",
       "       [0.07914441],\n",
       "       [0.43132976],\n",
       "       [0.7484037 ],\n",
       "       [0.2720928 ],\n",
       "       [0.15680455],\n",
       "       [0.19240895],\n",
       "       [0.8138083 ],\n",
       "       [0.8612573 ],\n",
       "       [0.05341534],\n",
       "       [0.10482041],\n",
       "       [0.23965757],\n",
       "       [0.35797706],\n",
       "       [0.2598308 ],\n",
       "       [0.41393232],\n",
       "       [0.19943498],\n",
       "       [0.82694274],\n",
       "       [0.45557016],\n",
       "       [0.13121068],\n",
       "       [0.04234414],\n",
       "       [0.07669858],\n",
       "       [0.32890102],\n",
       "       [0.25653473],\n",
       "       [0.20815475],\n",
       "       [0.6530519 ],\n",
       "       [0.43774936],\n",
       "       [0.11370023],\n",
       "       [0.7900923 ],\n",
       "       [0.6397772 ],\n",
       "       [0.8799645 ],\n",
       "       [0.6695186 ],\n",
       "       [0.15558529],\n",
       "       [0.41517073],\n",
       "       [0.14676185],\n",
       "       [0.11090561],\n",
       "       [0.5727419 ],\n",
       "       [0.09908307],\n",
       "       [0.9220235 ],\n",
       "       [0.75708956],\n",
       "       [0.25786927],\n",
       "       [0.15265101],\n",
       "       [0.6403346 ],\n",
       "       [0.07554866],\n",
       "       [0.19390033],\n",
       "       [0.2908492 ],\n",
       "       [0.42641842],\n",
       "       [0.19877686],\n",
       "       [0.05559854],\n",
       "       [0.2002252 ],\n",
       "       [0.15206063],\n",
       "       [0.29898542],\n",
       "       [0.49724627],\n",
       "       [0.8522545 ],\n",
       "       [0.14908546],\n",
       "       [0.2080473 ],\n",
       "       [0.14959714],\n",
       "       [0.24995373],\n",
       "       [0.05291416],\n",
       "       [0.7217054 ],\n",
       "       [0.19857723],\n",
       "       [0.38395375],\n",
       "       [0.5182233 ],\n",
       "       [0.6709114 ],\n",
       "       [0.26703668],\n",
       "       [0.22474585],\n",
       "       [0.11321945],\n",
       "       [0.15038778],\n",
       "       [0.05747537],\n",
       "       [0.6191535 ],\n",
       "       [0.3906733 ],\n",
       "       [0.1381748 ],\n",
       "       [0.34093407],\n",
       "       [0.06067785],\n",
       "       [0.7541481 ],\n",
       "       [0.13071911],\n",
       "       [0.2622492 ],\n",
       "       [0.5777301 ],\n",
       "       [0.38712656],\n",
       "       [0.5066258 ],\n",
       "       [0.5676083 ],\n",
       "       [0.11247467],\n",
       "       [0.7508924 ],\n",
       "       [0.08411038],\n",
       "       [0.70933163],\n",
       "       [0.34678632],\n",
       "       [0.32678902],\n",
       "       [0.28550315],\n",
       "       [0.40710634],\n",
       "       [0.23050661],\n",
       "       [0.06823448],\n",
       "       [0.2364409 ],\n",
       "       [0.3670948 ],\n",
       "       [0.6074359 ],\n",
       "       [0.33641756],\n",
       "       [0.38680726],\n",
       "       [0.14450498],\n",
       "       [0.07167047],\n",
       "       [0.80005455],\n",
       "       [0.33772597],\n",
       "       [0.43095207],\n",
       "       [0.17130223],\n",
       "       [0.3536339 ],\n",
       "       [0.7662588 ],\n",
       "       [0.2222647 ],\n",
       "       [0.0876011 ],\n",
       "       [0.5639677 ],\n",
       "       [0.07896985],\n",
       "       [0.09344286],\n",
       "       [0.34779185],\n",
       "       [0.10243537],\n",
       "       [0.09509025],\n",
       "       [0.12662372],\n",
       "       [0.16175492],\n",
       "       [0.19961542],\n",
       "       [0.09570347],\n",
       "       [0.5086195 ],\n",
       "       [0.09339648],\n",
       "       [0.17905352]], dtype=float32)"
      ]
     },
     "execution_count": 77,
     "metadata": {},
     "output_type": "execute_result"
    }
   ],
   "source": [
    "# Memprediksi X_test\n",
    "y_pred = model.predict(X_test)\n",
    "y_pred"
   ]
  },
  {
   "cell_type": "code",
   "execution_count": 78,
   "metadata": {
    "colab": {
     "base_uri": "https://localhost:8080/"
    },
    "executionInfo": {
     "elapsed": 630,
     "status": "ok",
     "timestamp": 1708013404960,
     "user": {
      "displayName": "Ahmad Lutfi",
      "userId": "14568177636171038922"
     },
     "user_tz": -420
    },
    "id": "l2CUOCosAoYy",
    "outputId": "c7b3e41f-6abe-4704-a238-e5e002e299b5"
   },
   "outputs": [
    {
     "name": "stdout",
     "output_type": "stream",
     "text": [
      "5/5 [==============================] - 0s 2ms/step\n"
     ]
    },
    {
     "data": {
      "text/plain": [
       "array([[1],\n",
       "       [0],\n",
       "       [0],\n",
       "       [1],\n",
       "       [0],\n",
       "       [0],\n",
       "       [1],\n",
       "       [1],\n",
       "       [0],\n",
       "       [0],\n",
       "       [1],\n",
       "       [1],\n",
       "       [0],\n",
       "       [0],\n",
       "       [0],\n",
       "       [0],\n",
       "       [1],\n",
       "       [0],\n",
       "       [0],\n",
       "       [0],\n",
       "       [1],\n",
       "       [0],\n",
       "       [0],\n",
       "       [0],\n",
       "       [0],\n",
       "       [0],\n",
       "       [0],\n",
       "       [1],\n",
       "       [0],\n",
       "       [0],\n",
       "       [1],\n",
       "       [0],\n",
       "       [0],\n",
       "       [1],\n",
       "       [0],\n",
       "       [1],\n",
       "       [0],\n",
       "       [0],\n",
       "       [0],\n",
       "       [1],\n",
       "       [0],\n",
       "       [0],\n",
       "       [0],\n",
       "       [1],\n",
       "       [1],\n",
       "       [0],\n",
       "       [0],\n",
       "       [0],\n",
       "       [0],\n",
       "       [0],\n",
       "       [0],\n",
       "       [0],\n",
       "       [1],\n",
       "       [0],\n",
       "       [0],\n",
       "       [0],\n",
       "       [0],\n",
       "       [0],\n",
       "       [0],\n",
       "       [0],\n",
       "       [1],\n",
       "       [0],\n",
       "       [0],\n",
       "       [1],\n",
       "       [1],\n",
       "       [1],\n",
       "       [1],\n",
       "       [0],\n",
       "       [0],\n",
       "       [0],\n",
       "       [0],\n",
       "       [1],\n",
       "       [0],\n",
       "       [1],\n",
       "       [1],\n",
       "       [0],\n",
       "       [0],\n",
       "       [1],\n",
       "       [0],\n",
       "       [0],\n",
       "       [0],\n",
       "       [0],\n",
       "       [0],\n",
       "       [0],\n",
       "       [0],\n",
       "       [0],\n",
       "       [0],\n",
       "       [0],\n",
       "       [1],\n",
       "       [0],\n",
       "       [0],\n",
       "       [0],\n",
       "       [0],\n",
       "       [0],\n",
       "       [1],\n",
       "       [0],\n",
       "       [0],\n",
       "       [1],\n",
       "       [1],\n",
       "       [0],\n",
       "       [0],\n",
       "       [0],\n",
       "       [0],\n",
       "       [0],\n",
       "       [1],\n",
       "       [0],\n",
       "       [0],\n",
       "       [0],\n",
       "       [0],\n",
       "       [1],\n",
       "       [0],\n",
       "       [0],\n",
       "       [1],\n",
       "       [0],\n",
       "       [1],\n",
       "       [1],\n",
       "       [0],\n",
       "       [1],\n",
       "       [0],\n",
       "       [1],\n",
       "       [0],\n",
       "       [0],\n",
       "       [0],\n",
       "       [0],\n",
       "       [0],\n",
       "       [0],\n",
       "       [0],\n",
       "       [0],\n",
       "       [1],\n",
       "       [0],\n",
       "       [0],\n",
       "       [0],\n",
       "       [0],\n",
       "       [1],\n",
       "       [0],\n",
       "       [0],\n",
       "       [0],\n",
       "       [0],\n",
       "       [1],\n",
       "       [0],\n",
       "       [0],\n",
       "       [1],\n",
       "       [0],\n",
       "       [0],\n",
       "       [0],\n",
       "       [0],\n",
       "       [0],\n",
       "       [0],\n",
       "       [0],\n",
       "       [0],\n",
       "       [0],\n",
       "       [1],\n",
       "       [0],\n",
       "       [0]])"
      ]
     },
     "execution_count": 78,
     "metadata": {},
     "output_type": "execute_result"
    }
   ],
   "source": [
    "# Memprediksi X_test dengan pembulatan ke atas\n",
    "pred_test = (model.predict(X_test) > 0.5).astype(int)\n",
    "pred_test"
   ]
  },
  {
   "cell_type": "code",
   "execution_count": 79,
   "metadata": {
    "colab": {
     "base_uri": "https://localhost:8080/"
    },
    "executionInfo": {
     "elapsed": 400,
     "status": "ok",
     "timestamp": 1708013410156,
     "user": {
      "displayName": "Ahmad Lutfi",
      "userId": "14568177636171038922"
     },
     "user_tz": -420
    },
    "id": "sekme3LLA39d",
    "outputId": "0a880d6c-7a53-465c-f0ca-3568e46999f1"
   },
   "outputs": [
    {
     "name": "stdout",
     "output_type": "stream",
     "text": [
      "Nilai akurasi: 0.79\n",
      "Nilai presisi: 0.68\n",
      "Nilai recall: 0.60\n",
      "Nilai f1: 0.64\n",
      "5/5 [==============================] - 0s 2ms/step\n",
      "Nilai AUC: 0.86\n"
     ]
    }
   ],
   "source": [
    "# Menghitung metrics klasifikasi satu per satu\n",
    "print('Nilai akurasi: {:.2f}'.format(accuracy_score(y_test, pred_test)))\n",
    "print('Nilai presisi: {:.2f}'.format(precision_score(y_test, pred_test)))\n",
    "print('Nilai recall: {:.2f}'.format(recall_score(y_test, pred_test)))\n",
    "print('Nilai f1: {:.2f}'.format(f1_score(y_test, pred_test)))\n",
    "print('Nilai AUC: {:.2f}'.format(roc_auc_score(y_test, model.predict(X_test))))"
   ]
  },
  {
   "cell_type": "code",
   "execution_count": 80,
   "metadata": {
    "colab": {
     "base_uri": "https://localhost:8080/"
    },
    "executionInfo": {
     "elapsed": 525,
     "status": "ok",
     "timestamp": 1708013413556,
     "user": {
      "displayName": "Ahmad Lutfi",
      "userId": "14568177636171038922"
     },
     "user_tz": -420
    },
    "id": "SXc0lvRDBdEL",
    "outputId": "8e5049e1-67c2-4274-fc67-b59deff21edc"
   },
   "outputs": [
    {
     "name": "stdout",
     "output_type": "stream",
     "text": [
      "5/5 [==============================] - 0s 3ms/step - loss: 0.4432 - accuracy: 0.7922\n",
      "Loss: 0.4432\n",
      "Akurasi: 0.7922\n"
     ]
    }
   ],
   "source": [
    "# Evaluasi model keras\n",
    "loss, accuracy = model.evaluate(X_test, y_test)\n",
    "print(f'Loss: {loss:.4f}')\n",
    "print(f'Akurasi: {accuracy:.4f}')"
   ]
  },
  {
   "cell_type": "code",
   "execution_count": 81,
   "metadata": {
    "colab": {
     "base_uri": "https://localhost:8080/"
    },
    "executionInfo": {
     "elapsed": 432,
     "status": "ok",
     "timestamp": 1708013417255,
     "user": {
      "displayName": "Ahmad Lutfi",
      "userId": "14568177636171038922"
     },
     "user_tz": -420
    },
    "id": "kkxqcVxTBlQD",
    "outputId": "bdb6314e-3973-4668-b7e4-59c1cb67ecf0"
   },
   "outputs": [
    {
     "name": "stdout",
     "output_type": "stream",
     "text": [
      "[0.058823529411764705, 1.0050505050505052, 0.6229508196721312, 0.43434343434343436, 0.0, 0.639344262295082, 0.5619128949615712, 0.016666666666666663] ==> [1] (seharusnya 1)\n",
      "[0.11764705882352941, 0.5404040404040404, 0.6065573770491803, 0.30303030303030304, 0.1182033096926714, 0.5007451564828614, 0.13919726729291204, 0.033333333333333326] ==> [0] (seharusnya 0)\n",
      "[0.23529411764705882, 0.38383838383838387, 0.5081967213114754, 0.0, 0.0, 0.5067064083457526, 0.1336464560204953, 0.06666666666666671] ==> [0] (seharusnya 0)\n",
      "[0.29411764705882354, 0.8383838383838385, 0.5901639344262295, 0.19191919191919193, 0.20685579196217493, 0.3845007451564829, 0.21733561058923995, 0.5] ==> [1] (seharusnya 1)\n",
      "[0.0, 0.5606060606060607, 0.5327868852459017, 0.0, 0.0, 0.3666169895678093, 0.2485055508112724, 0.16666666666666663] ==> [0] (seharusnya 0)\n"
     ]
    }
   ],
   "source": [
    "# Memprediksi 5 baris pertama\\\n",
    "for i in range(5):\n",
    "    print(f'{X_test.iloc[i,:].tolist()} ==> {pred_test[i]} (seharusnya {y_test[i]})')"
   ]
  },
  {
   "cell_type": "code",
   "execution_count": 82,
   "metadata": {
    "colab": {
     "base_uri": "https://localhost:8080/"
    },
    "executionInfo": {
     "elapsed": 6,
     "status": "ok",
     "timestamp": 1708013420249,
     "user": {
      "displayName": "Ahmad Lutfi",
      "userId": "14568177636171038922"
     },
     "user_tz": -420
    },
    "id": "mHBZAqfzBo3w",
    "outputId": "b6eebd13-f457-4358-bea8-347276442e1c"
   },
   "outputs": [
    {
     "data": {
      "text/plain": [
       "array([[94, 13],\n",
       "       [19, 28]], dtype=int64)"
      ]
     },
     "execution_count": 82,
     "metadata": {},
     "output_type": "execute_result"
    }
   ],
   "source": [
    "# Membuat confusion matrix\n",
    "cm = confusion_matrix(y_test, pred_test)\n",
    "cm"
   ]
  },
  {
   "cell_type": "code",
   "execution_count": 83,
   "metadata": {
    "colab": {
     "base_uri": "https://localhost:8080/",
     "height": 450
    },
    "executionInfo": {
     "elapsed": 873,
     "status": "ok",
     "timestamp": 1708013423792,
     "user": {
      "displayName": "Ahmad Lutfi",
      "userId": "14568177636171038922"
     },
     "user_tz": -420
    },
    "id": "5yASxYFoBsmA",
    "outputId": "18b95238-f2ca-415e-837e-43f9fef3b971"
   },
   "outputs": [
    {
     "data": {
      "image/png": "[encoded data removed]",
      "text/plain": [
       "<Figure size 640x480 with 2 Axes>"
      ]
     },
     "metadata": {},
     "output_type": "display_data"
    }
   ],
   "source": [
    "# Melihat confusion matrix dengan ConfusionMatrixDisplay()\n",
    "vis_cm = ConfusionMatrixDisplay(confusion_matrix = cm,\n",
    "                                display_labels = np.array([0,1]))\n",
    "vis_cm.plot(cmap=plt.cm.Reds);"
   ]
  },
  {
   "cell_type": "code",
   "execution_count": 84,
   "metadata": {
    "executionInfo": {
     "elapsed": 421,
     "status": "ok",
     "timestamp": 1708013429413,
     "user": {
      "displayName": "Ahmad Lutfi",
      "userId": "14568177636171038922"
     },
     "user_tz": -420
    },
    "id": "sRGZAZOJfptm"
   },
   "outputs": [],
   "source": [
    "# Menyimpan model\n",
    "model.save('model_dl.keras')"
   ]
  },
  {
   "cell_type": "code",
   "execution_count": 85,
   "metadata": {
    "colab": {
     "base_uri": "https://localhost:8080/"
    },
    "executionInfo": {
     "elapsed": 634,
     "status": "ok",
     "timestamp": 1708013432706,
     "user": {
      "displayName": "Ahmad Lutfi",
      "userId": "14568177636171038922"
     },
     "user_tz": -420
    },
    "id": "oLP5-Ez_fsgM",
    "outputId": "71c45995-b69a-4778-c34e-99bc6703f2b9"
   },
   "outputs": [
    {
     "name": "stdout",
     "output_type": "stream",
     "text": [
      "Model: \"sequential_1\"\n",
      "_________________________________________________________________\n",
      " Layer (type)                Output Shape              Param #   \n",
      "=================================================================\n",
      " dense_3 (Dense)             (None, 12)                108       \n",
      "                                                                 \n",
      " dense_4 (Dense)             (None, 8)                 104       \n",
      "                                                                 \n",
      " dense_5 (Dense)             (None, 1)                 9         \n",
      "                                                                 \n",
      "=================================================================\n",
      "Total params: 221\n",
      "Trainable params: 221\n",
      "Non-trainable params: 0\n",
      "_________________________________________________________________\n"
     ]
    }
   ],
   "source": [
    "# Load model\n",
    "modelku = tf.keras.models.load_model('model_dl.keras')\n",
    "modelku.summary()"
   ]
  },
  {
   "cell_type": "code",
   "execution_count": 86,
   "metadata": {
    "colab": {
     "base_uri": "https://localhost:8080/"
    },
    "executionInfo": {
     "elapsed": 448,
     "status": "ok",
     "timestamp": 1708013436400,
     "user": {
      "displayName": "Ahmad Lutfi",
      "userId": "14568177636171038922"
     },
     "user_tz": -420
    },
    "id": "CWFNhXjfgXU6",
    "outputId": "3e7253ea-fcdb-4576-fdbc-0845cd49b63f"
   },
   "outputs": [
    {
     "name": "stdout",
     "output_type": "stream",
     "text": [
      "5/5 [==============================] - 0s 2ms/step\n"
     ]
    },
    {
     "data": {
      "text/plain": [
       "array([[0.9440655 ],\n",
       "       [0.14822401],\n",
       "       [0.09515002],\n",
       "       [0.69531643],\n",
       "       [0.1476649 ],\n",
       "       [0.05237813],\n",
       "       [0.7009287 ],\n",
       "       [0.85127467],\n",
       "       [0.4299386 ],\n",
       "       [0.37029243],\n",
       "       [0.5934355 ],\n",
       "       [0.9500358 ],\n",
       "       [0.3749894 ],\n",
       "       [0.25724378],\n",
       "       [0.16186826],\n",
       "       [0.18996961],\n",
       "       [0.85129523],\n",
       "       [0.05649902],\n",
       "       [0.49480003],\n",
       "       [0.26456872],\n",
       "       [0.6121783 ],\n",
       "       [0.30884048],\n",
       "       [0.37145728],\n",
       "       [0.08161236],\n",
       "       [0.05833814],\n",
       "       [0.3645423 ],\n",
       "       [0.07022247],\n",
       "       [0.84281194],\n",
       "       [0.12289844],\n",
       "       [0.15246737],\n",
       "       [0.507897  ],\n",
       "       [0.2578862 ],\n",
       "       [0.08608119],\n",
       "       [0.51857686],\n",
       "       [0.13044436],\n",
       "       [0.67817354],\n",
       "       [0.4305899 ],\n",
       "       [0.07914441],\n",
       "       [0.43132976],\n",
       "       [0.7484037 ],\n",
       "       [0.2720928 ],\n",
       "       [0.15680455],\n",
       "       [0.19240895],\n",
       "       [0.8138083 ],\n",
       "       [0.8612573 ],\n",
       "       [0.05341534],\n",
       "       [0.10482041],\n",
       "       [0.23965757],\n",
       "       [0.35797706],\n",
       "       [0.2598308 ],\n",
       "       [0.41393232],\n",
       "       [0.19943498],\n",
       "       [0.82694274],\n",
       "       [0.45557016],\n",
       "       [0.13121068],\n",
       "       [0.04234414],\n",
       "       [0.07669858],\n",
       "       [0.32890102],\n",
       "       [0.25653473],\n",
       "       [0.20815475],\n",
       "       [0.6530519 ],\n",
       "       [0.43774936],\n",
       "       [0.11370023],\n",
       "       [0.7900923 ],\n",
       "       [0.6397772 ],\n",
       "       [0.8799645 ],\n",
       "       [0.6695186 ],\n",
       "       [0.15558529],\n",
       "       [0.41517073],\n",
       "       [0.14676185],\n",
       "       [0.11090561],\n",
       "       [0.5727419 ],\n",
       "       [0.09908307],\n",
       "       [0.9220235 ],\n",
       "       [0.75708956],\n",
       "       [0.25786927],\n",
       "       [0.15265101],\n",
       "       [0.6403346 ],\n",
       "       [0.07554866],\n",
       "       [0.19390033],\n",
       "       [0.2908492 ],\n",
       "       [0.42641842],\n",
       "       [0.19877686],\n",
       "       [0.05559854],\n",
       "       [0.2002252 ],\n",
       "       [0.15206063],\n",
       "       [0.29898542],\n",
       "       [0.49724627],\n",
       "       [0.8522545 ],\n",
       "       [0.14908546],\n",
       "       [0.2080473 ],\n",
       "       [0.14959714],\n",
       "       [0.24995373],\n",
       "       [0.05291416],\n",
       "       [0.7217054 ],\n",
       "       [0.19857723],\n",
       "       [0.38395375],\n",
       "       [0.5182233 ],\n",
       "       [0.6709114 ],\n",
       "       [0.26703668],\n",
       "       [0.22474585],\n",
       "       [0.11321945],\n",
       "       [0.15038778],\n",
       "       [0.05747537],\n",
       "       [0.6191535 ],\n",
       "       [0.3906733 ],\n",
       "       [0.1381748 ],\n",
       "       [0.34093407],\n",
       "       [0.06067785],\n",
       "       [0.7541481 ],\n",
       "       [0.13071911],\n",
       "       [0.2622492 ],\n",
       "       [0.5777301 ],\n",
       "       [0.38712656],\n",
       "       [0.5066258 ],\n",
       "       [0.5676083 ],\n",
       "       [0.11247467],\n",
       "       [0.7508924 ],\n",
       "       [0.08411038],\n",
       "       [0.70933163],\n",
       "       [0.34678632],\n",
       "       [0.32678902],\n",
       "       [0.28550315],\n",
       "       [0.40710634],\n",
       "       [0.23050661],\n",
       "       [0.06823448],\n",
       "       [0.2364409 ],\n",
       "       [0.3670948 ],\n",
       "       [0.6074359 ],\n",
       "       [0.33641756],\n",
       "       [0.38680726],\n",
       "       [0.14450498],\n",
       "       [0.07167047],\n",
       "       [0.80005455],\n",
       "       [0.33772597],\n",
       "       [0.43095207],\n",
       "       [0.17130223],\n",
       "       [0.3536339 ],\n",
       "       [0.7662588 ],\n",
       "       [0.2222647 ],\n",
       "       [0.0876011 ],\n",
       "       [0.5639677 ],\n",
       "       [0.07896985],\n",
       "       [0.09344286],\n",
       "       [0.34779185],\n",
       "       [0.10243537],\n",
       "       [0.09509025],\n",
       "       [0.12662372],\n",
       "       [0.16175492],\n",
       "       [0.19961542],\n",
       "       [0.09570347],\n",
       "       [0.5086195 ],\n",
       "       [0.09339648],\n",
       "       [0.17905352]], dtype=float32)"
      ]
     },
     "execution_count": 86,
     "metadata": {},
     "output_type": "execute_result"
    }
   ],
   "source": [
    "# Mencoba memprediksi X_test dengan modelku\n",
    "modelku.predict(X_test)"
   ]
  },
  {
   "cell_type": "markdown",
   "metadata": {
    "id": "eCnqQ_FXgaZu"
   },
   "source": [
    "**Menggabungkan sebagai pipeline**"
   ]
  },
  {
   "cell_type": "code",
   "execution_count": 87,
   "metadata": {
    "executionInfo": {
     "elapsed": 4,
     "status": "ok",
     "timestamp": 1708013455911,
     "user": {
      "displayName": "Ahmad Lutfi",
      "userId": "14568177636171038922"
     },
     "user_tz": -420
    },
    "id": "xMnnsLeRHVKY"
   },
   "outputs": [],
   "source": [
    "# Membuat model sebagai fungsi\n",
    "def buat_model():\n",
    "    model = Sequential()\n",
    "    model.add(Dense(12, input_shape=(8,), activation='relu'))\n",
    "    model.add(Dense(8, activation='relu'))\n",
    "    model.add(Dense(1, activation='sigmoid'))\n",
    "    model.compile(loss='binary_crossentropy', optimizer=tf.keras.optimizers.Adam(), metrics=['accuracy'])\n",
    "    return model"
   ]
  },
  {
   "cell_type": "code",
   "execution_count": 88,
   "metadata": {
    "executionInfo": {
     "elapsed": 4,
     "status": "ok",
     "timestamp": 1708013458594,
     "user": {
      "displayName": "Ahmad Lutfi",
      "userId": "14568177636171038922"
     },
     "user_tz": -420
    },
    "id": "V-MhD93XHYHp"
   },
   "outputs": [
    {
     "name": "stderr",
     "output_type": "stream",
     "text": [
      "C:\\Users\\sahab\\AppData\\Local\\Temp\\ipykernel_18312\\2506134094.py:2: DeprecationWarning: KerasClassifier is deprecated, use Sci-Keras (https://github.com/adriangb/scikeras) instead. See https://www.adriangb.com/scikeras/stable/migration.html for help migrating.\n",
      "  model = KerasClassifier(build_fn=buat_model, epochs=100, batch_size=50, verbose=1)\n"
     ]
    }
   ],
   "source": [
    "# Menjalankan fungsi buat_model dengan KerasClassifier\n",
    "model = KerasClassifier(build_fn=buat_model, epochs=100, batch_size=50, verbose=1)"
   ]
  },
  {
   "cell_type": "code",
   "execution_count": 89,
   "metadata": {
    "executionInfo": {
     "elapsed": 384,
     "status": "ok",
     "timestamp": 1708013460817,
     "user": {
      "displayName": "Ahmad Lutfi",
      "userId": "14568177636171038922"
     },
     "user_tz": -420
    },
    "id": "37DMjQsEH2PZ"
   },
   "outputs": [],
   "source": [
    "# Membuat pipeline\n",
    "model_dl = Pipeline([\n",
    "    ('scaling', MinMaxScaler()),\n",
    "    ('modeling', model)\n",
    "])"
   ]
  },
  {
   "cell_type": "code",
   "execution_count": 90,
   "metadata": {
    "colab": {
     "base_uri": "https://localhost:8080/"
    },
    "executionInfo": {
     "elapsed": 627,
     "status": "ok",
     "timestamp": 1708013464104,
     "user": {
      "displayName": "Ahmad Lutfi",
      "userId": "14568177636171038922"
     },
     "user_tz": -420
    },
    "id": "oZ9e9FI1f1kL",
    "outputId": "533662a6-6c69-4920-9622-de568655eb50"
   },
   "outputs": [
    {
     "name": "stdout",
     "output_type": "stream",
     "text": [
      "5/5 [==============================] - 0s 2ms/step\n"
     ]
    },
    {
     "data": {
      "text/plain": [
       "array([[0.9440655 ],\n",
       "       [0.14822401],\n",
       "       [0.09515002],\n",
       "       [0.69531643],\n",
       "       [0.1476649 ],\n",
       "       [0.05237813],\n",
       "       [0.7009287 ],\n",
       "       [0.85127467],\n",
       "       [0.4299386 ],\n",
       "       [0.37029243],\n",
       "       [0.5934355 ],\n",
       "       [0.9500358 ],\n",
       "       [0.3749894 ],\n",
       "       [0.25724378],\n",
       "       [0.16186826],\n",
       "       [0.18996961],\n",
       "       [0.85129523],\n",
       "       [0.05649902],\n",
       "       [0.49480003],\n",
       "       [0.26456872],\n",
       "       [0.6121783 ],\n",
       "       [0.30884048],\n",
       "       [0.37145728],\n",
       "       [0.08161236],\n",
       "       [0.05833814],\n",
       "       [0.3645423 ],\n",
       "       [0.07022247],\n",
       "       [0.84281194],\n",
       "       [0.12289844],\n",
       "       [0.15246737],\n",
       "       [0.507897  ],\n",
       "       [0.2578862 ],\n",
       "       [0.08608119],\n",
       "       [0.51857686],\n",
       "       [0.13044436],\n",
       "       [0.67817354],\n",
       "       [0.4305899 ],\n",
       "       [0.07914441],\n",
       "       [0.43132976],\n",
       "       [0.7484037 ],\n",
       "       [0.2720928 ],\n",
       "       [0.15680455],\n",
       "       [0.19240895],\n",
       "       [0.8138083 ],\n",
       "       [0.8612573 ],\n",
       "       [0.05341534],\n",
       "       [0.10482041],\n",
       "       [0.23965757],\n",
       "       [0.35797706],\n",
       "       [0.2598308 ],\n",
       "       [0.41393232],\n",
       "       [0.19943498],\n",
       "       [0.82694274],\n",
       "       [0.45557016],\n",
       "       [0.13121068],\n",
       "       [0.04234414],\n",
       "       [0.07669858],\n",
       "       [0.32890102],\n",
       "       [0.25653473],\n",
       "       [0.20815475],\n",
       "       [0.6530519 ],\n",
       "       [0.43774936],\n",
       "       [0.11370023],\n",
       "       [0.7900923 ],\n",
       "       [0.6397772 ],\n",
       "       [0.8799645 ],\n",
       "       [0.6695186 ],\n",
       "       [0.15558529],\n",
       "       [0.41517073],\n",
       "       [0.14676185],\n",
       "       [0.11090561],\n",
       "       [0.5727419 ],\n",
       "       [0.09908307],\n",
       "       [0.9220235 ],\n",
       "       [0.75708956],\n",
       "       [0.25786927],\n",
       "       [0.15265101],\n",
       "       [0.6403346 ],\n",
       "       [0.07554866],\n",
       "       [0.19390033],\n",
       "       [0.2908492 ],\n",
       "       [0.42641842],\n",
       "       [0.19877686],\n",
       "       [0.05559854],\n",
       "       [0.2002252 ],\n",
       "       [0.15206063],\n",
       "       [0.29898542],\n",
       "       [0.49724627],\n",
       "       [0.8522545 ],\n",
       "       [0.14908546],\n",
       "       [0.2080473 ],\n",
       "       [0.14959714],\n",
       "       [0.24995373],\n",
       "       [0.05291416],\n",
       "       [0.7217054 ],\n",
       "       [0.19857723],\n",
       "       [0.38395375],\n",
       "       [0.5182233 ],\n",
       "       [0.6709114 ],\n",
       "       [0.26703668],\n",
       "       [0.22474585],\n",
       "       [0.11321945],\n",
       "       [0.15038778],\n",
       "       [0.05747537],\n",
       "       [0.6191535 ],\n",
       "       [0.3906733 ],\n",
       "       [0.1381748 ],\n",
       "       [0.34093407],\n",
       "       [0.06067785],\n",
       "       [0.7541481 ],\n",
       "       [0.13071911],\n",
       "       [0.2622492 ],\n",
       "       [0.5777301 ],\n",
       "       [0.38712656],\n",
       "       [0.5066258 ],\n",
       "       [0.5676083 ],\n",
       "       [0.11247467],\n",
       "       [0.7508924 ],\n",
       "       [0.08411038],\n",
       "       [0.70933163],\n",
       "       [0.34678632],\n",
       "       [0.32678902],\n",
       "       [0.28550315],\n",
       "       [0.40710634],\n",
       "       [0.23050661],\n",
       "       [0.06823448],\n",
       "       [0.2364409 ],\n",
       "       [0.3670948 ],\n",
       "       [0.6074359 ],\n",
       "       [0.33641756],\n",
       "       [0.38680726],\n",
       "       [0.14450498],\n",
       "       [0.07167047],\n",
       "       [0.80005455],\n",
       "       [0.33772597],\n",
       "       [0.43095207],\n",
       "       [0.17130223],\n",
       "       [0.3536339 ],\n",
       "       [0.7662588 ],\n",
       "       [0.2222647 ],\n",
       "       [0.0876011 ],\n",
       "       [0.5639677 ],\n",
       "       [0.07896985],\n",
       "       [0.09344286],\n",
       "       [0.34779185],\n",
       "       [0.10243537],\n",
       "       [0.09509025],\n",
       "       [0.12662372],\n",
       "       [0.16175492],\n",
       "       [0.19961542],\n",
       "       [0.09570347],\n",
       "       [0.5086195 ],\n",
       "       [0.09339648],\n",
       "       [0.17905352]], dtype=float32)"
      ]
     },
     "execution_count": 90,
     "metadata": {},
     "output_type": "execute_result"
    }
   ],
   "source": [
    "# Mencoba memprediksi X_test dengan modelku\n",
    "modelku.predict(X_test)"
   ]
  },
  {
   "cell_type": "markdown",
   "metadata": {},
   "source": [
    "### Menggabungkan sebagai pipeline"
   ]
  },
  {
   "cell_type": "code",
   "execution_count": 91,
   "metadata": {},
   "outputs": [],
   "source": [
    "# Membuat model sebagai fungsi\n",
    "def buat_model():\n",
    "    model = Sequential()\n",
    "    model.add(Dense(12, input_shape=(8,), activation='relu'))\n",
    "    model.add(Dense(8, activation='relu'))\n",
    "    model.add(Dense(1, activation='sigmoid')) \n",
    "    model.compile(loss='binary_crossentropy', optimizer=tf.keras.optimizers.Adam(), metrics=['accuracy'])\n",
    "    return model"
   ]
  },
  {
   "cell_type": "code",
   "execution_count": 92,
   "metadata": {},
   "outputs": [
    {
     "name": "stderr",
     "output_type": "stream",
     "text": [
      "C:\\Users\\sahab\\AppData\\Local\\Temp\\ipykernel_18312\\963982821.py:2: DeprecationWarning: KerasClassifier is deprecated, use Sci-Keras (https://github.com/adriangb/scikeras) instead. See https://www.adriangb.com/scikeras/stable/migration.html for help migrating.\n",
      "  model = KerasClassifier(build_fn=buat_model,\n"
     ]
    }
   ],
   "source": [
    "# Menjalankan fungsi buat_model dengan KerasClassifier\n",
    "model = KerasClassifier(build_fn=buat_model,\n",
    "                        epochs=100,\n",
    "                        batch_size=50,\n",
    "                        verbose=1)"
   ]
  },
  {
   "cell_type": "code",
   "execution_count": 93,
   "metadata": {},
   "outputs": [],
   "source": [
    "# Membuat pipeline\n",
    "model_dl = Pipeline([\n",
    "    ('scaling', MinMaxScaler()),\n",
    "    ('modeling', model)\n",
    "])"
   ]
  },
  {
   "cell_type": "code",
   "execution_count": 94,
   "metadata": {
    "colab": {
     "base_uri": "https://localhost:8080/",
     "height": 125
    },
    "executionInfo": {
     "elapsed": 434,
     "status": "ok",
     "timestamp": 1708013468826,
     "user": {
      "displayName": "Ahmad Lutfi",
      "userId": "14568177636171038922"
     },
     "user_tz": -420
    },
    "id": "yuaQM6_bH4oW",
    "outputId": "d37f8f4d-676e-45c2-9502-26bfcb3ed0ce"
   },
   "outputs": [
    {
     "data": {
      "text/html": [
       "<style>#sk-container-id-1 {color: black;}#sk-container-id-1 pre{padding: 0;}#sk-container-id-1 div.sk-toggleable {background-color: white;}#sk-container-id-1 label.sk-toggleable__label {cursor: pointer;display: block;width: 100%;margin-bottom: 0;padding: 0.3em;box-sizing: border-box;text-align: center;}#sk-container-id-1 label.sk-toggleable__label-arrow:before {content: \"▸\";float: left;margin-right: 0.25em;color: #696969;}#sk-container-id-1 label.sk-toggleable__label-arrow:hover:before {color: black;}#sk-container-id-1 div.sk-estimator:hover label.sk-toggleable__label-arrow:before {color: black;}#sk-container-id-1 div.sk-toggleable__content {max-height: 0;max-width: 0;overflow: hidden;text-align: left;background-color: #f0f8ff;}#sk-container-id-1 div.sk-toggleable__content pre {margin: 0.2em;color: black;border-radius: 0.25em;background-color: #f0f8ff;}#sk-container-id-1 input.sk-toggleable__control:checked~div.sk-toggleable__content {max-height: 200px;max-width: 100%;overflow: auto;}#sk-container-id-1 input.sk-toggleable__control:checked~label.sk-toggleable__label-arrow:before {content: \"▾\";}#sk-container-id-1 div.sk-estimator input.sk-toggleable__control:checked~label.sk-toggleable__label {background-color: #d4ebff;}#sk-container-id-1 div.sk-label input.sk-toggleable__control:checked~label.sk-toggleable__label {background-color: #d4ebff;}#sk-container-id-1 input.sk-hidden--visually {border: 0;clip: rect(1px 1px 1px 1px);clip: rect(1px, 1px, 1px, 1px);height: 1px;margin: -1px;overflow: hidden;padding: 0;position: absolute;width: 1px;}#sk-container-id-1 div.sk-estimator {font-family: monospace;background-color: #f0f8ff;border: 1px dotted black;border-radius: 0.25em;box-sizing: border-box;margin-bottom: 0.5em;}#sk-container-id-1 div.sk-estimator:hover {background-color: #d4ebff;}#sk-container-id-1 div.sk-parallel-item::after {content: \"\";width: 100%;border-bottom: 1px solid gray;flex-grow: 1;}#sk-container-id-1 div.sk-label:hover label.sk-toggleable__label {background-color: #d4ebff;}#sk-container-id-1 div.sk-serial::before {content: \"\";position: absolute;border-left: 1px solid gray;box-sizing: border-box;top: 0;bottom: 0;left: 50%;z-index: 0;}#sk-container-id-1 div.sk-serial {display: flex;flex-direction: column;align-items: center;background-color: white;padding-right: 0.2em;padding-left: 0.2em;position: relative;}#sk-container-id-1 div.sk-item {position: relative;z-index: 1;}#sk-container-id-1 div.sk-parallel {display: flex;align-items: stretch;justify-content: center;background-color: white;position: relative;}#sk-container-id-1 div.sk-item::before, #sk-container-id-1 div.sk-parallel-item::before {content: \"\";position: absolute;border-left: 1px solid gray;box-sizing: border-box;top: 0;bottom: 0;left: 50%;z-index: -1;}#sk-container-id-1 div.sk-parallel-item {display: flex;flex-direction: column;z-index: 1;position: relative;background-color: white;}#sk-container-id-1 div.sk-parallel-item:first-child::after {align-self: flex-end;width: 50%;}#sk-container-id-1 div.sk-parallel-item:last-child::after {align-self: flex-start;width: 50%;}#sk-container-id-1 div.sk-parallel-item:only-child::after {width: 0;}#sk-container-id-1 div.sk-dashed-wrapped {border: 1px dashed gray;margin: 0 0.4em 0.5em 0.4em;box-sizing: border-box;padding-bottom: 0.4em;background-color: white;}#sk-container-id-1 div.sk-label label {font-family: monospace;font-weight: bold;display: inline-block;line-height: 1.2em;}#sk-container-id-1 div.sk-label-container {text-align: center;}#sk-container-id-1 div.sk-container {/* jupyter's `normalize.less` sets `[hidden] { display: none; }` but bootstrap.min.css set `[hidden] { display: none !important; }` so we also need the `!important` here to be able to override the default hidden behavior on the sphinx rendered scikit-learn.org. See: https://github.com/scikit-learn/scikit-learn/issues/21755 */display: inline-block !important;position: relative;}#sk-container-id-1 div.sk-text-repr-fallback {display: none;}</style><div id=\"sk-container-id-1\" class=\"sk-top-container\"><div class=\"sk-text-repr-fallback\"><pre>Pipeline(steps=[(&#x27;scaling&#x27;, MinMaxScaler()),\n",
       "                (&#x27;modeling&#x27;,\n",
       "                 &lt;keras.wrappers.scikit_learn.KerasClassifier object at 0x000001C36A0F0C90&gt;)])</pre><b>In a Jupyter environment, please rerun this cell to show the HTML representation or trust the notebook. <br />On GitHub, the HTML representation is unable to render, please try loading this page with nbviewer.org.</b></div><div class=\"sk-container\" hidden><div class=\"sk-item sk-dashed-wrapped\"><div class=\"sk-label-container\"><div class=\"sk-label sk-toggleable\"><input class=\"sk-toggleable__control sk-hidden--visually\" id=\"sk-estimator-id-1\" type=\"checkbox\" ><label for=\"sk-estimator-id-1\" class=\"sk-toggleable__label sk-toggleable__label-arrow\">Pipeline</label><div class=\"sk-toggleable__content\"><pre>Pipeline(steps=[(&#x27;scaling&#x27;, MinMaxScaler()),\n",
       "                (&#x27;modeling&#x27;,\n",
       "                 &lt;keras.wrappers.scikit_learn.KerasClassifier object at 0x000001C36A0F0C90&gt;)])</pre></div></div></div><div class=\"sk-serial\"><div class=\"sk-item\"><div class=\"sk-estimator sk-toggleable\"><input class=\"sk-toggleable__control sk-hidden--visually\" id=\"sk-estimator-id-2\" type=\"checkbox\" ><label for=\"sk-estimator-id-2\" class=\"sk-toggleable__label sk-toggleable__label-arrow\">MinMaxScaler</label><div class=\"sk-toggleable__content\"><pre>MinMaxScaler()</pre></div></div></div><div class=\"sk-item\"><div class=\"sk-estimator sk-toggleable\"><input class=\"sk-toggleable__control sk-hidden--visually\" id=\"sk-estimator-id-3\" type=\"checkbox\" ><label for=\"sk-estimator-id-3\" class=\"sk-toggleable__label sk-toggleable__label-arrow\">KerasClassifier</label><div class=\"sk-toggleable__content\"><pre>&lt;keras.wrappers.scikit_learn.KerasClassifier object at 0x000001C36A0F0C90&gt;</pre></div></div></div></div></div></div></div>"
      ],
      "text/plain": [
       "Pipeline(steps=[('scaling', MinMaxScaler()),\n",
       "                ('modeling',\n",
       "                 <keras.wrappers.scikit_learn.KerasClassifier object at 0x000001C36A0F0C90>)])"
      ]
     },
     "execution_count": 94,
     "metadata": {},
     "output_type": "execute_result"
    }
   ],
   "source": [
    "# Melihat pipeline\n",
    "model_dl"
   ]
  },
  {
   "cell_type": "code",
   "execution_count": 95,
   "metadata": {
    "executionInfo": {
     "elapsed": 4,
     "status": "ok",
     "timestamp": 1708013471773,
     "user": {
      "displayName": "Ahmad Lutfi",
      "userId": "14568177636171038922"
     },
     "user_tz": -420
    },
    "id": "BzMu0cFUH7yl"
   },
   "outputs": [],
   "source": [
    "# Menentukan jumlah fold cv\n",
    "cv = KFold(n_splits=5)"
   ]
  },
  {
   "cell_type": "code",
   "execution_count": 96,
   "metadata": {
    "executionInfo": {
     "elapsed": 4,
     "status": "ok",
     "timestamp": 1708013474324,
     "user": {
      "displayName": "Ahmad Lutfi",
      "userId": "14568177636171038922"
     },
     "user_tz": -420
    },
    "id": "tDKT60ELIBvY"
   },
   "outputs": [],
   "source": [
    "# Splitting data\n",
    "X_train, X_test, y_train, y_test = train_test_split(\n",
    "    X,\n",
    "    y,\n",
    "    test_size = 0.2,\n",
    "    random_state = 0)"
   ]
  },
  {
   "cell_type": "code",
   "execution_count": 97,
   "metadata": {
    "colab": {
     "base_uri": "https://localhost:8080/"
    },
    "executionInfo": {
     "elapsed": 30398,
     "status": "ok",
     "timestamp": 1708013507379,
     "user": {
      "displayName": "Ahmad Lutfi",
      "userId": "14568177636171038922"
     },
     "user_tz": -420
    },
    "id": "3SzC191VIElN",
    "outputId": "30e1ad18-6b0e-4ed1-b995-8a2dd56b606c"
   },
   "outputs": [
    {
     "name": "stdout",
     "output_type": "stream",
     "text": [
      "Epoch 1/100\n",
      "10/10 [==============================] - 2s 2ms/step - loss: 0.6751 - accuracy: 0.6415\n",
      "Epoch 2/100\n",
      "10/10 [==============================] - 0s 2ms/step - loss: 0.6707 - accuracy: 0.6415\n",
      "Epoch 3/100\n",
      "10/10 [==============================] - 0s 2ms/step - loss: 0.6680 - accuracy: 0.6415\n",
      "Epoch 4/100\n",
      "10/10 [==============================] - 0s 2ms/step - loss: 0.6653 - accuracy: 0.6415\n",
      "Epoch 5/100\n",
      "10/10 [==============================] - 0s 2ms/step - loss: 0.6632 - accuracy: 0.6415\n",
      "Epoch 6/100\n",
      "10/10 [==============================] - 0s 2ms/step - loss: 0.6610 - accuracy: 0.6415\n",
      "Epoch 7/100\n",
      "10/10 [==============================] - 0s 2ms/step - loss: 0.6566 - accuracy: 0.6415\n",
      "Epoch 8/100\n",
      "10/10 [==============================] - 0s 2ms/step - loss: 0.6485 - accuracy: 0.6415\n",
      "Epoch 9/100\n",
      "10/10 [==============================] - 0s 2ms/step - loss: 0.6432 - accuracy: 0.6415\n",
      "Epoch 10/100\n",
      "10/10 [==============================] - 0s 3ms/step - loss: 0.6388 - accuracy: 0.6415\n",
      "Epoch 11/100\n",
      "10/10 [==============================] - 0s 2ms/step - loss: 0.6346 - accuracy: 0.6415\n",
      "Epoch 12/100\n",
      "10/10 [==============================] - 0s 2ms/step - loss: 0.6311 - accuracy: 0.6415\n",
      "Epoch 13/100\n",
      "10/10 [==============================] - 0s 3ms/step - loss: 0.6281 - accuracy: 0.6415\n",
      "Epoch 14/100\n",
      "10/10 [==============================] - 0s 2ms/step - loss: 0.6242 - accuracy: 0.6415\n",
      "Epoch 15/100\n",
      "10/10 [==============================] - 0s 2ms/step - loss: 0.6208 - accuracy: 0.6415\n",
      "Epoch 16/100\n",
      "10/10 [==============================] - 0s 2ms/step - loss: 0.6168 - accuracy: 0.6415\n",
      "Epoch 17/100\n",
      "10/10 [==============================] - 0s 2ms/step - loss: 0.6136 - accuracy: 0.6415\n",
      "Epoch 18/100\n",
      "10/10 [==============================] - 0s 2ms/step - loss: 0.6106 - accuracy: 0.6395\n",
      "Epoch 19/100\n",
      "10/10 [==============================] - 0s 2ms/step - loss: 0.6072 - accuracy: 0.6314\n",
      "Epoch 20/100\n",
      "10/10 [==============================] - 0s 2ms/step - loss: 0.6051 - accuracy: 0.6395\n",
      "Epoch 21/100\n",
      "10/10 [==============================] - 0s 4ms/step - loss: 0.6001 - accuracy: 0.6456\n",
      "Epoch 22/100\n",
      "10/10 [==============================] - 0s 2ms/step - loss: 0.5968 - accuracy: 0.6456\n",
      "Epoch 23/100\n",
      "10/10 [==============================] - 0s 3ms/step - loss: 0.5935 - accuracy: 0.6456\n",
      "Epoch 24/100\n",
      "10/10 [==============================] - 0s 3ms/step - loss: 0.5898 - accuracy: 0.6599\n",
      "Epoch 25/100\n",
      "10/10 [==============================] - 0s 2ms/step - loss: 0.5866 - accuracy: 0.6619\n",
      "Epoch 26/100\n",
      "10/10 [==============================] - 0s 2ms/step - loss: 0.5827 - accuracy: 0.6741\n",
      "Epoch 27/100\n",
      "10/10 [==============================] - 0s 3ms/step - loss: 0.5791 - accuracy: 0.6721\n",
      "Epoch 28/100\n",
      "10/10 [==============================] - 0s 2ms/step - loss: 0.5750 - accuracy: 0.6721\n",
      "Epoch 29/100\n",
      "10/10 [==============================] - 0s 3ms/step - loss: 0.5716 - accuracy: 0.6782\n",
      "Epoch 30/100\n",
      "10/10 [==============================] - 0s 2ms/step - loss: 0.5683 - accuracy: 0.6864\n",
      "Epoch 31/100\n",
      "10/10 [==============================] - 0s 2ms/step - loss: 0.5646 - accuracy: 0.6823\n",
      "Epoch 32/100\n",
      "10/10 [==============================] - 0s 2ms/step - loss: 0.5615 - accuracy: 0.6843\n",
      "Epoch 33/100\n",
      "10/10 [==============================] - 0s 2ms/step - loss: 0.5586 - accuracy: 0.6986\n",
      "Epoch 34/100\n",
      "10/10 [==============================] - 0s 2ms/step - loss: 0.5567 - accuracy: 0.6945\n",
      "Epoch 35/100\n",
      "10/10 [==============================] - 0s 2ms/step - loss: 0.5514 - accuracy: 0.6986\n",
      "Epoch 36/100\n",
      "10/10 [==============================] - 0s 2ms/step - loss: 0.5493 - accuracy: 0.7067\n",
      "Epoch 37/100\n",
      "10/10 [==============================] - 0s 2ms/step - loss: 0.5457 - accuracy: 0.7088\n",
      "Epoch 38/100\n",
      "10/10 [==============================] - 0s 3ms/step - loss: 0.5428 - accuracy: 0.7088\n",
      "Epoch 39/100\n",
      "10/10 [==============================] - 0s 3ms/step - loss: 0.5406 - accuracy: 0.7108\n",
      "Epoch 40/100\n",
      "10/10 [==============================] - 0s 3ms/step - loss: 0.5384 - accuracy: 0.7088\n",
      "Epoch 41/100\n",
      "10/10 [==============================] - 0s 2ms/step - loss: 0.5343 - accuracy: 0.7149\n",
      "Epoch 42/100\n",
      "10/10 [==============================] - 0s 2ms/step - loss: 0.5323 - accuracy: 0.7169\n",
      "Epoch 43/100\n",
      "10/10 [==============================] - 0s 2ms/step - loss: 0.5293 - accuracy: 0.7210\n",
      "Epoch 44/100\n",
      "10/10 [==============================] - 0s 2ms/step - loss: 0.5270 - accuracy: 0.7291\n",
      "Epoch 45/100\n",
      "10/10 [==============================] - 0s 2ms/step - loss: 0.5243 - accuracy: 0.7291\n",
      "Epoch 46/100\n",
      "10/10 [==============================] - 0s 3ms/step - loss: 0.5219 - accuracy: 0.7251\n",
      "Epoch 47/100\n",
      "10/10 [==============================] - 0s 3ms/step - loss: 0.5202 - accuracy: 0.7312\n",
      "Epoch 48/100\n",
      "10/10 [==============================] - 0s 2ms/step - loss: 0.5171 - accuracy: 0.7291\n",
      "Epoch 49/100\n",
      "10/10 [==============================] - 0s 2ms/step - loss: 0.5148 - accuracy: 0.7332\n",
      "Epoch 50/100\n",
      "10/10 [==============================] - 0s 2ms/step - loss: 0.5122 - accuracy: 0.7352\n",
      "Epoch 51/100\n",
      "10/10 [==============================] - 0s 2ms/step - loss: 0.5108 - accuracy: 0.7332\n",
      "Epoch 52/100\n",
      "10/10 [==============================] - 0s 2ms/step - loss: 0.5078 - accuracy: 0.7352\n",
      "Epoch 53/100\n",
      "10/10 [==============================] - 0s 3ms/step - loss: 0.5059 - accuracy: 0.7373\n",
      "Epoch 54/100\n",
      "10/10 [==============================] - 0s 2ms/step - loss: 0.5040 - accuracy: 0.7413\n",
      "Epoch 55/100\n",
      "10/10 [==============================] - 0s 2ms/step - loss: 0.5016 - accuracy: 0.7434\n",
      "Epoch 56/100\n",
      "10/10 [==============================] - 0s 2ms/step - loss: 0.5005 - accuracy: 0.7413\n",
      "Epoch 57/100\n",
      "10/10 [==============================] - 0s 2ms/step - loss: 0.4979 - accuracy: 0.7413\n",
      "Epoch 58/100\n",
      "10/10 [==============================] - 0s 2ms/step - loss: 0.4963 - accuracy: 0.7454\n",
      "Epoch 59/100\n",
      "10/10 [==============================] - 0s 2ms/step - loss: 0.4946 - accuracy: 0.7413\n",
      "Epoch 60/100\n",
      "10/10 [==============================] - 0s 2ms/step - loss: 0.4927 - accuracy: 0.7495\n",
      "Epoch 61/100\n",
      "10/10 [==============================] - 0s 2ms/step - loss: 0.4913 - accuracy: 0.7515\n",
      "Epoch 62/100\n",
      "10/10 [==============================] - 0s 2ms/step - loss: 0.4895 - accuracy: 0.7556\n",
      "Epoch 63/100\n",
      "10/10 [==============================] - 0s 2ms/step - loss: 0.4878 - accuracy: 0.7556\n",
      "Epoch 64/100\n",
      "10/10 [==============================] - 0s 2ms/step - loss: 0.4862 - accuracy: 0.7617\n",
      "Epoch 65/100\n",
      "10/10 [==============================] - 0s 2ms/step - loss: 0.4846 - accuracy: 0.7617\n",
      "Epoch 66/100\n",
      "10/10 [==============================] - 0s 2ms/step - loss: 0.4833 - accuracy: 0.7495\n",
      "Epoch 67/100\n",
      "10/10 [==============================] - 0s 2ms/step - loss: 0.4811 - accuracy: 0.7597\n",
      "Epoch 68/100\n",
      "10/10 [==============================] - 0s 2ms/step - loss: 0.4811 - accuracy: 0.7699\n",
      "Epoch 69/100\n",
      "10/10 [==============================] - 0s 2ms/step - loss: 0.4784 - accuracy: 0.7597\n",
      "Epoch 70/100\n",
      "10/10 [==============================] - 0s 2ms/step - loss: 0.4770 - accuracy: 0.7597\n",
      "Epoch 71/100\n",
      "10/10 [==============================] - 0s 2ms/step - loss: 0.4760 - accuracy: 0.7678\n",
      "Epoch 72/100\n",
      "10/10 [==============================] - 0s 2ms/step - loss: 0.4766 - accuracy: 0.7495\n",
      "Epoch 73/100\n",
      "10/10 [==============================] - 0s 2ms/step - loss: 0.4741 - accuracy: 0.7678\n",
      "Epoch 74/100\n",
      "10/10 [==============================] - 0s 2ms/step - loss: 0.4712 - accuracy: 0.7739\n",
      "Epoch 75/100\n",
      "10/10 [==============================] - 0s 2ms/step - loss: 0.4719 - accuracy: 0.7576\n",
      "Epoch 76/100\n",
      "10/10 [==============================] - 0s 2ms/step - loss: 0.4685 - accuracy: 0.7597\n",
      "Epoch 77/100\n",
      "10/10 [==============================] - 0s 2ms/step - loss: 0.4683 - accuracy: 0.7719\n",
      "Epoch 78/100\n",
      "10/10 [==============================] - 0s 2ms/step - loss: 0.4677 - accuracy: 0.7617\n",
      "Epoch 79/100\n",
      "10/10 [==============================] - 0s 2ms/step - loss: 0.4668 - accuracy: 0.7719\n",
      "Epoch 80/100\n",
      "10/10 [==============================] - 0s 2ms/step - loss: 0.4660 - accuracy: 0.7576\n",
      "Epoch 81/100\n",
      "10/10 [==============================] - 0s 2ms/step - loss: 0.4653 - accuracy: 0.7658\n",
      "Epoch 82/100\n",
      "10/10 [==============================] - 0s 2ms/step - loss: 0.4626 - accuracy: 0.7719\n",
      "Epoch 83/100\n",
      "10/10 [==============================] - 0s 2ms/step - loss: 0.4620 - accuracy: 0.7780\n",
      "Epoch 84/100\n",
      "10/10 [==============================] - 0s 2ms/step - loss: 0.4602 - accuracy: 0.7780\n",
      "Epoch 85/100\n",
      "10/10 [==============================] - 0s 2ms/step - loss: 0.4625 - accuracy: 0.7617\n",
      "Epoch 86/100\n",
      "10/10 [==============================] - 0s 2ms/step - loss: 0.4576 - accuracy: 0.7719\n",
      "Epoch 87/100\n",
      "10/10 [==============================] - 0s 3ms/step - loss: 0.4585 - accuracy: 0.7841\n",
      "Epoch 88/100\n",
      "10/10 [==============================] - 0s 5ms/step - loss: 0.4568 - accuracy: 0.7658\n",
      "Epoch 89/100\n",
      "10/10 [==============================] - 0s 3ms/step - loss: 0.4562 - accuracy: 0.7699\n",
      "Epoch 90/100\n",
      "10/10 [==============================] - 0s 2ms/step - loss: 0.4564 - accuracy: 0.7821\n",
      "Epoch 91/100\n",
      "10/10 [==============================] - 0s 2ms/step - loss: 0.4552 - accuracy: 0.7760\n",
      "Epoch 92/100\n",
      "10/10 [==============================] - 0s 2ms/step - loss: 0.4529 - accuracy: 0.7739\n",
      "Epoch 93/100\n",
      "10/10 [==============================] - 0s 2ms/step - loss: 0.4557 - accuracy: 0.7841\n",
      "Epoch 94/100\n",
      "10/10 [==============================] - 0s 2ms/step - loss: 0.4525 - accuracy: 0.7719\n",
      "Epoch 95/100\n",
      "10/10 [==============================] - 0s 2ms/step - loss: 0.4513 - accuracy: 0.7719\n",
      "Epoch 96/100\n",
      "10/10 [==============================] - 0s 2ms/step - loss: 0.4512 - accuracy: 0.7719\n",
      "Epoch 97/100\n",
      "10/10 [==============================] - 0s 2ms/step - loss: 0.4494 - accuracy: 0.7780\n",
      "Epoch 98/100\n",
      "10/10 [==============================] - 0s 2ms/step - loss: 0.4494 - accuracy: 0.7760\n",
      "Epoch 99/100\n",
      "10/10 [==============================] - 0s 3ms/step - loss: 0.4483 - accuracy: 0.7760\n",
      "Epoch 100/100\n",
      "10/10 [==============================] - 0s 2ms/step - loss: 0.4481 - accuracy: 0.7821\n",
      "4/4 [==============================] - 0s 2ms/step\n",
      "Epoch 1/100\n",
      "10/10 [==============================] - 2s 2ms/step - loss: 0.6696 - accuracy: 0.6578\n",
      "Epoch 2/100\n",
      "10/10 [==============================] - 0s 2ms/step - loss: 0.6628 - accuracy: 0.6436\n",
      "Epoch 3/100\n",
      "10/10 [==============================] - 0s 2ms/step - loss: 0.6596 - accuracy: 0.6436\n",
      "Epoch 4/100\n",
      "10/10 [==============================] - 0s 2ms/step - loss: 0.6550 - accuracy: 0.6436\n",
      "Epoch 5/100\n",
      "10/10 [==============================] - 0s 2ms/step - loss: 0.6529 - accuracy: 0.6436\n",
      "Epoch 6/100\n",
      "10/10 [==============================] - 0s 2ms/step - loss: 0.6500 - accuracy: 0.6436\n",
      "Epoch 7/100\n",
      "10/10 [==============================] - 0s 2ms/step - loss: 0.6481 - accuracy: 0.6436\n",
      "Epoch 8/100\n",
      "10/10 [==============================] - 0s 2ms/step - loss: 0.6462 - accuracy: 0.6436\n",
      "Epoch 9/100\n",
      "10/10 [==============================] - 0s 2ms/step - loss: 0.6443 - accuracy: 0.6456\n",
      "Epoch 10/100\n",
      "10/10 [==============================] - 0s 2ms/step - loss: 0.6424 - accuracy: 0.6477\n",
      "Epoch 11/100\n",
      "10/10 [==============================] - 0s 2ms/step - loss: 0.6405 - accuracy: 0.6497\n",
      "Epoch 12/100\n",
      "10/10 [==============================] - 0s 2ms/step - loss: 0.6384 - accuracy: 0.6497\n",
      "Epoch 13/100\n",
      "10/10 [==============================] - 0s 2ms/step - loss: 0.6366 - accuracy: 0.6497\n",
      "Epoch 14/100\n",
      "10/10 [==============================] - 0s 2ms/step - loss: 0.6345 - accuracy: 0.6497\n",
      "Epoch 15/100\n",
      "10/10 [==============================] - 0s 2ms/step - loss: 0.6327 - accuracy: 0.6497\n",
      "Epoch 16/100\n",
      "10/10 [==============================] - 0s 3ms/step - loss: 0.6306 - accuracy: 0.6538\n",
      "Epoch 17/100\n",
      "10/10 [==============================] - 0s 2ms/step - loss: 0.6286 - accuracy: 0.6538\n",
      "Epoch 18/100\n",
      "10/10 [==============================] - 0s 2ms/step - loss: 0.6265 - accuracy: 0.6599\n",
      "Epoch 19/100\n",
      "10/10 [==============================] - 0s 2ms/step - loss: 0.6250 - accuracy: 0.6599\n",
      "Epoch 20/100\n",
      "10/10 [==============================] - 0s 3ms/step - loss: 0.6225 - accuracy: 0.6640\n",
      "Epoch 21/100\n",
      "10/10 [==============================] - 0s 2ms/step - loss: 0.6206 - accuracy: 0.6741\n",
      "Epoch 22/100\n",
      "10/10 [==============================] - 0s 2ms/step - loss: 0.6187 - accuracy: 0.6782\n",
      "Epoch 23/100\n",
      "10/10 [==============================] - 0s 2ms/step - loss: 0.6165 - accuracy: 0.6782\n",
      "Epoch 24/100\n",
      "10/10 [==============================] - 0s 2ms/step - loss: 0.6145 - accuracy: 0.6721\n",
      "Epoch 25/100\n",
      "10/10 [==============================] - 0s 2ms/step - loss: 0.6123 - accuracy: 0.6741\n",
      "Epoch 26/100\n",
      "10/10 [==============================] - 0s 2ms/step - loss: 0.6096 - accuracy: 0.6721\n",
      "Epoch 27/100\n",
      "10/10 [==============================] - 0s 2ms/step - loss: 0.6072 - accuracy: 0.6721\n",
      "Epoch 28/100\n",
      "10/10 [==============================] - 0s 2ms/step - loss: 0.6043 - accuracy: 0.6721\n",
      "Epoch 29/100\n",
      "10/10 [==============================] - 0s 2ms/step - loss: 0.6013 - accuracy: 0.6843\n",
      "Epoch 30/100\n",
      "10/10 [==============================] - 0s 2ms/step - loss: 0.5984 - accuracy: 0.6864\n",
      "Epoch 31/100\n",
      "10/10 [==============================] - 0s 2ms/step - loss: 0.5954 - accuracy: 0.6884\n",
      "Epoch 32/100\n",
      "10/10 [==============================] - 0s 2ms/step - loss: 0.5925 - accuracy: 0.6904\n",
      "Epoch 33/100\n",
      "10/10 [==============================] - 0s 2ms/step - loss: 0.5896 - accuracy: 0.6864\n",
      "Epoch 34/100\n",
      "10/10 [==============================] - 0s 2ms/step - loss: 0.5861 - accuracy: 0.6864\n",
      "Epoch 35/100\n",
      "10/10 [==============================] - 0s 2ms/step - loss: 0.5838 - accuracy: 0.6843\n",
      "Epoch 36/100\n",
      "10/10 [==============================] - 0s 2ms/step - loss: 0.5801 - accuracy: 0.6843\n",
      "Epoch 37/100\n",
      "10/10 [==============================] - 0s 2ms/step - loss: 0.5781 - accuracy: 0.6884\n",
      "Epoch 38/100\n",
      "10/10 [==============================] - 0s 2ms/step - loss: 0.5748 - accuracy: 0.6884\n",
      "Epoch 39/100\n",
      "10/10 [==============================] - 0s 2ms/step - loss: 0.5717 - accuracy: 0.6864\n",
      "Epoch 40/100\n",
      "10/10 [==============================] - 0s 2ms/step - loss: 0.5693 - accuracy: 0.6904\n",
      "Epoch 41/100\n",
      "10/10 [==============================] - 0s 2ms/step - loss: 0.5662 - accuracy: 0.6965\n",
      "Epoch 42/100\n",
      "10/10 [==============================] - 0s 2ms/step - loss: 0.5635 - accuracy: 0.7047\n",
      "Epoch 43/100\n",
      "10/10 [==============================] - 0s 2ms/step - loss: 0.5606 - accuracy: 0.7047\n",
      "Epoch 44/100\n",
      "10/10 [==============================] - 0s 2ms/step - loss: 0.5582 - accuracy: 0.7088\n",
      "Epoch 45/100\n",
      "10/10 [==============================] - 0s 2ms/step - loss: 0.5556 - accuracy: 0.7108\n",
      "Epoch 46/100\n",
      "10/10 [==============================] - 0s 2ms/step - loss: 0.5537 - accuracy: 0.7230\n",
      "Epoch 47/100\n",
      "10/10 [==============================] - 0s 2ms/step - loss: 0.5499 - accuracy: 0.7251\n",
      "Epoch 48/100\n",
      "10/10 [==============================] - 0s 5ms/step - loss: 0.5478 - accuracy: 0.7230\n",
      "Epoch 49/100\n",
      "10/10 [==============================] - 0s 2ms/step - loss: 0.5448 - accuracy: 0.7271\n",
      "Epoch 50/100\n",
      "10/10 [==============================] - 0s 2ms/step - loss: 0.5423 - accuracy: 0.7291\n",
      "Epoch 51/100\n",
      "10/10 [==============================] - 0s 2ms/step - loss: 0.5402 - accuracy: 0.7291\n",
      "Epoch 52/100\n",
      "10/10 [==============================] - 0s 2ms/step - loss: 0.5377 - accuracy: 0.7271\n",
      "Epoch 53/100\n",
      "10/10 [==============================] - 0s 2ms/step - loss: 0.5358 - accuracy: 0.7291\n",
      "Epoch 54/100\n",
      "10/10 [==============================] - 0s 2ms/step - loss: 0.5340 - accuracy: 0.7291\n",
      "Epoch 55/100\n",
      "10/10 [==============================] - 0s 2ms/step - loss: 0.5323 - accuracy: 0.7291\n",
      "Epoch 56/100\n",
      "10/10 [==============================] - 0s 2ms/step - loss: 0.5293 - accuracy: 0.7312\n",
      "Epoch 57/100\n",
      "10/10 [==============================] - 0s 2ms/step - loss: 0.5267 - accuracy: 0.7373\n",
      "Epoch 58/100\n",
      "10/10 [==============================] - 0s 2ms/step - loss: 0.5235 - accuracy: 0.7413\n",
      "Epoch 59/100\n",
      "10/10 [==============================] - 0s 2ms/step - loss: 0.5221 - accuracy: 0.7352\n",
      "Epoch 60/100\n",
      "10/10 [==============================] - 0s 2ms/step - loss: 0.5193 - accuracy: 0.7393\n",
      "Epoch 61/100\n",
      "10/10 [==============================] - 0s 2ms/step - loss: 0.5196 - accuracy: 0.7332\n",
      "Epoch 62/100\n",
      "10/10 [==============================] - 0s 2ms/step - loss: 0.5159 - accuracy: 0.7454\n",
      "Epoch 63/100\n",
      "10/10 [==============================] - 0s 3ms/step - loss: 0.5136 - accuracy: 0.7393\n",
      "Epoch 64/100\n",
      "10/10 [==============================] - 0s 2ms/step - loss: 0.5127 - accuracy: 0.7475\n",
      "Epoch 65/100\n",
      "10/10 [==============================] - 0s 2ms/step - loss: 0.5096 - accuracy: 0.7434\n",
      "Epoch 66/100\n",
      "10/10 [==============================] - 0s 2ms/step - loss: 0.5088 - accuracy: 0.7475\n",
      "Epoch 67/100\n",
      "10/10 [==============================] - 0s 2ms/step - loss: 0.5059 - accuracy: 0.7556\n",
      "Epoch 68/100\n",
      "10/10 [==============================] - 0s 2ms/step - loss: 0.5053 - accuracy: 0.7597\n",
      "Epoch 69/100\n",
      "10/10 [==============================] - 0s 2ms/step - loss: 0.5043 - accuracy: 0.7536\n",
      "Epoch 70/100\n",
      "10/10 [==============================] - 0s 2ms/step - loss: 0.5011 - accuracy: 0.7597\n",
      "Epoch 71/100\n",
      "10/10 [==============================] - 0s 2ms/step - loss: 0.5007 - accuracy: 0.7576\n",
      "Epoch 72/100\n",
      "10/10 [==============================] - 0s 2ms/step - loss: 0.4998 - accuracy: 0.7536\n",
      "Epoch 73/100\n",
      "10/10 [==============================] - 0s 2ms/step - loss: 0.4977 - accuracy: 0.7597\n",
      "Epoch 74/100\n",
      "10/10 [==============================] - 0s 2ms/step - loss: 0.4995 - accuracy: 0.7597\n",
      "Epoch 75/100\n",
      "10/10 [==============================] - 0s 2ms/step - loss: 0.4947 - accuracy: 0.7658\n",
      "Epoch 76/100\n",
      "10/10 [==============================] - 0s 2ms/step - loss: 0.4941 - accuracy: 0.7658\n",
      "Epoch 77/100\n",
      "10/10 [==============================] - 0s 2ms/step - loss: 0.4930 - accuracy: 0.7719\n",
      "Epoch 78/100\n",
      "10/10 [==============================] - 0s 2ms/step - loss: 0.4921 - accuracy: 0.7719\n",
      "Epoch 79/100\n",
      "10/10 [==============================] - 0s 2ms/step - loss: 0.4914 - accuracy: 0.7658\n",
      "Epoch 80/100\n",
      "10/10 [==============================] - 0s 2ms/step - loss: 0.4893 - accuracy: 0.7658\n",
      "Epoch 81/100\n",
      "10/10 [==============================] - 0s 2ms/step - loss: 0.4946 - accuracy: 0.7658\n",
      "Epoch 82/100\n",
      "10/10 [==============================] - 0s 2ms/step - loss: 0.4891 - accuracy: 0.7678\n",
      "Epoch 83/100\n",
      "10/10 [==============================] - 0s 2ms/step - loss: 0.4884 - accuracy: 0.7617\n",
      "Epoch 84/100\n",
      "10/10 [==============================] - 0s 2ms/step - loss: 0.4865 - accuracy: 0.7678\n",
      "Epoch 85/100\n",
      "10/10 [==============================] - 0s 2ms/step - loss: 0.4861 - accuracy: 0.7658\n",
      "Epoch 86/100\n",
      "10/10 [==============================] - 0s 2ms/step - loss: 0.4855 - accuracy: 0.7699\n",
      "Epoch 87/100\n",
      "10/10 [==============================] - 0s 2ms/step - loss: 0.4844 - accuracy: 0.7719\n",
      "Epoch 88/100\n",
      "10/10 [==============================] - 0s 2ms/step - loss: 0.4840 - accuracy: 0.7658\n",
      "Epoch 89/100\n",
      "10/10 [==============================] - 0s 2ms/step - loss: 0.4837 - accuracy: 0.7699\n",
      "Epoch 90/100\n",
      "10/10 [==============================] - 0s 2ms/step - loss: 0.4824 - accuracy: 0.7719\n",
      "Epoch 91/100\n",
      "10/10 [==============================] - 0s 2ms/step - loss: 0.4825 - accuracy: 0.7678\n",
      "Epoch 92/100\n",
      "10/10 [==============================] - 0s 2ms/step - loss: 0.4812 - accuracy: 0.7739\n",
      "Epoch 93/100\n",
      "10/10 [==============================] - 0s 4ms/step - loss: 0.4806 - accuracy: 0.7739\n",
      "Epoch 94/100\n",
      "10/10 [==============================] - 0s 3ms/step - loss: 0.4800 - accuracy: 0.7719\n",
      "Epoch 95/100\n",
      "10/10 [==============================] - 0s 2ms/step - loss: 0.4791 - accuracy: 0.7780\n",
      "Epoch 96/100\n",
      "10/10 [==============================] - 0s 2ms/step - loss: 0.4787 - accuracy: 0.7780\n",
      "Epoch 97/100\n",
      "10/10 [==============================] - 0s 2ms/step - loss: 0.4781 - accuracy: 0.7739\n",
      "Epoch 98/100\n",
      "10/10 [==============================] - 0s 3ms/step - loss: 0.4788 - accuracy: 0.7699\n",
      "Epoch 99/100\n",
      "10/10 [==============================] - 0s 2ms/step - loss: 0.4783 - accuracy: 0.7699\n",
      "Epoch 100/100\n",
      "10/10 [==============================] - 0s 2ms/step - loss: 0.4788 - accuracy: 0.7658\n",
      "4/4 [==============================] - 0s 2ms/step\n",
      "Epoch 1/100\n",
      "10/10 [==============================] - 1s 2ms/step - loss: 0.6802 - accuracy: 0.6395\n",
      "Epoch 2/100\n",
      "10/10 [==============================] - 0s 2ms/step - loss: 0.6732 - accuracy: 0.6497\n",
      "Epoch 3/100\n",
      "10/10 [==============================] - 0s 3ms/step - loss: 0.6666 - accuracy: 0.6497\n",
      "Epoch 4/100\n",
      "10/10 [==============================] - 0s 2ms/step - loss: 0.6598 - accuracy: 0.6497\n",
      "Epoch 5/100\n",
      "10/10 [==============================] - 0s 2ms/step - loss: 0.6550 - accuracy: 0.6497\n",
      "Epoch 6/100\n",
      "10/10 [==============================] - 0s 2ms/step - loss: 0.6521 - accuracy: 0.6497\n",
      "Epoch 7/100\n",
      "10/10 [==============================] - 0s 2ms/step - loss: 0.6495 - accuracy: 0.6497\n",
      "Epoch 8/100\n",
      "10/10 [==============================] - 0s 2ms/step - loss: 0.6475 - accuracy: 0.6497\n",
      "Epoch 9/100\n",
      "10/10 [==============================] - 0s 2ms/step - loss: 0.6458 - accuracy: 0.6497\n",
      "Epoch 10/100\n",
      "10/10 [==============================] - 0s 2ms/step - loss: 0.6444 - accuracy: 0.6497\n",
      "Epoch 11/100\n",
      "10/10 [==============================] - 0s 2ms/step - loss: 0.6422 - accuracy: 0.6497\n",
      "Epoch 12/100\n",
      "10/10 [==============================] - 0s 2ms/step - loss: 0.6408 - accuracy: 0.6497\n",
      "Epoch 13/100\n",
      "10/10 [==============================] - 0s 2ms/step - loss: 0.6380 - accuracy: 0.6497\n",
      "Epoch 14/100\n",
      "10/10 [==============================] - 0s 2ms/step - loss: 0.6358 - accuracy: 0.6517\n",
      "Epoch 15/100\n",
      "10/10 [==============================] - 0s 2ms/step - loss: 0.6332 - accuracy: 0.6538\n",
      "Epoch 16/100\n",
      "10/10 [==============================] - 0s 2ms/step - loss: 0.6304 - accuracy: 0.6558\n",
      "Epoch 17/100\n",
      "10/10 [==============================] - 0s 2ms/step - loss: 0.6277 - accuracy: 0.6599\n",
      "Epoch 18/100\n",
      "10/10 [==============================] - 0s 2ms/step - loss: 0.6252 - accuracy: 0.6619\n",
      "Epoch 19/100\n",
      "10/10 [==============================] - 0s 2ms/step - loss: 0.6231 - accuracy: 0.6599\n",
      "Epoch 20/100\n",
      "10/10 [==============================] - 0s 2ms/step - loss: 0.6205 - accuracy: 0.6619\n",
      "Epoch 21/100\n",
      "10/10 [==============================] - 0s 2ms/step - loss: 0.6181 - accuracy: 0.6619\n",
      "Epoch 22/100\n",
      "10/10 [==============================] - 0s 2ms/step - loss: 0.6160 - accuracy: 0.6640\n",
      "Epoch 23/100\n",
      "10/10 [==============================] - 0s 2ms/step - loss: 0.6132 - accuracy: 0.6721\n",
      "Epoch 24/100\n",
      "10/10 [==============================] - 0s 2ms/step - loss: 0.6109 - accuracy: 0.6741\n",
      "Epoch 25/100\n",
      "10/10 [==============================] - 0s 2ms/step - loss: 0.6095 - accuracy: 0.6701\n",
      "Epoch 26/100\n",
      "10/10 [==============================] - 0s 2ms/step - loss: 0.6059 - accuracy: 0.6741\n",
      "Epoch 27/100\n",
      "10/10 [==============================] - 0s 2ms/step - loss: 0.6040 - accuracy: 0.6782\n",
      "Epoch 28/100\n",
      "10/10 [==============================] - 0s 2ms/step - loss: 0.6004 - accuracy: 0.6782\n",
      "Epoch 29/100\n",
      "10/10 [==============================] - 0s 2ms/step - loss: 0.5985 - accuracy: 0.6782\n",
      "Epoch 30/100\n",
      "10/10 [==============================] - 0s 2ms/step - loss: 0.5953 - accuracy: 0.6904\n",
      "Epoch 31/100\n",
      "10/10 [==============================] - 0s 2ms/step - loss: 0.5909 - accuracy: 0.6864\n",
      "Epoch 32/100\n",
      "10/10 [==============================] - 0s 2ms/step - loss: 0.5877 - accuracy: 0.6925\n",
      "Epoch 33/100\n",
      "10/10 [==============================] - 0s 2ms/step - loss: 0.5851 - accuracy: 0.6945\n",
      "Epoch 34/100\n",
      "10/10 [==============================] - 0s 2ms/step - loss: 0.5828 - accuracy: 0.6986\n",
      "Epoch 35/100\n",
      "10/10 [==============================] - 0s 2ms/step - loss: 0.5789 - accuracy: 0.6986\n",
      "Epoch 36/100\n",
      "10/10 [==============================] - 0s 2ms/step - loss: 0.5763 - accuracy: 0.6945\n",
      "Epoch 37/100\n",
      "10/10 [==============================] - 0s 2ms/step - loss: 0.5729 - accuracy: 0.7067\n",
      "Epoch 38/100\n",
      "10/10 [==============================] - 0s 2ms/step - loss: 0.5702 - accuracy: 0.7088\n",
      "Epoch 39/100\n",
      "10/10 [==============================] - 0s 2ms/step - loss: 0.5674 - accuracy: 0.7149\n",
      "Epoch 40/100\n",
      "10/10 [==============================] - 0s 2ms/step - loss: 0.5643 - accuracy: 0.7108\n",
      "Epoch 41/100\n",
      "10/10 [==============================] - 0s 2ms/step - loss: 0.5612 - accuracy: 0.7189\n",
      "Epoch 42/100\n",
      "10/10 [==============================] - 0s 2ms/step - loss: 0.5587 - accuracy: 0.7149\n",
      "Epoch 43/100\n",
      "10/10 [==============================] - 0s 2ms/step - loss: 0.5561 - accuracy: 0.7169\n",
      "Epoch 44/100\n",
      "10/10 [==============================] - 0s 2ms/step - loss: 0.5534 - accuracy: 0.7169\n",
      "Epoch 45/100\n",
      "10/10 [==============================] - 0s 2ms/step - loss: 0.5504 - accuracy: 0.7312\n",
      "Epoch 46/100\n",
      "10/10 [==============================] - 0s 2ms/step - loss: 0.5478 - accuracy: 0.7251\n",
      "Epoch 47/100\n",
      "10/10 [==============================] - 0s 2ms/step - loss: 0.5452 - accuracy: 0.7251\n",
      "Epoch 48/100\n",
      "10/10 [==============================] - 0s 2ms/step - loss: 0.5432 - accuracy: 0.7271\n",
      "Epoch 49/100\n",
      "10/10 [==============================] - 0s 2ms/step - loss: 0.5406 - accuracy: 0.7271\n",
      "Epoch 50/100\n",
      "10/10 [==============================] - 0s 2ms/step - loss: 0.5382 - accuracy: 0.7271\n",
      "Epoch 51/100\n",
      "10/10 [==============================] - 0s 2ms/step - loss: 0.5356 - accuracy: 0.7271\n",
      "Epoch 52/100\n",
      "10/10 [==============================] - 0s 2ms/step - loss: 0.5337 - accuracy: 0.7312\n",
      "Epoch 53/100\n",
      "10/10 [==============================] - 0s 2ms/step - loss: 0.5335 - accuracy: 0.7291\n",
      "Epoch 54/100\n",
      "10/10 [==============================] - 0s 2ms/step - loss: 0.5296 - accuracy: 0.7352\n",
      "Epoch 55/100\n",
      "10/10 [==============================] - 0s 4ms/step - loss: 0.5278 - accuracy: 0.7413\n",
      "Epoch 56/100\n",
      "10/10 [==============================] - 0s 2ms/step - loss: 0.5264 - accuracy: 0.7373\n",
      "Epoch 57/100\n",
      "10/10 [==============================] - 0s 2ms/step - loss: 0.5233 - accuracy: 0.7413\n",
      "Epoch 58/100\n",
      "10/10 [==============================] - 0s 2ms/step - loss: 0.5235 - accuracy: 0.7393\n",
      "Epoch 59/100\n",
      "10/10 [==============================] - 0s 2ms/step - loss: 0.5203 - accuracy: 0.7454\n",
      "Epoch 60/100\n",
      "10/10 [==============================] - 0s 2ms/step - loss: 0.5188 - accuracy: 0.7413\n",
      "Epoch 61/100\n",
      "10/10 [==============================] - 0s 3ms/step - loss: 0.5167 - accuracy: 0.7393\n",
      "Epoch 62/100\n",
      "10/10 [==============================] - 0s 2ms/step - loss: 0.5149 - accuracy: 0.7413\n",
      "Epoch 63/100\n",
      "10/10 [==============================] - 0s 2ms/step - loss: 0.5140 - accuracy: 0.7434\n",
      "Epoch 64/100\n",
      "10/10 [==============================] - 0s 2ms/step - loss: 0.5120 - accuracy: 0.7393\n",
      "Epoch 65/100\n",
      "10/10 [==============================] - 0s 2ms/step - loss: 0.5094 - accuracy: 0.7475\n",
      "Epoch 66/100\n",
      "10/10 [==============================] - 0s 2ms/step - loss: 0.5078 - accuracy: 0.7454\n",
      "Epoch 67/100\n",
      "10/10 [==============================] - 0s 2ms/step - loss: 0.5071 - accuracy: 0.7515\n",
      "Epoch 68/100\n",
      "10/10 [==============================] - 0s 2ms/step - loss: 0.5053 - accuracy: 0.7434\n",
      "Epoch 69/100\n",
      "10/10 [==============================] - 0s 2ms/step - loss: 0.5050 - accuracy: 0.7475\n",
      "Epoch 70/100\n",
      "10/10 [==============================] - 0s 2ms/step - loss: 0.5015 - accuracy: 0.7454\n",
      "Epoch 71/100\n",
      "10/10 [==============================] - 0s 2ms/step - loss: 0.5006 - accuracy: 0.7556\n",
      "Epoch 72/100\n",
      "10/10 [==============================] - 0s 2ms/step - loss: 0.4990 - accuracy: 0.7556\n",
      "Epoch 73/100\n",
      "10/10 [==============================] - 0s 2ms/step - loss: 0.4973 - accuracy: 0.7576\n",
      "Epoch 74/100\n",
      "10/10 [==============================] - 0s 2ms/step - loss: 0.4959 - accuracy: 0.7556\n",
      "Epoch 75/100\n",
      "10/10 [==============================] - 0s 2ms/step - loss: 0.4965 - accuracy: 0.7576\n",
      "Epoch 76/100\n",
      "10/10 [==============================] - 0s 2ms/step - loss: 0.4932 - accuracy: 0.7617\n",
      "Epoch 77/100\n",
      "10/10 [==============================] - 0s 2ms/step - loss: 0.4917 - accuracy: 0.7637\n",
      "Epoch 78/100\n",
      "10/10 [==============================] - 0s 2ms/step - loss: 0.4903 - accuracy: 0.7637\n",
      "Epoch 79/100\n",
      "10/10 [==============================] - 0s 2ms/step - loss: 0.4888 - accuracy: 0.7658\n",
      "Epoch 80/100\n",
      "10/10 [==============================] - 0s 2ms/step - loss: 0.4874 - accuracy: 0.7617\n",
      "Epoch 81/100\n",
      "10/10 [==============================] - 0s 2ms/step - loss: 0.4870 - accuracy: 0.7658\n",
      "Epoch 82/100\n",
      "10/10 [==============================] - 0s 2ms/step - loss: 0.4853 - accuracy: 0.7678\n",
      "Epoch 83/100\n",
      "10/10 [==============================] - 0s 2ms/step - loss: 0.4844 - accuracy: 0.7658\n",
      "Epoch 84/100\n",
      "10/10 [==============================] - 0s 2ms/step - loss: 0.4828 - accuracy: 0.7719\n",
      "Epoch 85/100\n",
      "10/10 [==============================] - 0s 2ms/step - loss: 0.4820 - accuracy: 0.7678\n",
      "Epoch 86/100\n",
      "10/10 [==============================] - 0s 2ms/step - loss: 0.4804 - accuracy: 0.7699\n",
      "Epoch 87/100\n",
      "10/10 [==============================] - 0s 2ms/step - loss: 0.4796 - accuracy: 0.7699\n",
      "Epoch 88/100\n",
      "10/10 [==============================] - 0s 2ms/step - loss: 0.4785 - accuracy: 0.7699\n",
      "Epoch 89/100\n",
      "10/10 [==============================] - 0s 2ms/step - loss: 0.4777 - accuracy: 0.7739\n",
      "Epoch 90/100\n",
      "10/10 [==============================] - 0s 2ms/step - loss: 0.4766 - accuracy: 0.7739\n",
      "Epoch 91/100\n",
      "10/10 [==============================] - 0s 2ms/step - loss: 0.4770 - accuracy: 0.7780\n",
      "Epoch 92/100\n",
      "10/10 [==============================] - 0s 3ms/step - loss: 0.4752 - accuracy: 0.7719\n",
      "Epoch 93/100\n",
      "10/10 [==============================] - 0s 2ms/step - loss: 0.4738 - accuracy: 0.7699\n",
      "Epoch 94/100\n",
      "10/10 [==============================] - 0s 2ms/step - loss: 0.4742 - accuracy: 0.7760\n",
      "Epoch 95/100\n",
      "10/10 [==============================] - 0s 2ms/step - loss: 0.4734 - accuracy: 0.7719\n",
      "Epoch 96/100\n",
      "10/10 [==============================] - 0s 2ms/step - loss: 0.4714 - accuracy: 0.7760\n",
      "Epoch 97/100\n",
      "10/10 [==============================] - 0s 3ms/step - loss: 0.4706 - accuracy: 0.7760\n",
      "Epoch 98/100\n",
      "10/10 [==============================] - 0s 2ms/step - loss: 0.4703 - accuracy: 0.7800\n",
      "Epoch 99/100\n",
      "10/10 [==============================] - 0s 2ms/step - loss: 0.4701 - accuracy: 0.7821\n",
      "Epoch 100/100\n",
      "10/10 [==============================] - 0s 2ms/step - loss: 0.4687 - accuracy: 0.7800\n",
      "4/4 [==============================] - 0s 2ms/step\n",
      "Epoch 1/100\n",
      "10/10 [==============================] - 1s 2ms/step - loss: 0.6952 - accuracy: 0.6314\n",
      "Epoch 2/100\n",
      "10/10 [==============================] - 0s 2ms/step - loss: 0.6917 - accuracy: 0.6354\n",
      "Epoch 3/100\n",
      "10/10 [==============================] - 0s 2ms/step - loss: 0.6886 - accuracy: 0.6354\n",
      "Epoch 4/100\n",
      "10/10 [==============================] - 0s 2ms/step - loss: 0.6859 - accuracy: 0.6354\n",
      "Epoch 5/100\n",
      "10/10 [==============================] - 0s 2ms/step - loss: 0.6831 - accuracy: 0.6354\n",
      "Epoch 6/100\n",
      "10/10 [==============================] - 0s 2ms/step - loss: 0.6808 - accuracy: 0.6354\n",
      "Epoch 7/100\n",
      "10/10 [==============================] - 0s 2ms/step - loss: 0.6789 - accuracy: 0.6354\n",
      "Epoch 8/100\n",
      "10/10 [==============================] - 0s 2ms/step - loss: 0.6774 - accuracy: 0.6354\n",
      "Epoch 9/100\n",
      "10/10 [==============================] - 0s 2ms/step - loss: 0.6754 - accuracy: 0.6354\n",
      "Epoch 10/100\n",
      "10/10 [==============================] - 0s 2ms/step - loss: 0.6736 - accuracy: 0.6354\n",
      "Epoch 11/100\n",
      "10/10 [==============================] - 0s 2ms/step - loss: 0.6721 - accuracy: 0.6354\n",
      "Epoch 12/100\n",
      "10/10 [==============================] - 0s 5ms/step - loss: 0.6702 - accuracy: 0.6354\n",
      "Epoch 13/100\n",
      "10/10 [==============================] - 0s 3ms/step - loss: 0.6686 - accuracy: 0.6354\n",
      "Epoch 14/100\n",
      "10/10 [==============================] - 0s 3ms/step - loss: 0.6667 - accuracy: 0.6354\n",
      "Epoch 15/100\n",
      "10/10 [==============================] - 0s 2ms/step - loss: 0.6649 - accuracy: 0.6354\n",
      "Epoch 16/100\n",
      "10/10 [==============================] - 0s 2ms/step - loss: 0.6629 - accuracy: 0.6354\n",
      "Epoch 17/100\n",
      "10/10 [==============================] - 0s 2ms/step - loss: 0.6609 - accuracy: 0.6354\n",
      "Epoch 18/100\n",
      "10/10 [==============================] - 0s 2ms/step - loss: 0.6582 - accuracy: 0.6354\n",
      "Epoch 19/100\n",
      "10/10 [==============================] - 0s 2ms/step - loss: 0.6552 - accuracy: 0.6354\n",
      "Epoch 20/100\n",
      "10/10 [==============================] - 0s 2ms/step - loss: 0.6523 - accuracy: 0.6354\n",
      "Epoch 21/100\n",
      "10/10 [==============================] - 0s 2ms/step - loss: 0.6492 - accuracy: 0.6354\n",
      "Epoch 22/100\n",
      "10/10 [==============================] - 0s 2ms/step - loss: 0.6461 - accuracy: 0.6375\n",
      "Epoch 23/100\n",
      "10/10 [==============================] - 0s 2ms/step - loss: 0.6424 - accuracy: 0.6375\n",
      "Epoch 24/100\n",
      "10/10 [==============================] - 0s 2ms/step - loss: 0.6387 - accuracy: 0.6436\n",
      "Epoch 25/100\n",
      "10/10 [==============================] - 0s 2ms/step - loss: 0.6337 - accuracy: 0.6436\n",
      "Epoch 26/100\n",
      "10/10 [==============================] - 0s 2ms/step - loss: 0.6277 - accuracy: 0.6517\n",
      "Epoch 27/100\n",
      "10/10 [==============================] - 0s 2ms/step - loss: 0.6203 - accuracy: 0.6497\n",
      "Epoch 28/100\n",
      "10/10 [==============================] - 0s 2ms/step - loss: 0.6130 - accuracy: 0.6599\n",
      "Epoch 29/100\n",
      "10/10 [==============================] - 0s 2ms/step - loss: 0.6049 - accuracy: 0.6701\n",
      "Epoch 30/100\n",
      "10/10 [==============================] - 0s 2ms/step - loss: 0.5966 - accuracy: 0.6864\n",
      "Epoch 31/100\n",
      "10/10 [==============================] - 0s 2ms/step - loss: 0.5860 - accuracy: 0.6986\n",
      "Epoch 32/100\n",
      "10/10 [==============================] - 0s 2ms/step - loss: 0.5762 - accuracy: 0.7169\n",
      "Epoch 33/100\n",
      "10/10 [==============================] - 0s 2ms/step - loss: 0.5685 - accuracy: 0.7373\n",
      "Epoch 34/100\n",
      "10/10 [==============================] - 0s 2ms/step - loss: 0.5602 - accuracy: 0.7393\n",
      "Epoch 35/100\n",
      "10/10 [==============================] - 0s 2ms/step - loss: 0.5558 - accuracy: 0.7251\n",
      "Epoch 36/100\n",
      "10/10 [==============================] - 0s 2ms/step - loss: 0.5489 - accuracy: 0.7495\n",
      "Epoch 37/100\n",
      "10/10 [==============================] - 0s 2ms/step - loss: 0.5455 - accuracy: 0.7515\n",
      "Epoch 38/100\n",
      "10/10 [==============================] - 0s 2ms/step - loss: 0.5397 - accuracy: 0.7576\n",
      "Epoch 39/100\n",
      "10/10 [==============================] - 0s 2ms/step - loss: 0.5354 - accuracy: 0.7556\n",
      "Epoch 40/100\n",
      "10/10 [==============================] - 0s 2ms/step - loss: 0.5313 - accuracy: 0.7556\n",
      "Epoch 41/100\n",
      "10/10 [==============================] - 0s 2ms/step - loss: 0.5274 - accuracy: 0.7597\n",
      "Epoch 42/100\n",
      "10/10 [==============================] - 0s 2ms/step - loss: 0.5236 - accuracy: 0.7576\n",
      "Epoch 43/100\n",
      "10/10 [==============================] - 0s 2ms/step - loss: 0.5197 - accuracy: 0.7617\n",
      "Epoch 44/100\n",
      "10/10 [==============================] - 0s 2ms/step - loss: 0.5168 - accuracy: 0.7576\n",
      "Epoch 45/100\n",
      "10/10 [==============================] - 0s 2ms/step - loss: 0.5128 - accuracy: 0.7617\n",
      "Epoch 46/100\n",
      "10/10 [==============================] - 0s 2ms/step - loss: 0.5109 - accuracy: 0.7617\n",
      "Epoch 47/100\n",
      "10/10 [==============================] - 0s 2ms/step - loss: 0.5089 - accuracy: 0.7699\n",
      "Epoch 48/100\n",
      "10/10 [==============================] - 0s 3ms/step - loss: 0.5052 - accuracy: 0.7699\n",
      "Epoch 49/100\n",
      "10/10 [==============================] - 0s 2ms/step - loss: 0.5016 - accuracy: 0.7780\n",
      "Epoch 50/100\n",
      "10/10 [==============================] - 0s 2ms/step - loss: 0.5005 - accuracy: 0.7780\n",
      "Epoch 51/100\n",
      "10/10 [==============================] - 0s 2ms/step - loss: 0.4968 - accuracy: 0.7800\n",
      "Epoch 52/100\n",
      "10/10 [==============================] - 0s 2ms/step - loss: 0.4944 - accuracy: 0.7780\n",
      "Epoch 53/100\n",
      "10/10 [==============================] - 0s 2ms/step - loss: 0.4916 - accuracy: 0.7739\n",
      "Epoch 54/100\n",
      "10/10 [==============================] - 0s 2ms/step - loss: 0.4905 - accuracy: 0.7719\n",
      "Epoch 55/100\n",
      "10/10 [==============================] - 0s 2ms/step - loss: 0.4892 - accuracy: 0.7739\n",
      "Epoch 56/100\n",
      "10/10 [==============================] - 0s 2ms/step - loss: 0.4895 - accuracy: 0.7760\n",
      "Epoch 57/100\n",
      "10/10 [==============================] - 0s 2ms/step - loss: 0.4845 - accuracy: 0.7800\n",
      "Epoch 58/100\n",
      "10/10 [==============================] - 0s 2ms/step - loss: 0.4872 - accuracy: 0.7821\n",
      "Epoch 59/100\n",
      "10/10 [==============================] - 0s 2ms/step - loss: 0.4804 - accuracy: 0.7760\n",
      "Epoch 60/100\n",
      "10/10 [==============================] - 0s 2ms/step - loss: 0.4798 - accuracy: 0.7780\n",
      "Epoch 61/100\n",
      "10/10 [==============================] - 0s 2ms/step - loss: 0.4782 - accuracy: 0.7841\n",
      "Epoch 62/100\n",
      "10/10 [==============================] - 0s 2ms/step - loss: 0.4775 - accuracy: 0.7780\n",
      "Epoch 63/100\n",
      "10/10 [==============================] - 0s 2ms/step - loss: 0.4760 - accuracy: 0.7841\n",
      "Epoch 64/100\n",
      "10/10 [==============================] - 0s 2ms/step - loss: 0.4739 - accuracy: 0.7821\n",
      "Epoch 65/100\n",
      "10/10 [==============================] - 0s 2ms/step - loss: 0.4727 - accuracy: 0.7821\n",
      "Epoch 66/100\n",
      "10/10 [==============================] - 0s 2ms/step - loss: 0.4716 - accuracy: 0.7862\n",
      "Epoch 67/100\n",
      "10/10 [==============================] - 0s 2ms/step - loss: 0.4717 - accuracy: 0.7780\n",
      "Epoch 68/100\n",
      "10/10 [==============================] - 0s 2ms/step - loss: 0.4692 - accuracy: 0.7841\n",
      "Epoch 69/100\n",
      "10/10 [==============================] - 0s 2ms/step - loss: 0.4687 - accuracy: 0.7862\n",
      "Epoch 70/100\n",
      "10/10 [==============================] - 0s 2ms/step - loss: 0.4676 - accuracy: 0.7841\n",
      "Epoch 71/100\n",
      "10/10 [==============================] - 0s 2ms/step - loss: 0.4664 - accuracy: 0.7882\n",
      "Epoch 72/100\n",
      "10/10 [==============================] - 0s 2ms/step - loss: 0.4655 - accuracy: 0.7841\n",
      "Epoch 73/100\n",
      "10/10 [==============================] - 0s 2ms/step - loss: 0.4653 - accuracy: 0.7821\n",
      "Epoch 74/100\n",
      "10/10 [==============================] - 0s 2ms/step - loss: 0.4634 - accuracy: 0.7902\n",
      "Epoch 75/100\n",
      "10/10 [==============================] - 0s 2ms/step - loss: 0.4632 - accuracy: 0.7923\n",
      "Epoch 76/100\n",
      "10/10 [==============================] - 0s 2ms/step - loss: 0.4666 - accuracy: 0.7882\n",
      "Epoch 77/100\n",
      "10/10 [==============================] - 0s 4ms/step - loss: 0.4596 - accuracy: 0.7923\n",
      "Epoch 78/100\n",
      "10/10 [==============================] - 0s 2ms/step - loss: 0.4617 - accuracy: 0.7943\n",
      "Epoch 79/100\n",
      "10/10 [==============================] - 0s 2ms/step - loss: 0.4620 - accuracy: 0.7841\n",
      "Epoch 80/100\n",
      "10/10 [==============================] - 0s 3ms/step - loss: 0.4593 - accuracy: 0.7984\n",
      "Epoch 81/100\n",
      "10/10 [==============================] - 0s 2ms/step - loss: 0.4587 - accuracy: 0.7943\n",
      "Epoch 82/100\n",
      "10/10 [==============================] - 0s 2ms/step - loss: 0.4588 - accuracy: 0.7902\n",
      "Epoch 83/100\n",
      "10/10 [==============================] - 0s 2ms/step - loss: 0.4589 - accuracy: 0.7902\n",
      "Epoch 84/100\n",
      "10/10 [==============================] - 0s 2ms/step - loss: 0.4564 - accuracy: 0.7984\n",
      "Epoch 85/100\n",
      "10/10 [==============================] - 0s 2ms/step - loss: 0.4573 - accuracy: 0.7923\n",
      "Epoch 86/100\n",
      "10/10 [==============================] - 0s 2ms/step - loss: 0.4564 - accuracy: 0.7984\n",
      "Epoch 87/100\n",
      "10/10 [==============================] - 0s 2ms/step - loss: 0.4546 - accuracy: 0.8024\n",
      "Epoch 88/100\n",
      "10/10 [==============================] - 0s 2ms/step - loss: 0.4559 - accuracy: 0.7963\n",
      "Epoch 89/100\n",
      "10/10 [==============================] - 0s 2ms/step - loss: 0.4536 - accuracy: 0.7984\n",
      "Epoch 90/100\n",
      "10/10 [==============================] - 0s 2ms/step - loss: 0.4536 - accuracy: 0.7943\n",
      "Epoch 91/100\n",
      "10/10 [==============================] - 0s 2ms/step - loss: 0.4549 - accuracy: 0.7963\n",
      "Epoch 92/100\n",
      "10/10 [==============================] - 0s 2ms/step - loss: 0.4520 - accuracy: 0.7984\n",
      "Epoch 93/100\n",
      "10/10 [==============================] - 0s 2ms/step - loss: 0.4530 - accuracy: 0.7923\n",
      "Epoch 94/100\n",
      "10/10 [==============================] - 0s 2ms/step - loss: 0.4506 - accuracy: 0.7984\n",
      "Epoch 95/100\n",
      "10/10 [==============================] - 0s 2ms/step - loss: 0.4529 - accuracy: 0.7902\n",
      "Epoch 96/100\n",
      "10/10 [==============================] - 0s 2ms/step - loss: 0.4513 - accuracy: 0.7984\n",
      "Epoch 97/100\n",
      "10/10 [==============================] - 0s 2ms/step - loss: 0.4514 - accuracy: 0.7943\n",
      "Epoch 98/100\n",
      "10/10 [==============================] - 0s 3ms/step - loss: 0.4499 - accuracy: 0.7902\n",
      "Epoch 99/100\n",
      "10/10 [==============================] - 0s 2ms/step - loss: 0.4503 - accuracy: 0.7943\n",
      "Epoch 100/100\n",
      "10/10 [==============================] - 0s 2ms/step - loss: 0.4502 - accuracy: 0.7923\n",
      "4/4 [==============================] - 0s 1ms/step\n",
      "Epoch 1/100\n",
      "10/10 [==============================] - 1s 2ms/step - loss: 0.6930 - accuracy: 0.5285\n",
      "Epoch 2/100\n",
      "10/10 [==============================] - 0s 3ms/step - loss: 0.6873 - accuracy: 0.6382\n",
      "Epoch 3/100\n",
      "10/10 [==============================] - 0s 2ms/step - loss: 0.6828 - accuracy: 0.6301\n",
      "Epoch 4/100\n",
      "10/10 [==============================] - 0s 2ms/step - loss: 0.6792 - accuracy: 0.6362\n",
      "Epoch 5/100\n",
      "10/10 [==============================] - 0s 2ms/step - loss: 0.6766 - accuracy: 0.6382\n",
      "Epoch 6/100\n",
      "10/10 [==============================] - 0s 3ms/step - loss: 0.6745 - accuracy: 0.6362\n",
      "Epoch 7/100\n",
      "10/10 [==============================] - 0s 2ms/step - loss: 0.6717 - accuracy: 0.6382\n",
      "Epoch 8/100\n",
      "10/10 [==============================] - 0s 2ms/step - loss: 0.6694 - accuracy: 0.6362\n",
      "Epoch 9/100\n",
      "10/10 [==============================] - 0s 2ms/step - loss: 0.6671 - accuracy: 0.6341\n",
      "Epoch 10/100\n",
      "10/10 [==============================] - 0s 2ms/step - loss: 0.6648 - accuracy: 0.6301\n",
      "Epoch 11/100\n",
      "10/10 [==============================] - 0s 2ms/step - loss: 0.6626 - accuracy: 0.6301\n",
      "Epoch 12/100\n",
      "10/10 [==============================] - 0s 2ms/step - loss: 0.6605 - accuracy: 0.6301\n",
      "Epoch 13/100\n",
      "10/10 [==============================] - 0s 2ms/step - loss: 0.6579 - accuracy: 0.6341\n",
      "Epoch 14/100\n",
      "10/10 [==============================] - 0s 2ms/step - loss: 0.6550 - accuracy: 0.6362\n",
      "Epoch 15/100\n",
      "10/10 [==============================] - 0s 2ms/step - loss: 0.6514 - accuracy: 0.6362\n",
      "Epoch 16/100\n",
      "10/10 [==============================] - 0s 2ms/step - loss: 0.6479 - accuracy: 0.6402\n",
      "Epoch 17/100\n",
      "10/10 [==============================] - 0s 2ms/step - loss: 0.6447 - accuracy: 0.6402\n",
      "Epoch 18/100\n",
      "10/10 [==============================] - 0s 3ms/step - loss: 0.6416 - accuracy: 0.6362\n",
      "Epoch 19/100\n",
      "10/10 [==============================] - 0s 2ms/step - loss: 0.6381 - accuracy: 0.6402\n",
      "Epoch 20/100\n",
      "10/10 [==============================] - 0s 2ms/step - loss: 0.6350 - accuracy: 0.6443\n",
      "Epoch 21/100\n",
      "10/10 [==============================] - 0s 2ms/step - loss: 0.6313 - accuracy: 0.6423\n",
      "Epoch 22/100\n",
      "10/10 [==============================] - 0s 2ms/step - loss: 0.6272 - accuracy: 0.6463\n",
      "Epoch 23/100\n",
      "10/10 [==============================] - 0s 2ms/step - loss: 0.6231 - accuracy: 0.6545\n",
      "Epoch 24/100\n",
      "10/10 [==============================] - 0s 2ms/step - loss: 0.6192 - accuracy: 0.6504\n",
      "Epoch 25/100\n",
      "10/10 [==============================] - 0s 2ms/step - loss: 0.6159 - accuracy: 0.6626\n",
      "Epoch 26/100\n",
      "10/10 [==============================] - 0s 2ms/step - loss: 0.6128 - accuracy: 0.6606\n",
      "Epoch 27/100\n",
      "10/10 [==============================] - 0s 2ms/step - loss: 0.6083 - accuracy: 0.6707\n",
      "Epoch 28/100\n",
      "10/10 [==============================] - 0s 2ms/step - loss: 0.6051 - accuracy: 0.6667\n",
      "Epoch 29/100\n",
      "10/10 [==============================] - 0s 2ms/step - loss: 0.6020 - accuracy: 0.6667\n",
      "Epoch 30/100\n",
      "10/10 [==============================] - 0s 2ms/step - loss: 0.5982 - accuracy: 0.6707\n",
      "Epoch 31/100\n",
      "10/10 [==============================] - 0s 2ms/step - loss: 0.5950 - accuracy: 0.6728\n",
      "Epoch 32/100\n",
      "10/10 [==============================] - 0s 5ms/step - loss: 0.5926 - accuracy: 0.6748\n",
      "Epoch 33/100\n",
      "10/10 [==============================] - 0s 2ms/step - loss: 0.5882 - accuracy: 0.6768\n",
      "Epoch 34/100\n",
      "10/10 [==============================] - 0s 3ms/step - loss: 0.5851 - accuracy: 0.6748\n",
      "Epoch 35/100\n",
      "10/10 [==============================] - 0s 2ms/step - loss: 0.5820 - accuracy: 0.6789\n",
      "Epoch 36/100\n",
      "10/10 [==============================] - 0s 4ms/step - loss: 0.5789 - accuracy: 0.6829\n",
      "Epoch 37/100\n",
      "10/10 [==============================] - 0s 2ms/step - loss: 0.5762 - accuracy: 0.6870\n",
      "Epoch 38/100\n",
      "10/10 [==============================] - 0s 2ms/step - loss: 0.5733 - accuracy: 0.6911\n",
      "Epoch 39/100\n",
      "10/10 [==============================] - 0s 2ms/step - loss: 0.5702 - accuracy: 0.6951\n",
      "Epoch 40/100\n",
      "10/10 [==============================] - 0s 2ms/step - loss: 0.5675 - accuracy: 0.6951\n",
      "Epoch 41/100\n",
      "10/10 [==============================] - 0s 2ms/step - loss: 0.5649 - accuracy: 0.6972\n",
      "Epoch 42/100\n",
      "10/10 [==============================] - 0s 2ms/step - loss: 0.5621 - accuracy: 0.6992\n",
      "Epoch 43/100\n",
      "10/10 [==============================] - 0s 2ms/step - loss: 0.5595 - accuracy: 0.7053\n",
      "Epoch 44/100\n",
      "10/10 [==============================] - 0s 2ms/step - loss: 0.5568 - accuracy: 0.7033\n",
      "Epoch 45/100\n",
      "10/10 [==============================] - 0s 2ms/step - loss: 0.5545 - accuracy: 0.7033\n",
      "Epoch 46/100\n",
      "10/10 [==============================] - 0s 2ms/step - loss: 0.5509 - accuracy: 0.7073\n",
      "Epoch 47/100\n",
      "10/10 [==============================] - 0s 2ms/step - loss: 0.5491 - accuracy: 0.7073\n",
      "Epoch 48/100\n",
      "10/10 [==============================] - 0s 2ms/step - loss: 0.5451 - accuracy: 0.7093\n",
      "Epoch 49/100\n",
      "10/10 [==============================] - 0s 2ms/step - loss: 0.5427 - accuracy: 0.7093\n",
      "Epoch 50/100\n",
      "10/10 [==============================] - 0s 2ms/step - loss: 0.5405 - accuracy: 0.7114\n",
      "Epoch 51/100\n",
      "10/10 [==============================] - 0s 2ms/step - loss: 0.5385 - accuracy: 0.7215\n",
      "Epoch 52/100\n",
      "10/10 [==============================] - 0s 2ms/step - loss: 0.5355 - accuracy: 0.7154\n",
      "Epoch 53/100\n",
      "10/10 [==============================] - 0s 2ms/step - loss: 0.5334 - accuracy: 0.7175\n",
      "Epoch 54/100\n",
      "10/10 [==============================] - 0s 2ms/step - loss: 0.5315 - accuracy: 0.7175\n",
      "Epoch 55/100\n",
      "10/10 [==============================] - 0s 2ms/step - loss: 0.5289 - accuracy: 0.7215\n",
      "Epoch 56/100\n",
      "10/10 [==============================] - 0s 2ms/step - loss: 0.5281 - accuracy: 0.7236\n",
      "Epoch 57/100\n",
      "10/10 [==============================] - 0s 2ms/step - loss: 0.5263 - accuracy: 0.7236\n",
      "Epoch 58/100\n",
      "10/10 [==============================] - 0s 2ms/step - loss: 0.5231 - accuracy: 0.7276\n",
      "Epoch 59/100\n",
      "10/10 [==============================] - 0s 2ms/step - loss: 0.5212 - accuracy: 0.7378\n",
      "Epoch 60/100\n",
      "10/10 [==============================] - 0s 2ms/step - loss: 0.5201 - accuracy: 0.7337\n",
      "Epoch 61/100\n",
      "10/10 [==============================] - 0s 2ms/step - loss: 0.5187 - accuracy: 0.7337\n",
      "Epoch 62/100\n",
      "10/10 [==============================] - 0s 2ms/step - loss: 0.5182 - accuracy: 0.7276\n",
      "Epoch 63/100\n",
      "10/10 [==============================] - 0s 2ms/step - loss: 0.5145 - accuracy: 0.7398\n",
      "Epoch 64/100\n",
      "10/10 [==============================] - 0s 2ms/step - loss: 0.5123 - accuracy: 0.7398\n",
      "Epoch 65/100\n",
      "10/10 [==============================] - 0s 2ms/step - loss: 0.5112 - accuracy: 0.7398\n",
      "Epoch 66/100\n",
      "10/10 [==============================] - 0s 2ms/step - loss: 0.5092 - accuracy: 0.7480\n",
      "Epoch 67/100\n",
      "10/10 [==============================] - 0s 2ms/step - loss: 0.5081 - accuracy: 0.7480\n",
      "Epoch 68/100\n",
      "10/10 [==============================] - 0s 2ms/step - loss: 0.5061 - accuracy: 0.7419\n",
      "Epoch 69/100\n",
      "10/10 [==============================] - 0s 2ms/step - loss: 0.5050 - accuracy: 0.7480\n",
      "Epoch 70/100\n",
      "10/10 [==============================] - 0s 5ms/step - loss: 0.5038 - accuracy: 0.7419\n",
      "Epoch 71/100\n",
      "10/10 [==============================] - 0s 2ms/step - loss: 0.5021 - accuracy: 0.7480\n",
      "Epoch 72/100\n",
      "10/10 [==============================] - 0s 2ms/step - loss: 0.5005 - accuracy: 0.7520\n",
      "Epoch 73/100\n",
      "10/10 [==============================] - 0s 2ms/step - loss: 0.5009 - accuracy: 0.7541\n",
      "Epoch 74/100\n",
      "10/10 [==============================] - 0s 2ms/step - loss: 0.4987 - accuracy: 0.7500\n",
      "Epoch 75/100\n",
      "10/10 [==============================] - 0s 3ms/step - loss: 0.4962 - accuracy: 0.7541\n",
      "Epoch 76/100\n",
      "10/10 [==============================] - 0s 2ms/step - loss: 0.4951 - accuracy: 0.7520\n",
      "Epoch 77/100\n",
      "10/10 [==============================] - 0s 2ms/step - loss: 0.4939 - accuracy: 0.7520\n",
      "Epoch 78/100\n",
      "10/10 [==============================] - 0s 2ms/step - loss: 0.4926 - accuracy: 0.7602\n",
      "Epoch 79/100\n",
      "10/10 [==============================] - 0s 2ms/step - loss: 0.4916 - accuracy: 0.7581\n",
      "Epoch 80/100\n",
      "10/10 [==============================] - 0s 2ms/step - loss: 0.4901 - accuracy: 0.7622\n",
      "Epoch 81/100\n",
      "10/10 [==============================] - 0s 2ms/step - loss: 0.4898 - accuracy: 0.7561\n",
      "Epoch 82/100\n",
      "10/10 [==============================] - 0s 2ms/step - loss: 0.4890 - accuracy: 0.7663\n",
      "Epoch 83/100\n",
      "10/10 [==============================] - 0s 2ms/step - loss: 0.4869 - accuracy: 0.7602\n",
      "Epoch 84/100\n",
      "10/10 [==============================] - 0s 2ms/step - loss: 0.4857 - accuracy: 0.7602\n",
      "Epoch 85/100\n",
      "10/10 [==============================] - 0s 2ms/step - loss: 0.4844 - accuracy: 0.7602\n",
      "Epoch 86/100\n",
      "10/10 [==============================] - 0s 2ms/step - loss: 0.4841 - accuracy: 0.7663\n",
      "Epoch 87/100\n",
      "10/10 [==============================] - 0s 2ms/step - loss: 0.4833 - accuracy: 0.7602\n",
      "Epoch 88/100\n",
      "10/10 [==============================] - 0s 2ms/step - loss: 0.4818 - accuracy: 0.7602\n",
      "Epoch 89/100\n",
      "10/10 [==============================] - 0s 2ms/step - loss: 0.4806 - accuracy: 0.7683\n",
      "Epoch 90/100\n",
      "10/10 [==============================] - 0s 2ms/step - loss: 0.4813 - accuracy: 0.7785\n",
      "Epoch 91/100\n",
      "10/10 [==============================] - 0s 2ms/step - loss: 0.4807 - accuracy: 0.7663\n",
      "Epoch 92/100\n",
      "10/10 [==============================] - 0s 2ms/step - loss: 0.4786 - accuracy: 0.7683\n",
      "Epoch 93/100\n",
      "10/10 [==============================] - 0s 2ms/step - loss: 0.4776 - accuracy: 0.7724\n",
      "Epoch 94/100\n",
      "10/10 [==============================] - 0s 2ms/step - loss: 0.4760 - accuracy: 0.7663\n",
      "Epoch 95/100\n",
      "10/10 [==============================] - 0s 2ms/step - loss: 0.4770 - accuracy: 0.7703\n",
      "Epoch 96/100\n",
      "10/10 [==============================] - 0s 2ms/step - loss: 0.4770 - accuracy: 0.7520\n",
      "Epoch 97/100\n",
      "10/10 [==============================] - 0s 2ms/step - loss: 0.4734 - accuracy: 0.7744\n",
      "Epoch 98/100\n",
      "10/10 [==============================] - 0s 2ms/step - loss: 0.4758 - accuracy: 0.7663\n",
      "Epoch 99/100\n",
      "10/10 [==============================] - 0s 2ms/step - loss: 0.4721 - accuracy: 0.7703\n",
      "Epoch 100/100\n",
      "10/10 [==============================] - 0s 2ms/step - loss: 0.4721 - accuracy: 0.7805\n",
      "4/4 [==============================] - 0s 3ms/step\n"
     ]
    }
   ],
   "source": [
    "# Menjalankan 5 fold cross-validation\n",
    "skor = cross_val_score(model_dl, X_train, y_train, scoring='accuracy', cv=cv, n_jobs=1)"
   ]
  },
  {
   "cell_type": "code",
   "execution_count": 98,
   "metadata": {
    "colab": {
     "base_uri": "https://localhost:8080/"
    },
    "executionInfo": {
     "elapsed": 374,
     "status": "ok",
     "timestamp": 1708013512939,
     "user": {
      "displayName": "Ahmad Lutfi",
      "userId": "14568177636171038922"
     },
     "user_tz": -420
    },
    "id": "YjmLDDeTIQVi",
    "outputId": "6118fb45-4f59-4376-ce34-70018957be36"
   },
   "outputs": [
    {
     "name": "stdout",
     "output_type": "stream",
     "text": [
      "Nilai akurasi setiap split:  0.7317073170731707\n",
      "Nilai akurasi setiap split:  0.7804878048780488\n",
      "Nilai akurasi setiap split:  0.7560975609756098\n",
      "Nilai akurasi setiap split:  0.7723577235772358\n",
      "Nilai akurasi setiap split:  0.7950819672131147\n"
     ]
    }
   ],
   "source": [
    "# Melihat nilai setiap fold\n",
    "for i in skor:\n",
    "    print(\"Nilai akurasi setiap split: \", i)"
   ]
  },
  {
   "cell_type": "code",
   "execution_count": 99,
   "metadata": {
    "colab": {
     "base_uri": "https://localhost:8080/"
    },
    "executionInfo": {
     "elapsed": 400,
     "status": "ok",
     "timestamp": 1708013516039,
     "user": {
      "displayName": "Ahmad Lutfi",
      "userId": "14568177636171038922"
     },
     "user_tz": -420
    },
    "id": "2PtuMFIfL5vA",
    "outputId": "f1d01641-bbe2-464d-8851-cd753150f3d5"
   },
   "outputs": [
    {
     "name": "stdout",
     "output_type": "stream",
     "text": [
      "Akurasi:  0.767146474743436\n"
     ]
    }
   ],
   "source": [
    "# Skor rata-rata\n",
    "print('Akurasi: ', (np.mean(skor)))"
   ]
  },
  {
   "cell_type": "code",
   "execution_count": 100,
   "metadata": {
    "colab": {
     "base_uri": "https://localhost:8080/",
     "height": 1000
    },
    "executionInfo": {
     "elapsed": 6371,
     "status": "ok",
     "timestamp": 1708013525216,
     "user": {
      "displayName": "Ahmad Lutfi",
      "userId": "14568177636171038922"
     },
     "user_tz": -420
    },
    "id": "gxuxCKAXL83p",
    "outputId": "81a338ad-7c70-441f-fe7c-fe63766031b9"
   },
   "outputs": [
    {
     "name": "stdout",
     "output_type": "stream",
     "text": [
      "Epoch 1/100\n",
      "16/16 [==============================] - 1s 2ms/step - loss: 0.6711 - accuracy: 0.6523\n",
      "Epoch 2/100\n",
      "16/16 [==============================] - 0s 2ms/step - loss: 0.6644 - accuracy: 0.6510\n",
      "Epoch 3/100\n",
      "16/16 [==============================] - 0s 2ms/step - loss: 0.6594 - accuracy: 0.6510\n",
      "Epoch 4/100\n",
      "16/16 [==============================] - 0s 2ms/step - loss: 0.6545 - accuracy: 0.6510\n",
      "Epoch 5/100\n",
      "16/16 [==============================] - 0s 2ms/step - loss: 0.6496 - accuracy: 0.6523\n",
      "Epoch 6/100\n",
      "16/16 [==============================] - 0s 2ms/step - loss: 0.6454 - accuracy: 0.6536\n",
      "Epoch 7/100\n",
      "16/16 [==============================] - 0s 2ms/step - loss: 0.6409 - accuracy: 0.6615\n",
      "Epoch 8/100\n",
      "16/16 [==============================] - 0s 2ms/step - loss: 0.6367 - accuracy: 0.6654\n",
      "Epoch 9/100\n",
      "16/16 [==============================] - 0s 2ms/step - loss: 0.6331 - accuracy: 0.6758\n",
      "Epoch 10/100\n",
      "16/16 [==============================] - 0s 2ms/step - loss: 0.6289 - accuracy: 0.6706\n",
      "Epoch 11/100\n",
      "16/16 [==============================] - 0s 2ms/step - loss: 0.6250 - accuracy: 0.6719\n",
      "Epoch 12/100\n",
      "16/16 [==============================] - 0s 2ms/step - loss: 0.6208 - accuracy: 0.6784\n",
      "Epoch 13/100\n",
      "16/16 [==============================] - 0s 2ms/step - loss: 0.6173 - accuracy: 0.6862\n",
      "Epoch 14/100\n",
      "16/16 [==============================] - 0s 2ms/step - loss: 0.6137 - accuracy: 0.6836\n",
      "Epoch 15/100\n",
      "16/16 [==============================] - 0s 2ms/step - loss: 0.6101 - accuracy: 0.6875\n",
      "Epoch 16/100\n",
      "16/16 [==============================] - 0s 3ms/step - loss: 0.6065 - accuracy: 0.6940\n",
      "Epoch 17/100\n",
      "16/16 [==============================] - 0s 2ms/step - loss: 0.6032 - accuracy: 0.6927\n",
      "Epoch 18/100\n",
      "16/16 [==============================] - 0s 2ms/step - loss: 0.6000 - accuracy: 0.6940\n",
      "Epoch 19/100\n",
      "16/16 [==============================] - 0s 2ms/step - loss: 0.5970 - accuracy: 0.6966\n",
      "Epoch 20/100\n",
      "16/16 [==============================] - 0s 2ms/step - loss: 0.5929 - accuracy: 0.7005\n",
      "Epoch 21/100\n",
      "16/16 [==============================] - 0s 2ms/step - loss: 0.5907 - accuracy: 0.6953\n",
      "Epoch 22/100\n",
      "16/16 [==============================] - 0s 2ms/step - loss: 0.5863 - accuracy: 0.7005\n",
      "Epoch 23/100\n",
      "16/16 [==============================] - 0s 2ms/step - loss: 0.5834 - accuracy: 0.6953\n",
      "Epoch 24/100\n",
      "16/16 [==============================] - 0s 2ms/step - loss: 0.5807 - accuracy: 0.7057\n",
      "Epoch 25/100\n",
      "16/16 [==============================] - 0s 2ms/step - loss: 0.5765 - accuracy: 0.7044\n",
      "Epoch 26/100\n",
      "16/16 [==============================] - 0s 2ms/step - loss: 0.5732 - accuracy: 0.7031\n",
      "Epoch 27/100\n",
      "16/16 [==============================] - 0s 2ms/step - loss: 0.5699 - accuracy: 0.7031\n",
      "Epoch 28/100\n",
      "16/16 [==============================] - 0s 2ms/step - loss: 0.5668 - accuracy: 0.7070\n",
      "Epoch 29/100\n",
      "16/16 [==============================] - 0s 2ms/step - loss: 0.5646 - accuracy: 0.7148\n",
      "Epoch 30/100\n",
      "16/16 [==============================] - 0s 2ms/step - loss: 0.5604 - accuracy: 0.7188\n",
      "Epoch 31/100\n",
      "16/16 [==============================] - 0s 2ms/step - loss: 0.5571 - accuracy: 0.7227\n",
      "Epoch 32/100\n",
      "16/16 [==============================] - 0s 2ms/step - loss: 0.5542 - accuracy: 0.7292\n",
      "Epoch 33/100\n",
      "16/16 [==============================] - 0s 2ms/step - loss: 0.5508 - accuracy: 0.7240\n",
      "Epoch 34/100\n",
      "16/16 [==============================] - 0s 2ms/step - loss: 0.5475 - accuracy: 0.7344\n",
      "Epoch 35/100\n",
      "16/16 [==============================] - 0s 2ms/step - loss: 0.5447 - accuracy: 0.7357\n",
      "Epoch 36/100\n",
      "16/16 [==============================] - 0s 2ms/step - loss: 0.5409 - accuracy: 0.7357\n",
      "Epoch 37/100\n",
      "16/16 [==============================] - 0s 2ms/step - loss: 0.5380 - accuracy: 0.7396\n",
      "Epoch 38/100\n",
      "16/16 [==============================] - 0s 4ms/step - loss: 0.5365 - accuracy: 0.7305\n",
      "Epoch 39/100\n",
      "16/16 [==============================] - 0s 3ms/step - loss: 0.5326 - accuracy: 0.7422\n",
      "Epoch 40/100\n",
      "16/16 [==============================] - 0s 2ms/step - loss: 0.5300 - accuracy: 0.7396\n",
      "Epoch 41/100\n",
      "16/16 [==============================] - 0s 3ms/step - loss: 0.5268 - accuracy: 0.7409\n",
      "Epoch 42/100\n",
      "16/16 [==============================] - 0s 2ms/step - loss: 0.5250 - accuracy: 0.7448\n",
      "Epoch 43/100\n",
      "16/16 [==============================] - 0s 2ms/step - loss: 0.5228 - accuracy: 0.7448\n",
      "Epoch 44/100\n",
      "16/16 [==============================] - 0s 2ms/step - loss: 0.5185 - accuracy: 0.7396\n",
      "Epoch 45/100\n",
      "16/16 [==============================] - 0s 2ms/step - loss: 0.5162 - accuracy: 0.7422\n",
      "Epoch 46/100\n",
      "16/16 [==============================] - 0s 2ms/step - loss: 0.5131 - accuracy: 0.7500\n",
      "Epoch 47/100\n",
      "16/16 [==============================] - 0s 2ms/step - loss: 0.5114 - accuracy: 0.7474\n",
      "Epoch 48/100\n",
      "16/16 [==============================] - 0s 2ms/step - loss: 0.5085 - accuracy: 0.7500\n",
      "Epoch 49/100\n",
      "16/16 [==============================] - 0s 4ms/step - loss: 0.5063 - accuracy: 0.7552\n",
      "Epoch 50/100\n",
      "16/16 [==============================] - 0s 2ms/step - loss: 0.5041 - accuracy: 0.7526\n",
      "Epoch 51/100\n",
      "16/16 [==============================] - 0s 2ms/step - loss: 0.5018 - accuracy: 0.7565\n",
      "Epoch 52/100\n",
      "16/16 [==============================] - 0s 2ms/step - loss: 0.5003 - accuracy: 0.7591\n",
      "Epoch 53/100\n",
      "16/16 [==============================] - 0s 2ms/step - loss: 0.4982 - accuracy: 0.7604\n",
      "Epoch 54/100\n",
      "16/16 [==============================] - 0s 2ms/step - loss: 0.4966 - accuracy: 0.7630\n",
      "Epoch 55/100\n",
      "16/16 [==============================] - 0s 2ms/step - loss: 0.4941 - accuracy: 0.7643\n",
      "Epoch 56/100\n",
      "16/16 [==============================] - 0s 2ms/step - loss: 0.4936 - accuracy: 0.7643\n",
      "Epoch 57/100\n",
      "16/16 [==============================] - 0s 2ms/step - loss: 0.4912 - accuracy: 0.7708\n",
      "Epoch 58/100\n",
      "16/16 [==============================] - 0s 2ms/step - loss: 0.4895 - accuracy: 0.7721\n",
      "Epoch 59/100\n",
      "16/16 [==============================] - 0s 2ms/step - loss: 0.4881 - accuracy: 0.7760\n",
      "Epoch 60/100\n",
      "16/16 [==============================] - 0s 2ms/step - loss: 0.4872 - accuracy: 0.7643\n",
      "Epoch 61/100\n",
      "16/16 [==============================] - 0s 3ms/step - loss: 0.4878 - accuracy: 0.7682\n",
      "Epoch 62/100\n",
      "16/16 [==============================] - 0s 3ms/step - loss: 0.4829 - accuracy: 0.7708\n",
      "Epoch 63/100\n",
      "16/16 [==============================] - 0s 2ms/step - loss: 0.4816 - accuracy: 0.7786\n",
      "Epoch 64/100\n",
      "16/16 [==============================] - 0s 2ms/step - loss: 0.4795 - accuracy: 0.7760\n",
      "Epoch 65/100\n",
      "16/16 [==============================] - 0s 2ms/step - loss: 0.4777 - accuracy: 0.7773\n",
      "Epoch 66/100\n",
      "16/16 [==============================] - 0s 2ms/step - loss: 0.4764 - accuracy: 0.7760\n",
      "Epoch 67/100\n",
      "16/16 [==============================] - 0s 2ms/step - loss: 0.4761 - accuracy: 0.7721\n",
      "Epoch 68/100\n",
      "16/16 [==============================] - 0s 2ms/step - loss: 0.4735 - accuracy: 0.7839\n",
      "Epoch 69/100\n",
      "16/16 [==============================] - 0s 2ms/step - loss: 0.4726 - accuracy: 0.7786\n",
      "Epoch 70/100\n",
      "16/16 [==============================] - 0s 2ms/step - loss: 0.4707 - accuracy: 0.7865\n",
      "Epoch 71/100\n",
      "16/16 [==============================] - 0s 2ms/step - loss: 0.4708 - accuracy: 0.7839\n",
      "Epoch 72/100\n",
      "16/16 [==============================] - 0s 2ms/step - loss: 0.4683 - accuracy: 0.7839\n",
      "Epoch 73/100\n",
      "16/16 [==============================] - 0s 2ms/step - loss: 0.4695 - accuracy: 0.7786\n",
      "Epoch 74/100\n",
      "16/16 [==============================] - 0s 3ms/step - loss: 0.4667 - accuracy: 0.7852\n",
      "Epoch 75/100\n",
      "16/16 [==============================] - 0s 2ms/step - loss: 0.4652 - accuracy: 0.7852\n",
      "Epoch 76/100\n",
      "16/16 [==============================] - 0s 2ms/step - loss: 0.4649 - accuracy: 0.7839\n",
      "Epoch 77/100\n",
      "16/16 [==============================] - 0s 2ms/step - loss: 0.4639 - accuracy: 0.7852\n",
      "Epoch 78/100\n",
      "16/16 [==============================] - 0s 2ms/step - loss: 0.4625 - accuracy: 0.7826\n",
      "Epoch 79/100\n",
      "16/16 [==============================] - 0s 2ms/step - loss: 0.4626 - accuracy: 0.7826\n",
      "Epoch 80/100\n",
      "16/16 [==============================] - 0s 2ms/step - loss: 0.4613 - accuracy: 0.7917\n",
      "Epoch 81/100\n",
      "16/16 [==============================] - 0s 2ms/step - loss: 0.4603 - accuracy: 0.7878\n",
      "Epoch 82/100\n",
      "16/16 [==============================] - 0s 2ms/step - loss: 0.4603 - accuracy: 0.7865\n",
      "Epoch 83/100\n",
      "16/16 [==============================] - 0s 2ms/step - loss: 0.4596 - accuracy: 0.7839\n",
      "Epoch 84/100\n",
      "16/16 [==============================] - 0s 2ms/step - loss: 0.4588 - accuracy: 0.7839\n",
      "Epoch 85/100\n",
      "16/16 [==============================] - 0s 2ms/step - loss: 0.4574 - accuracy: 0.7917\n",
      "Epoch 86/100\n",
      "16/16 [==============================] - 0s 2ms/step - loss: 0.4576 - accuracy: 0.7826\n",
      "Epoch 87/100\n",
      "16/16 [==============================] - 0s 2ms/step - loss: 0.4590 - accuracy: 0.7852\n",
      "Epoch 88/100\n",
      "16/16 [==============================] - 0s 2ms/step - loss: 0.4558 - accuracy: 0.7865\n",
      "Epoch 89/100\n",
      "16/16 [==============================] - 0s 2ms/step - loss: 0.4553 - accuracy: 0.7786\n",
      "Epoch 90/100\n",
      "16/16 [==============================] - 0s 2ms/step - loss: 0.4542 - accuracy: 0.7904\n",
      "Epoch 91/100\n",
      "16/16 [==============================] - 0s 2ms/step - loss: 0.4541 - accuracy: 0.7839\n",
      "Epoch 92/100\n",
      "16/16 [==============================] - 0s 2ms/step - loss: 0.4542 - accuracy: 0.7839\n",
      "Epoch 93/100\n",
      "16/16 [==============================] - 0s 2ms/step - loss: 0.4550 - accuracy: 0.7878\n",
      "Epoch 94/100\n",
      "16/16 [==============================] - 0s 2ms/step - loss: 0.4535 - accuracy: 0.7852\n",
      "Epoch 95/100\n",
      "16/16 [==============================] - 0s 2ms/step - loss: 0.4522 - accuracy: 0.7943\n",
      "Epoch 96/100\n",
      "16/16 [==============================] - 0s 2ms/step - loss: 0.4540 - accuracy: 0.7852\n",
      "Epoch 97/100\n",
      "16/16 [==============================] - 0s 2ms/step - loss: 0.4509 - accuracy: 0.7917\n",
      "Epoch 98/100\n",
      "16/16 [==============================] - 0s 2ms/step - loss: 0.4504 - accuracy: 0.7904\n",
      "Epoch 99/100\n",
      "16/16 [==============================] - 0s 2ms/step - loss: 0.4503 - accuracy: 0.7917\n",
      "Epoch 100/100\n",
      "16/16 [==============================] - 0s 2ms/step - loss: 0.4503 - accuracy: 0.7904\n"
     ]
    },
    {
     "data": {
      "text/html": [
       "<style>#sk-container-id-2 {color: black;}#sk-container-id-2 pre{padding: 0;}#sk-container-id-2 div.sk-toggleable {background-color: white;}#sk-container-id-2 label.sk-toggleable__label {cursor: pointer;display: block;width: 100%;margin-bottom: 0;padding: 0.3em;box-sizing: border-box;text-align: center;}#sk-container-id-2 label.sk-toggleable__label-arrow:before {content: \"▸\";float: left;margin-right: 0.25em;color: #696969;}#sk-container-id-2 label.sk-toggleable__label-arrow:hover:before {color: black;}#sk-container-id-2 div.sk-estimator:hover label.sk-toggleable__label-arrow:before {color: black;}#sk-container-id-2 div.sk-toggleable__content {max-height: 0;max-width: 0;overflow: hidden;text-align: left;background-color: #f0f8ff;}#sk-container-id-2 div.sk-toggleable__content pre {margin: 0.2em;color: black;border-radius: 0.25em;background-color: #f0f8ff;}#sk-container-id-2 input.sk-toggleable__control:checked~div.sk-toggleable__content {max-height: 200px;max-width: 100%;overflow: auto;}#sk-container-id-2 input.sk-toggleable__control:checked~label.sk-toggleable__label-arrow:before {content: \"▾\";}#sk-container-id-2 div.sk-estimator input.sk-toggleable__control:checked~label.sk-toggleable__label {background-color: #d4ebff;}#sk-container-id-2 div.sk-label input.sk-toggleable__control:checked~label.sk-toggleable__label {background-color: #d4ebff;}#sk-container-id-2 input.sk-hidden--visually {border: 0;clip: rect(1px 1px 1px 1px);clip: rect(1px, 1px, 1px, 1px);height: 1px;margin: -1px;overflow: hidden;padding: 0;position: absolute;width: 1px;}#sk-container-id-2 div.sk-estimator {font-family: monospace;background-color: #f0f8ff;border: 1px dotted black;border-radius: 0.25em;box-sizing: border-box;margin-bottom: 0.5em;}#sk-container-id-2 div.sk-estimator:hover {background-color: #d4ebff;}#sk-container-id-2 div.sk-parallel-item::after {content: \"\";width: 100%;border-bottom: 1px solid gray;flex-grow: 1;}#sk-container-id-2 div.sk-label:hover label.sk-toggleable__label {background-color: #d4ebff;}#sk-container-id-2 div.sk-serial::before {content: \"\";position: absolute;border-left: 1px solid gray;box-sizing: border-box;top: 0;bottom: 0;left: 50%;z-index: 0;}#sk-container-id-2 div.sk-serial {display: flex;flex-direction: column;align-items: center;background-color: white;padding-right: 0.2em;padding-left: 0.2em;position: relative;}#sk-container-id-2 div.sk-item {position: relative;z-index: 1;}#sk-container-id-2 div.sk-parallel {display: flex;align-items: stretch;justify-content: center;background-color: white;position: relative;}#sk-container-id-2 div.sk-item::before, #sk-container-id-2 div.sk-parallel-item::before {content: \"\";position: absolute;border-left: 1px solid gray;box-sizing: border-box;top: 0;bottom: 0;left: 50%;z-index: -1;}#sk-container-id-2 div.sk-parallel-item {display: flex;flex-direction: column;z-index: 1;position: relative;background-color: white;}#sk-container-id-2 div.sk-parallel-item:first-child::after {align-self: flex-end;width: 50%;}#sk-container-id-2 div.sk-parallel-item:last-child::after {align-self: flex-start;width: 50%;}#sk-container-id-2 div.sk-parallel-item:only-child::after {width: 0;}#sk-container-id-2 div.sk-dashed-wrapped {border: 1px dashed gray;margin: 0 0.4em 0.5em 0.4em;box-sizing: border-box;padding-bottom: 0.4em;background-color: white;}#sk-container-id-2 div.sk-label label {font-family: monospace;font-weight: bold;display: inline-block;line-height: 1.2em;}#sk-container-id-2 div.sk-label-container {text-align: center;}#sk-container-id-2 div.sk-container {/* jupyter's `normalize.less` sets `[hidden] { display: none; }` but bootstrap.min.css set `[hidden] { display: none !important; }` so we also need the `!important` here to be able to override the default hidden behavior on the sphinx rendered scikit-learn.org. See: https://github.com/scikit-learn/scikit-learn/issues/21755 */display: inline-block !important;position: relative;}#sk-container-id-2 div.sk-text-repr-fallback {display: none;}</style><div id=\"sk-container-id-2\" class=\"sk-top-container\"><div class=\"sk-text-repr-fallback\"><pre>Pipeline(steps=[(&#x27;scaling&#x27;, MinMaxScaler()),\n",
       "                (&#x27;modeling&#x27;,\n",
       "                 &lt;keras.wrappers.scikit_learn.KerasClassifier object at 0x000001C36A0F0C90&gt;)])</pre><b>In a Jupyter environment, please rerun this cell to show the HTML representation or trust the notebook. <br />On GitHub, the HTML representation is unable to render, please try loading this page with nbviewer.org.</b></div><div class=\"sk-container\" hidden><div class=\"sk-item sk-dashed-wrapped\"><div class=\"sk-label-container\"><div class=\"sk-label sk-toggleable\"><input class=\"sk-toggleable__control sk-hidden--visually\" id=\"sk-estimator-id-4\" type=\"checkbox\" ><label for=\"sk-estimator-id-4\" class=\"sk-toggleable__label sk-toggleable__label-arrow\">Pipeline</label><div class=\"sk-toggleable__content\"><pre>Pipeline(steps=[(&#x27;scaling&#x27;, MinMaxScaler()),\n",
       "                (&#x27;modeling&#x27;,\n",
       "                 &lt;keras.wrappers.scikit_learn.KerasClassifier object at 0x000001C36A0F0C90&gt;)])</pre></div></div></div><div class=\"sk-serial\"><div class=\"sk-item\"><div class=\"sk-estimator sk-toggleable\"><input class=\"sk-toggleable__control sk-hidden--visually\" id=\"sk-estimator-id-5\" type=\"checkbox\" ><label for=\"sk-estimator-id-5\" class=\"sk-toggleable__label sk-toggleable__label-arrow\">MinMaxScaler</label><div class=\"sk-toggleable__content\"><pre>MinMaxScaler()</pre></div></div></div><div class=\"sk-item\"><div class=\"sk-estimator sk-toggleable\"><input class=\"sk-toggleable__control sk-hidden--visually\" id=\"sk-estimator-id-6\" type=\"checkbox\" ><label for=\"sk-estimator-id-6\" class=\"sk-toggleable__label sk-toggleable__label-arrow\">KerasClassifier</label><div class=\"sk-toggleable__content\"><pre>&lt;keras.wrappers.scikit_learn.KerasClassifier object at 0x000001C36A0F0C90&gt;</pre></div></div></div></div></div></div></div>"
      ],
      "text/plain": [
       "Pipeline(steps=[('scaling', MinMaxScaler()),\n",
       "                ('modeling',\n",
       "                 <keras.wrappers.scikit_learn.KerasClassifier object at 0x000001C36A0F0C90>)])"
      ]
     },
     "execution_count": 100,
     "metadata": {},
     "output_type": "execute_result"
    }
   ],
   "source": [
    "# Fitting ke seluruh dataset\n",
    "model_dl.fit(X,y)"
   ]
  },
  {
   "cell_type": "code",
   "execution_count": 101,
   "metadata": {},
   "outputs": [],
   "source": [
    "# Library untuk menyimpan dan load model\n",
    "from keras.models import load_model\n",
    "import joblib"
   ]
  },
  {
   "cell_type": "code",
   "execution_count": 102,
   "metadata": {},
   "outputs": [],
   "source": [
    "# Menyimpan model keras terlebih dahulu\n",
    "model_dl.named_steps['modeling'].model.save('model_keras.h5')"
   ]
  },
  {
   "cell_type": "code",
   "execution_count": 103,
   "metadata": {},
   "outputs": [],
   "source": [
    "# Sedikit kita otak-atik agar bisa disave\n",
    "model_dl.named_steps['modeling'].model = None"
   ]
  },
  {
   "cell_type": "code",
   "execution_count": 104,
   "metadata": {},
   "outputs": [
    {
     "data": {
      "text/plain": [
       "['sklearn_pipeline.pkl']"
      ]
     },
     "execution_count": 104,
     "metadata": {},
     "output_type": "execute_result"
    }
   ],
   "source": [
    "# Sekarang kita simpan pipeline-nya\n",
    "joblib.dump(model_dl, 'sklearn_pipeline.pkl')"
   ]
  },
  {
   "cell_type": "code",
   "execution_count": 105,
   "metadata": {},
   "outputs": [],
   "source": [
    "# Load pipeline nya terlebih dahulu\n",
    "model_final = joblib.load('sklearn_pipeline.pkl')"
   ]
  },
  {
   "cell_type": "code",
   "execution_count": 106,
   "metadata": {},
   "outputs": [],
   "source": [
    "# Sekarang load model keras-nya\n",
    "model_final.named_steps['modeling'].model = load_model('model_keras.h5')"
   ]
  },
  {
   "cell_type": "code",
   "execution_count": 108,
   "metadata": {
    "colab": {
     "base_uri": "https://localhost:8080/"
    },
    "executionInfo": {
     "elapsed": 533,
     "status": "ok",
     "timestamp": 1708013785964,
     "user": {
      "displayName": "Ahmad Lutfi",
      "userId": "14568177636171038922"
     },
     "user_tz": -420
    },
    "id": "4WdfIOCBjZej",
    "outputId": "ebd891c2-18b7-45fe-8584-9234d79822d4"
   },
   "outputs": [
    {
     "name": "stdout",
     "output_type": "stream",
     "text": [
      "5/5 [==============================] - 0s 2ms/step\n"
     ]
    }
   ],
   "source": [
    "# Mencoba memprediksi dengan model yang sudah diload\n",
    "prediksi = model_final.predict(X_test)"
   ]
  },
  {
   "cell_type": "code",
   "execution_count": 109,
   "metadata": {
    "colab": {
     "base_uri": "https://localhost:8080/"
    },
    "executionInfo": {
     "elapsed": 513,
     "status": "ok",
     "timestamp": 1708013829739,
     "user": {
      "displayName": "Ahmad Lutfi",
      "userId": "14568177636171038922"
     },
     "user_tz": -420
    },
    "id": "aTlgmF7Kjq9c",
    "outputId": "75b6cf05-5b6c-4565-940a-0c17a2884889"
   },
   "outputs": [
    {
     "data": {
      "text/plain": [
       "array([[1],\n",
       "       [0],\n",
       "       [0],\n",
       "       [1],\n",
       "       [0],\n",
       "       [0],\n",
       "       [1],\n",
       "       [1],\n",
       "       [0],\n",
       "       [0],\n",
       "       [1],\n",
       "       [1],\n",
       "       [0],\n",
       "       [0],\n",
       "       [0],\n",
       "       [0],\n",
       "       [1],\n",
       "       [0],\n",
       "       [0],\n",
       "       [0],\n",
       "       [1],\n",
       "       [0],\n",
       "       [0],\n",
       "       [0],\n",
       "       [0],\n",
       "       [0],\n",
       "       [0],\n",
       "       [1],\n",
       "       [0],\n",
       "       [0],\n",
       "       [1],\n",
       "       [0],\n",
       "       [0],\n",
       "       [1],\n",
       "       [0],\n",
       "       [1],\n",
       "       [1],\n",
       "       [0],\n",
       "       [0],\n",
       "       [1],\n",
       "       [0],\n",
       "       [0],\n",
       "       [0],\n",
       "       [1],\n",
       "       [1],\n",
       "       [0],\n",
       "       [0],\n",
       "       [0],\n",
       "       [0],\n",
       "       [0],\n",
       "       [1],\n",
       "       [0],\n",
       "       [1],\n",
       "       [1],\n",
       "       [0],\n",
       "       [0],\n",
       "       [0],\n",
       "       [0],\n",
       "       [0],\n",
       "       [0],\n",
       "       [1],\n",
       "       [0],\n",
       "       [0],\n",
       "       [1],\n",
       "       [1],\n",
       "       [1],\n",
       "       [1],\n",
       "       [0],\n",
       "       [0],\n",
       "       [0],\n",
       "       [0],\n",
       "       [0],\n",
       "       [0],\n",
       "       [1],\n",
       "       [1],\n",
       "       [0],\n",
       "       [0],\n",
       "       [1],\n",
       "       [0],\n",
       "       [0],\n",
       "       [0],\n",
       "       [0],\n",
       "       [0],\n",
       "       [0],\n",
       "       [0],\n",
       "       [0],\n",
       "       [0],\n",
       "       [0],\n",
       "       [1],\n",
       "       [0],\n",
       "       [0],\n",
       "       [0],\n",
       "       [0],\n",
       "       [0],\n",
       "       [1],\n",
       "       [0],\n",
       "       [1],\n",
       "       [0],\n",
       "       [1],\n",
       "       [0],\n",
       "       [0],\n",
       "       [0],\n",
       "       [0],\n",
       "       [0],\n",
       "       [1],\n",
       "       [1],\n",
       "       [0],\n",
       "       [0],\n",
       "       [0],\n",
       "       [1],\n",
       "       [0],\n",
       "       [0],\n",
       "       [1],\n",
       "       [0],\n",
       "       [0],\n",
       "       [1],\n",
       "       [0],\n",
       "       [1],\n",
       "       [0],\n",
       "       [1],\n",
       "       [0],\n",
       "       [0],\n",
       "       [0],\n",
       "       [0],\n",
       "       [0],\n",
       "       [0],\n",
       "       [0],\n",
       "       [1],\n",
       "       [0],\n",
       "       [0],\n",
       "       [0],\n",
       "       [0],\n",
       "       [0],\n",
       "       [1],\n",
       "       [1],\n",
       "       [0],\n",
       "       [0],\n",
       "       [0],\n",
       "       [1],\n",
       "       [0],\n",
       "       [0],\n",
       "       [1],\n",
       "       [0],\n",
       "       [0],\n",
       "       [0],\n",
       "       [0],\n",
       "       [0],\n",
       "       [0],\n",
       "       [0],\n",
       "       [0],\n",
       "       [0],\n",
       "       [1],\n",
       "       [0],\n",
       "       [0]], dtype=int64)"
      ]
     },
     "execution_count": 109,
     "metadata": {},
     "output_type": "execute_result"
    }
   ],
   "source": [
    "prediksi"
   ]
  },
  {
   "cell_type": "code",
   "execution_count": null,
   "metadata": {},
   "outputs": [],
   "source": []
  }
 ],
 "metadata": {
  "colab": {
   "authorship_tag": "ABX9TyNjALpc0cqqbukJW5TcUaNO",
   "provenance": []
  },
  "kernelspec": {
   "display_name": "Python 3 (ipykernel)",
   "language": "python",
   "name": "python3"
  },
  "language_info": {
   "codemirror_mode": {
    "name": "ipython",
    "version": 3
   },
   "file_extension": ".py",
   "mimetype": "text/x-python",
   "name": "python",
   "nbconvert_exporter": "python",
   "pygments_lexer": "ipython3",
   "version": "3.11.5"
  }
 },
 "nbformat": 4,
 "nbformat_minor": 4
}
